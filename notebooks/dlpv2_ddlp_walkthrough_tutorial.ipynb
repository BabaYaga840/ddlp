{
 "cells": [
  {
   "cell_type": "markdown",
   "metadata": {},
   "source": [
    "# <img src=\"https://img.icons8.com/fluency/96/000000/particles.png\" style=\"height:50px;display:inline\"> Deep Dynamic Latent Particles - Tutorial\n",
    "---\n",
    "\n",
    "<a href=\"\">Tal Daniel</a>\n",
    "\n",
    "\n",
    "\n",
    "<center>\n",
    "    <a href=\"https://colab.research.google.com/github/taldatech/ddlp/blob/main/dlpv2_ddlp_walkthrough_tutorial.ipynb\"><img src=\"https://colab.research.google.com/assets/colab-badge.svg\" alt=\"Open In Colab\"/></a>\n",
    "</center>\n",
    "\n",
    "* Paper: [**Unsupervised Object-centric Video Prediction with Deep Dynamic Latent Particles**, Tal Daniel and Aviv Tamar](https://arxiv.org/abs/2306.05957)\n",
    "* GitHub: <a href=\"https://github.com/taldatech/ddlp\">ddlp-pytorch</a>\n",
    "* Wepage: <a href=\"https://taldatech.github.io/ddlp-web/\">Deep Dynamic Latent Particles</a>"
   ]
  },
  {
   "cell_type": "markdown",
   "metadata": {},
   "source": [
    "<img src=\"https://github.com/taldatech/ddlp-web/blob/main/assets/images/DDLP_GUI.gif?raw=true\" style=\"height:250px\">"
   ]
  },
  {
   "cell_type": "markdown",
   "metadata": {},
   "source": [
    "### <img src=\"https://img.icons8.com/color/96/000000/loading.png\" style=\"height:50px;display:inline\"> Running Instructions\n",
    "---\n",
    "* This Jupyter Notebook can be opened locally with Anaconda, or online via Google Colab.\n",
    "* To run online, go to https://colab.research.google.com/ and drag-and-drop the `dlpv2_ddlp_walkthrough_tutorial.ipynb` file.\n",
    "    * On Colab, note the \"directory\" icon on the left, logs, figures and checkpoints are saved in this directory.\n",
    "* To run the training on the image dataset, it is better to have a GPU. In Google Cola select `Runtime->Change runtime type->GPU`."
   ]
  },
  {
   "cell_type": "markdown",
   "metadata": {},
   "source": [
    "### <img src=\"https://img.icons8.com/color/96/000000/software-installer.png\" style=\"height:50px;display:inline\"> Requirements\n",
    "---\n",
    "* If running locally, make sure to set up the environment, preferably with <a href=\"https://anaconda.org/\">Anaconda</a> by running `conda env create -f environment.yml` or with `pip` by running `pip install -r requirements.txt`.\n",
    "* If running online on <a href=\"https://colab.research.google.com\">Google Colab</a>, run the following cell to clone the repository."
   ]
  },
  {
   "cell_type": "code",
   "execution_count": 1,
   "metadata": {},
   "outputs": [
    {
     "name": "stdout",
     "output_type": "stream",
     "text": [
      "Cloning into 'deep-latent-particles-pytorch'...\n",
      "remote: Enumerating objects: 155, done.\u001b[K\n",
      "remote: Counting objects: 100% (155/155), done.\u001b[K\n",
      "remote: Compressing objects: 100% (106/106), done.\u001b[K\n",
      "remote: Total 155 (delta 67), reused 127 (delta 43), pack-reused 0\u001b[K\n",
      "Receiving objects: 100% (155/155), 18.21 MiB | 9.09 MiB/s, done.\n",
      "Resolving deltas: 100% (67/67), done.\n"
     ]
    }
   ],
   "source": [
    "# only run this cell if running on Google Colab\n",
    "!git clone https://github.com/taldatech/ddlp.git\n",
    "%cd ddlp"
   ]
  },
  {
   "cell_type": "code",
   "execution_count": 1,
   "metadata": {},
   "outputs": [
    {
     "name": "stdout",
     "output_type": "stream",
     "text": [
      "/home/tal/projects/ddlp-pytorch\n"
     ]
    }
   ],
   "source": [
    "# make sure the notebook is run from the root directory of the project (i.e., not from inside the `notebooks` dir)\n",
    "%cd .."
   ]
  },
  {
   "cell_type": "markdown",
   "metadata": {},
   "source": [
    "### <img src=\"https://img.icons8.com/bubbles/50/000000/checklist.png\" style=\"height:50px;display:inline\"> Agenda\n",
    "---\n",
    "* [Introduction](#-Introduction)\n",
    "* [DLPv2 - Model](#-DLPv2---Model)\n",
    "    * [Prior Encoder Module (FG)](#Prior-Encoder-Module-(FG))\n",
    "    * [Posterior Encoder Module (FG)](#Posterior-Encoder-Module-(FG))\n",
    "    * [Background Encoder Module (BG)](#Background-Encoder-Module-(BG))\n",
    "    * [Decoder (FG + BG)](#Decoder-(FG-+-BG))\n",
    "    * [DLPv2 - Hyperparameters and Example Usage](#-DLPv2---Hyperparameters-and-Example-Usage)\n",
    "    * [Training Example - Random Shapes Dataset](#-Training-Example---Random-Shapes-Dataset)\n",
    "    * [Visualization and Manipulation](#Visualization-and-Manipulation)\n",
    "* [DDLP - Model](#-DDLP---Model)\n",
    "    * [Particle Tracking Posterior](#Particle-Tracking-Posterior)\n",
    "    * [Generative Predictive Dynamics with Particle Interaction Transformer (PINT)](#Generative-Predictive-Dynamics-with-Particle-Interaction-Transformer-(PINT))\n",
    "    * [DDLP - Hyperparameters and Example Usage](#-DDLP---Hyperparameters-and-Example-Usage)\n",
    "* [Credits](#-Credits)"
   ]
  },
  {
   "cell_type": "code",
   "execution_count": 2,
   "metadata": {},
   "outputs": [
    {
     "name": "stderr",
     "output_type": "stream",
     "text": [
      "/home/tal/anaconda3/envs/dlp/lib/python3.8/site-packages/tqdm/auto.py:21: TqdmWarning: IProgress not found. Please update jupyter and ipywidgets. See https://ipywidgets.readthedocs.io/en/stable/user_install.html\n",
      "  from .autonotebook import tqdm as notebook_tqdm\n"
     ]
    }
   ],
   "source": [
    "# imports\n",
    "# torch\n",
    "import torch\n",
    "# utils\n",
    "from utils.util_func import get_config\n",
    "# models\n",
    "from models import ObjectDLP, ObjectDynamicsDLP\n",
    "# datasets\n",
    "from datasets.get_dataset import get_image_dataset\n",
    "from datasets.shapes_ds import generate_shape_dataset_torch\n",
    "# training\n",
    "from train_dlp import train_dlp\n",
    "# visualization\n",
    "import matplotlib.pyplot as plt\n",
    "# configs\n",
    "import json\n",
    "\n",
    "torch.backends.cudnn.benchmark = False\n",
    "torch.backends.cudnn.deterministic = True"
   ]
  },
  {
   "cell_type": "markdown",
   "metadata": {},
   "source": [
    "### <img src=\"https://img.icons8.com/bubbles/50/000000/mention.png\" style=\"height:50px;display:inline\"> Introduction\n",
    "---\n",
    "* In this tutorial, we will give a brief overview of the deep latent particles (DLP) framework, and introduce DLPv2 and its extension to videos, DDLP.\n",
    "* DLP is a new representation of visual data that disentangles object position from appearance. \n",
    "* DLP decomposes the visual input into low-dimensional latent ``particles''. \n",
    "\n",
    "\n",
    "A foreground latent particle $$ z = [z_p, z_s, z_d, z_t, z_f] \\in \\mathbb{R}^{6 + m} $$ is a disentangled latent variable composed of the following learned stochastic latent attributes:\n",
    "\n",
    "* Position $ z_p \\sim \\mathcal{N}(\\mu_p, \\sigma_p^2) \\in \\mathbb{R}^2 $\n",
    "* Scale $ z_s \\sim \\mathcal{N}(\\mu_s, \\sigma_s^2) \\in \\mathbb{R}^2 $\n",
    "* Depth $ z_d \\sim \\mathcal{N}(\\mu_d, \\sigma_d^2) \\in \\mathbb{R} $\n",
    "* Transparency $ z_t \\sim \\text{Beta}(a_t, b_t) \\in \\mathbb{R} $\n",
    "* Visual features $ z_f \\sim \\mathcal{N}(\\mu_f, \\sigma_f^2) \\in \\mathbb{R}^m$, where $m$ is the dimension of learned visual features. \n",
    "* Background $z_{\\text{bg}} \\sim \\mathcal{N}(\\mu_{\\text{bg}}, \\sigma_{\\text{bg}}^2) \\in \\mathbb{R}^{m_{\\text{bg}}} $, always located in the center of the image and described only by $m_{\\text{bg}}$ latent background visual features."
   ]
  },
  {
   "cell_type": "markdown",
   "metadata": {},
   "source": [
    "<img src=\"https://github.com/taldatech/ddlp-web/blob/main/assets/images/latent_particle_fig.png?raw=true\" style=\"height:250px\">"
   ]
  },
  {
   "cell_type": "markdown",
   "metadata": {},
   "source": [
    "* DLP is trained with a variational autoencoder (VAE) objective with a special prior for particle positions based on a spatial-softmax architecture, and a modification of the evidence lower bound (ELBO) loss inspired by the Chamfer distance between particles."
   ]
  },
  {
   "cell_type": "markdown",
   "metadata": {},
   "source": [
    "### <img src=\"https://img.icons8.com/external-flaticons-flat-flat-icons/64/000000/external-neural-network-the-future-flaticons-flat-flat-icons.png\" style=\"height:50px;display:inline\"> DLPv2 - Model\n",
    "---\n",
    "* DLPv2 extends [DLP](https://taldatech.github.io/deep-latent-particles-web/), where the encoder is modified to account for the new attributes.\n",
    "* We separate the model to *foreground* (FG) components and *background* (BG) components, which contribute to the final reconstruction of the input image.\n",
    "* The basic blocks of DLPv2 are: *prior* encoder network (FG), posterior *attribute* encoder (FG), posterior *appearance* encoder (FG), object decoder (FG), background encoder (BG) and background decoder (BG)."
   ]
  },
  {
   "cell_type": "markdown",
   "metadata": {},
   "source": [
    "#### Prior Encoder Module (FG)\n",
    "---\n",
    "* Similarly to the original DLP, to disentangle position from appearance of the particles, we consider a conditional VAE formulation, where a prior for the keypoints is explicitly learned given an image $x$.\n",
    "* To generate a set of prior keypoints, termed *keypoint proposals* we follow a patch-based approach: the input $x \\in \\mathbb{R}^{H \\times W \\times 3}$ is split into $K_p$ patches of size $D \\times D$ (usually $D\\in\\{8, 16\\}$), and for each patch, a small convolutional neural network (CNN) followed by a spatial-softmax (SSM) layer outputs a single keypoint proposal.\n",
    "* In practice, as the set of proposals can grow large with the number of patches, we *learn* to filter the keypoints to produce a subset of $L$ prior keypoints, where $L$ is a hyper-parameter. In DLPv2, the top-$L$ keypoints with the smallest sum of empirically-calculated SSM variance $s=\\sigma_x^2 + \\sigma_y^2 +\\sigma_{xy}$ are chosen.\n",
    "* Intuitively, in regions where the activation is sharp, we expect the softmax to produce a distribution with a small covariance values, which may indicate a non-background area-of-interest, e.g., objects, lines or corners, making the low-covariance a suitable criterion for detection and filtering (note that the SSM operation is differentiable).\n",
    "\n",
    "<img src=\"https://github.com/taldatech/ddlp-web/blob/main/assets/images/prior_arch.png?raw=true\" style=\"height:220px\">\n",
    "<img src=\"https://github.com/taldatech/ddlp-web/blob/main/assets/images/ssm_fig.png?raw=true\" style=\"height:250px\">"
   ]
  },
  {
   "cell_type": "code",
   "execution_count": null,
   "metadata": {},
   "outputs": [],
   "source": [
    "# THIS CELL IS NOT MEANT TO BE RUN\n",
    "def encode_prior(self, x, global_kp=True):\n",
    "    # x: [batch_size, cdim, image_size, image_size]\n",
    "    # global_kp: set True to get the global coordinates within the image (instead of local KP inside the patch)\n",
    "    batch_size, cdim, image_size, image_size = x.shape\n",
    "    x_patches = self.img_to_patches(x)  # [batch_size, cdim, num_patches, patch_size, patch_size]\n",
    "    x_patches = x_patches.permute(0, 2, 1, 3, 4)  # [batch_size, num_patches, cdim, patch_size, patch_size]\n",
    "    x_patches = x_patches.contiguous().view(-1, cdim, self.patcher.patch_size, self.patcher.patch_size)\n",
    "    _, z = self.enc(x_patches)  # [batch_size*num_patches, n_kp, features_dim, features_dim]\n",
    "    mu_kp, var_kp = self.ssm(z, probs=False, variance=True)  # [batch_size * num_patches, n_kp, 2]\n",
    "    mu_kp = mu_kp.view(batch_size, -1, self.n_kp, 2)  # [batch_size, num_patches, n_kp, 2]\n",
    "    var_kp = var_kp.view(batch_size, mu_kp.shape[1], self.n_kp, -1)  # [batch_size, num_patches, n_kp, 3]\n",
    "    if global_kp:\n",
    "        mu_kp = self.get_global_kp(mu_kp)\n",
    "    return mu_kp, var_kp"
   ]
  },
  {
   "cell_type": "markdown",
   "metadata": {},
   "source": [
    "#### Posterior Encoder Module (FG)\n",
    "---\n",
    "* The encoding process is hierarchical and composed of 3 steps:<br> **(1)** *Anchor encoding* - a learned offset of $K$ keypoint anchors from the $L$ keypoint proposals. <br> **(2)** *Attribute encoding* - extraction of position offset, scale and transparency attributes for each particle.<br> **(3)** *Appearance encoding* - encoding the particles visual features.\n",
    "* For **(1)**, we take the top-$K$ lowest SSM-variance keypoints out of the $L$ proposals to get a set of anchors $p_K$. Then, patches are extracted by using the prior keypoint proposals $p_L \\in \\mathbb{R}^{L \\times 2}$ as input to a Spatial Transformer Network (STN). Next, a small CNN outputs features $M(x_P)$ from each patch which are flattened and fed through a feedforward network (FFN) to output the offset $o(p)$ of each anchor which is added to the original $K$ selected anchors to get a set of *modified anchor keypoints* $z_a = p_K + o_K  \\in \\mathbb{R}^{K \\times 2}$. This set of keypoint anchors approximates objects location, and we proceed to the attribute encoding step where we lock on a more accurate position and extract the rest of the spatial attributes.\n",
    "* For **(2)**, to extract the scale $z_s$, depth $z_d$ and transparency $z_t$ attributes for each particle, we extract glimpses from the anchor keypoints $z_a$ via STN as before, which are input to the *attribute encoder*  modeled as small CNN followed by a FC network that outputs the parameters of the distributions for each particle. In practice, the prior network is re-used as the *anchor encoder* $q_{\\phi}(z_a|x)$ and the *attribute encoder* $q_{\\phi}$ produces the offset from the anchors.\n",
    "* For **(3)**, with all particle attributes in hand, we extract the particle visual features with the *appearance encoder* $q_{\\phi}(z_f|x, z_p, z_s)$. \n",
    "* Note that since we used STN in all steps, all parameters are differentiable end-to-end. \n",
    "\n",
    "<img src=\"https://github.com/taldatech/ddlp-web/blob/main/assets/images/encoder_arch.png?raw=true\" style=\"height:350px\">"
   ]
  },
  {
   "cell_type": "code",
   "execution_count": null,
   "metadata": {},
   "outputs": [],
   "source": [
    "# THIS CELL IS NOT MEANT TO BE RUN\n",
    "def encode_all(self, x, deterministic=False, kp_init=None, cropped_objects_prev=None,\n",
    "               scale_prev=None, refinement_iter=False):\n",
    "    \"\"\"\n",
    "    2-stage encoding:\n",
    "    0. if kp_init is None: create evenly spaced anchors. kp_init is z_base.\n",
    "    1. attributes encoding: obj_on (z_t), depth (z_d), offset (z_o) and scale (z_s) encoding:\n",
    "        produces [obj_on_a, obj_on_b] / [mu, logvar].\n",
    "    2. features (z_f) encoding: [mu, logvar]\n",
    "    \"\"\"\n",
    "    # kp_init: [batch_size, n_kp, 2] in [-1, 1]\n",
    "    batch_size, ch, h, w = x.shape\n",
    "    # 0. create or filter anchors\n",
    "    if kp_init is None:\n",
    "        # randomly sample n_kp_enc kp\n",
    "        mu = torch.rand(batch_size, self.n_kp_enc, 2, device=x.device) * 2 - 1  # in [-1, 1]\n",
    "    elif kp_init.shape[1] > self.n_kp_enc:\n",
    "        mu = kp_init[:, :self.n_kp_enc]\n",
    "    else:\n",
    "        mu = kp_init\n",
    "    logvar = torch.zeros_like(mu)\n",
    "    z_base = mu # deterministic value for chamfer-kl\n",
    "    kp_heatmap = None  # backward compatibility, this is not used\n",
    "    # 1. posterior offsets and scale, it is okay of scale_prev is None\n",
    "    scale_in = scale_prev\n",
    "    cropped_objects_prev = cropped_objects_prev\n",
    "    particle_stats_dict = self.particle_attribute_enc(x, z_base.detach(),\n",
    "                                                      previous_objects=cropped_objects_prev,\n",
    "                                                      z_scale=scale_in)\n",
    "    # first iteration encodes the refined anchor (z_a), then a second one to lock on target better (z_o)\n",
    "    if refinement_iter:\n",
    "        mu_offset = particle_stats_dict['mu']\n",
    "        mu = z_base + mu_offset\n",
    "        z_base = mu + 0.0 * logvar\n",
    "        if scale_prev is None:\n",
    "            scale_prev = None if (noisy or warmup) else particle_stats_dict['mu_scale'].detach()\n",
    "        cropped_objects_prev = None if (noisy or warmup) else cropped_objects_prev\n",
    "        particle_stats_dict = self.particle_attribute_enc(x, z_base.detach(),\n",
    "                                                          previous_objects=cropped_objects_prev,\n",
    "                                                          z_scale=scale_prev)\n",
    "\n",
    "    mu_offset = particle_stats_dict['mu']\n",
    "    logvar_offset = particle_stats_dict['logvar']\n",
    "    mu_scale = particle_stats_dict['mu_scale']\n",
    "    logvar_scale = particle_stats_dict['logvar_scale']\n",
    "    lobj_on_a = particle_stats_dict['lobj_on_a']\n",
    "    lobj_on_b = particle_stats_dict['lobj_on_b']\n",
    "    mu_depth = particle_stats_dict['mu_depth']\n",
    "    logvar_depth = particle_stats_dict['logvar_depth']\n",
    "    # final position\n",
    "    mu_tot = z_base + mu_offset\n",
    "    logvar_tot = logvar_offset\n",
    "\n",
    "    obj_on_a = lobj_on_a.exp().clamp_min(1e-5)\n",
    "    obj_on_b = lobj_on_b.exp().clamp_min(1e-5)\n",
    "    obj_on_beta_dist = torch.distributions.Beta(obj_on_a, obj_on_b)\n",
    "\n",
    "    # reparameterize\n",
    "    if deterministic:\n",
    "        z = mu_tot\n",
    "        z_offset = mu_offset\n",
    "        z_scale = mu_scale\n",
    "        z_depth = mu_depth\n",
    "        z_obj_on = obj_on_beta_dist.mean\n",
    "    else:\n",
    "        z = reparameterize(mu_tot, logvar_tot)\n",
    "        z_scale = reparameterize(mu_scale, logvar_scale)\n",
    "        z_depth = reparameterize(mu_depth, logvar_depth)\n",
    "        z_obj_on = obj_on_beta_dist.rsample()\n",
    "\n",
    "    # 2. posterior attributes: obj_on, depth and visual features\n",
    "    obj_enc_out = self.particle_features_enc(x, z, z_scale=z_scale.detach())\n",
    "\n",
    "    mu_features = obj_enc_out['mu_features']\n",
    "    logvar_features = obj_enc_out['logvar_features']\n",
    "    cropped_objects = obj_enc_out['cropped_objects']\n",
    "\n",
    "    # reparameterize\n",
    "    if deterministic:\n",
    "        z_features = mu_features\n",
    "    else:\n",
    "        z_features = reparameterize(mu_features, logvar_features)\n",
    "\n",
    "    encode_dict = {'mu': mu, 'logvar': logvar, 'z_base': z_base, 'z': z, 'kp_heatmap': kp_heatmap,\n",
    "                   'mu_features': mu_features, 'logvar_features': logvar_features, 'z_features': z_features,\n",
    "                   'obj_on_a': obj_on_a, 'obj_on_b': obj_on_b, 'obj_on': z_obj_on,\n",
    "                   'mu_depth': mu_depth, 'logvar_depth': logvar_depth, 'z_depth': z_depth,\n",
    "                   'cropped_objects': cropped_objects,\n",
    "                   'mu_scale': mu_scale, 'logvar_scale': logvar_scale, 'z_scale': z_scale,\n",
    "                   'mu_offset': mu_offset, 'logvar_offset': logvar_offset, 'z_offset': z_offset}\n",
    "    return encode_dict"
   ]
  },
  {
   "cell_type": "markdown",
   "metadata": {},
   "source": [
    "#### Background Encoder Module (BG)\n",
    "---\n",
    "* We assign an abstract particle for the background that is always located in the center of the image and its visual features $z_{\\text{bg}}$ are encoded with a *background encoder* $q_{\\phi}(z_{\\text{bg}}|x, z_p)$ which is a CNN followed by a FC network, similarly to the original DLP. \n",
    "* The input to the background encoder is a *masked image* -- the posterior keypoints $z_p$ are used to generate $K$ masks of size $S \\times S$ that mask out the corresponding regions of the original image $x$."
   ]
  },
  {
   "cell_type": "code",
   "execution_count": null,
   "metadata": {},
   "outputs": [],
   "source": [
    "# THIS CELL IS NOT MEANT TO BE RUN\n",
    "def encode_bg(self, x, masks=None):\n",
    "    # x: [bs, ch, image_size, image_size]\n",
    "    # masks: [bs, 1, image_size, image_size]\n",
    "    batch_size, _, features_dim, _ = x.shape\n",
    "    # bg features\n",
    "    if masks is not None:\n",
    "        x_in = x * masks\n",
    "    else:\n",
    "        x_in = x\n",
    "    _, cnn_features = self.bg_cnn_enc(x_in)\n",
    "    cnn_features = cnn_features.view(batch_size, -1)  # flatten\n",
    "    bg_enc_out = self.bg_enc(cnn_features)  # [bs,, 2 * learned_features_dim]\n",
    "    mu_bg, logvar_bg = bg_enc_out.chunk(2, dim=-1)\n",
    "    \n",
    "    if deterministic:\n",
    "        z_bg = mu_bg\n",
    "    else:\n",
    "        z_bg = reparameterize(mu_bg, logvar_bg)\n",
    "    z_kp = torch.zeros(mu_bg.shape[0], 1, 2, device=x.device, dtype=torch.float)  # center of the image\n",
    "    encode_dict = {'mu_bg': mu_bg, 'logvar_bg': logvar_bg, 'z_bg': z_bg, 'z_kp': z_kp}\n",
    "\n",
    "    return encoder_dict"
   ]
  },
  {
   "cell_type": "markdown",
   "metadata": {},
   "source": [
    "#### Decoder (FG + BG)\n",
    "---\n",
    "* The decoder is composed of an *object decoder* and a *background decoder*. \n",
    "* The object decoder is a fully-connected layer followed by a small upsampling CNN that takes in a single latent particle features $z_f^{(i)}$, and decodes an RGBA patch $\\tilde{x^p_i} \\in \\mathbb{R}^{S \\times S \\times 4}$, a reconstruction of each object's appearance. Then, the depth $z_s$ and transparency $z_t$ are used to factor the alpha channels of the object, which essentially determines the order of stitching and the visibility of the particle, and $z_p$ and $z_s$ are used to position and scale the decoded patches in the full $H \\times W$ canvas, $\\hat{x}_{\\text{fg}}$, using a STN.\n",
    "* The background decoder is similar in design to standard VAEs, taking in $z_{\\text{bg}}$ which is upsampled via a FC layer followed by a CNN to generate $\\hat{x}_{\\text{bg}}$.\n",
    "* Finally, the foreground components and the background are stitched together by $\\alpha \\times \\hat{x}_{\\text{fg}} + (1-\\alpha)\\times \\hat{x}_{\\text{bg}}$, where the masks $\\alpha$ are the last channel of the RGBA glimpse output of the decoder.\n",
    "\n",
    "<img src=\"https://github.com/taldatech/ddlp-web/blob/main/assets/images/decoder_arch.png?raw=true\" style=\"height:350px\">"
   ]
  },
  {
   "cell_type": "code",
   "execution_count": null,
   "metadata": {},
   "outputs": [],
   "source": [
    "# THIS CELL IS NOT MEANT TO BE RUN\n",
    "# We show important steps in building the reconstructed image\n",
    "\n",
    "# object latents -> RGBA patches -> translate them to their original position on the canvas\n",
    "def get_objects_alpha_rgb(self, z_kp, z_features, z_scale=None, translation=None, noisy=False):\n",
    "    # decode the latent particles into RGBA glimpses and place them on the canvas\n",
    "    dec_objects = self.object_dec(z_features)  # [bs * n_kp, 4, patch_size, patch_size]\n",
    "    dec_objects = dec_objects.view(-1, self.n_kp_enc,\n",
    "                                   *dec_objects.shape[1:])  # [bs, n_kp, 4, patch_size, patch_size]\n",
    "    # translate patches - place the decoded glimpses on the canvas\n",
    "    dec_objects_trans = self.translate_patches(z_kp, dec_objects, z_scale, translation)\n",
    "    dec_objects_trans = dec_objects_trans.clamp(0, 1)  # STN can change values to be < 0\n",
    "    # dec_objects_trans: [bs, n_kp, 3, im_size, im_size]\n",
    "    # multiply by alpha channel\n",
    "    a_obj, rgb_obj = torch.split(dec_objects_trans, [1, 3], dim=2)\n",
    "    return dec_objects, a_obj, rgb_obj\n",
    "\n",
    "# factorize the depth\n",
    "def get_objects_alpha_rgb_with_depth(self, a_obj, rgb_obj, obj_on, z_depth, eps=1e-5):\n",
    "    # stitching the glimpses by factoring the alpha maps and the particle's inferred depth\n",
    "    # obj_on: [bs, n_kp, 1]\n",
    "    # z_depth: [bs, n_kp, 1]\n",
    "    # turn off inactive particles\n",
    "    a_obj = obj_on[:, :, None, None, None] * a_obj  # [bs, n_kp, 1, im_size, im_size]\n",
    "    rgba_obj = a_obj * rgb_obj\n",
    "    # importance map\n",
    "    importance_map = a_obj * torch.sigmoid(-z_depth[:, :, :, None, None])\n",
    "    # normalize\n",
    "    importance_map = importance_map / (torch.sum(importance_map, dim=1, keepdim=True) + eps)\n",
    "    # this imitates softmax to move objects on the depth axis\n",
    "    dec_objects_trans = (rgba_obj * importance_map).sum(dim=1)\n",
    "    alpha_mask = 1.0 - (importance_map * a_obj).sum(dim=1)\n",
    "    a_obj = importance_map * a_obj\n",
    "    return a_obj, alpha_mask, dec_objects_trans\n",
    "\n",
    "def decode_all(self, z, z_features, z_bg, obj_on, z_depth, z_scale):\n",
    "    # a wrapper function to convert latent particles to an RGB image\n",
    "    # foreground\n",
    "    fg_dict = self.fg_module.decode_all(z, z_features, obj_on, z_depth=z_depth, z_scale=z_scale)\n",
    "    dec_objects = fg_dict['dec_objects']\n",
    "    dec_objects_trans = fg_dict['dec_objects_trans']\n",
    "    alpha_masks = fg_dict['alpha_masks']\n",
    "    bg_mask = fg_dict['bg_mask']\n",
    "    # background\n",
    "    bg = self.bg_module.decode_all(z_bg)\n",
    "    # stitch the final image\n",
    "    rec = bg_mask * bg + dec_objects_trans\n",
    "    decoder_out = {'rec': rec, 'dec_objects': dec_objects, 'dec_objects_trans': dec_objects_trans,\n",
    "                   'bg': bg, 'alpha_masks': alpha_masks}\n",
    "    return decoder_out"
   ]
  },
  {
   "cell_type": "markdown",
   "metadata": {},
   "source": [
    "### <img src=\"https://img.icons8.com/external-bearicons-gradient-bearicons/64/external-Example-miscellany-texts-and-badges-bearicons-gradient-bearicons.png\" style=\"height:50px;display:inline\"> DLPv2 - Hyperparameters and Example Usage\n",
    "---\n",
    "* We will now create an instance of DLPv2 and look at its functions outputs.\n",
    "* More details are available in `/docs/example_usage.py`."
   ]
  },
  {
   "cell_type": "code",
   "execution_count": 3,
   "metadata": {},
   "outputs": [
    {
     "name": "stdout",
     "output_type": "stream",
     "text": [
      "--- DLPv2 ---\n",
      "model.info():\n",
      "prior (patch) kp filtering: 64 -> prior kp: 15\n",
      "prior (patch) kp filtering method: variance\n",
      "prior patch size: 8\n",
      "# posterior particles: 12\n",
      "particle visual feature dim: 6\n",
      "bg visual feature dim: 6\n",
      "posterior object patch size: 16\n",
      "cnn pre-pool out sizes: prior-torch.Size([64, 2, 2]), obj enc-torch.Size([64, 4, 4]), bg enc-torch.Size([128, 16, 16])\n",
      "object decoder # upsampling layers: 1\n",
      "tracking: False, correlation maps for tracking: False\n",
      "trainable parameters: 4614508 (4.6145M)\n",
      "estimated size on disk: 17.603MB\n",
      "\n"
     ]
    }
   ],
   "source": [
    "# example hyper-parameters\n",
    "batch_size = 32\n",
    "beta_kl = 0.1\n",
    "beta_rec = 1.0\n",
    "kl_balance = 0.001  # balance between spatial attributes (x, y, scale, depth) and visual features\n",
    "n_kp_enc = 12\n",
    "n_kp_prior = 15\n",
    "patch_size = 8  # patch size for the prior to generate prior proposals\n",
    "learned_feature_dim = 6  # visual features\n",
    "anchor_s = 0.25  # effective patch size for the posterior: anchor_s * image_size\n",
    "\n",
    "image_size = 64\n",
    "ch = 3\n",
    "enc_channels = [32, 64, 128]\n",
    "prior_channels = (32, 32, 64)\n",
    "\n",
    "use_correlation_heatmaps = False  # for tracking, set True to use correlation heatmaps between patches\n",
    "\n",
    "# device = torch.device(\"cuda:0\" if torch.cuda.is_available() else \"cpu\")\n",
    "device = torch.device(\"cpu\")\n",
    "\n",
    "print(\"--- DLPv2 ---\")\n",
    "\n",
    "# create model\n",
    "model = ObjectDLP(cdim=ch, enc_channels=enc_channels, prior_channels=prior_channels,\n",
    "                  image_size=image_size, learned_feature_dim=learned_feature_dim,\n",
    "                  patch_size=patch_size, n_kp_enc=n_kp_enc, n_kp_prior=n_kp_prior,\n",
    "                  anchor_s=anchor_s, use_correlation_heatmaps=use_correlation_heatmaps).to(device)\n",
    "print(f'model.info():')\n",
    "print(model.info())"
   ]
  },
  {
   "cell_type": "code",
   "execution_count": 4,
   "metadata": {},
   "outputs": [
    {
     "name": "stdout",
     "output_type": "stream",
     "text": [
      "model(x) output:\n",
      "kp_p: torch.Size([32, 15, 2])\n",
      "rec: torch.Size([32, 3, 64, 64])\n",
      "mu: torch.Size([32, 12, 2])\n",
      "logvar: torch.Size([32, 12, 2])\n",
      "z: torch.Size([32, 12, 2])\n",
      "z_base: torch.Size([32, 12, 2])\n",
      "z_kp_bg: torch.Size([32, 1, 2])\n",
      "mu_offset: torch.Size([32, 12, 2])\n",
      "logvar_offset: torch.Size([32, 12, 2])\n",
      "mu_features: torch.Size([32, 12, 6])\n",
      "logvar_features: torch.Size([32, 12, 6])\n",
      "z_features: torch.Size([32, 12, 6])\n",
      "bg: torch.Size([32, 3, 64, 64])\n",
      "mu_bg: torch.Size([32, 6])\n",
      "logvar_bg: torch.Size([32, 6])\n",
      "z_bg: torch.Size([32, 6])\n",
      "cropped_objects_original: torch.Size([32, 12, 3, 16, 16])\n",
      "obj_on_a: torch.Size([32, 12])\n",
      "obj_on_b: torch.Size([32, 12])\n",
      "obj_on: torch.Size([32, 12])\n",
      "dec_objects_original: torch.Size([32, 12, 4, 16, 16])\n",
      "dec_objects: torch.Size([32, 3, 64, 64])\n",
      "mu_depth: torch.Size([32, 12, 1])\n",
      "logvar_depth: torch.Size([32, 12, 1])\n",
      "z_depth: torch.Size([32, 12, 1])\n",
      "mu_scale: torch.Size([32, 12, 2])\n",
      "logvar_scale: torch.Size([32, 12, 2])\n",
      "z_scale: torch.Size([32, 12, 2])\n",
      "alpha_masks: torch.Size([32, 12, 1, 64, 64])\n"
     ]
    }
   ],
   "source": [
    "# dummy data\n",
    "x = torch.rand(batch_size, ch, image_size, image_size, device=device)\n",
    "# complete forward\n",
    "model_output = model(x)\n",
    "# let's see what's inside\n",
    "print(f'model(x) output:')\n",
    "for k in model_output.keys():\n",
    "    print(f'{k}: {model_output[k].shape}')"
   ]
  },
  {
   "cell_type": "markdown",
   "metadata": {},
   "source": [
    "`kp_p`: torch.Size([32, 15, 2])  # prior proposals\n",
    "\n",
    "`rec`: torch.Size([32, 3, 64, 64])  # full reconstructions\n",
    "\n",
    "`mu`: torch.Size([32, 12, 2])  # position mu\n",
    "\n",
    "`logvar`: torch.Size([32, 12, 2])  # position logvar\n",
    "\n",
    "`z`: torch.Size([32, 12, 2])  # position z\n",
    "\n",
    "`z_base`: torch.Size([32, 12, 2])  # position anchors (mu = z_base + mu_offset)\n",
    "\n",
    "`z_kp_bg`: torch.Size([32, 1, 2])  # constants (0.0, 0.0) for the bg kp\n",
    "\n",
    "`mu_offset`: torch.Size([32, 12, 2])  # position offset mu\n",
    "\n",
    "`logvar_offset`: torch.Size([32, 12, 2])  # position offset logvar\n",
    "\n",
    "`mu_features`: torch.Size([32, 12, 6])  # visual features mu\n",
    "\n",
    "`logvar_features`: torch.Size([32, 12, 6])  # visual features logvar\n",
    "\n",
    "`z_features`: torch.Size([32, 12, 6])  # visual features z\n",
    "\n",
    "`bg`: torch.Size([32, 3, 64, 64])  # bg reconstructions\n",
    "\n",
    "`mu_bg`: torch.Size([32, 6])  # bg visual features mu\n",
    "\n",
    "`logvar_bg`: torch.Size([32, 6])  # bg visual features logvar\n",
    "\n",
    "`z_bg`: torch.Size([32, 6])  # bg visual features z\n",
    "\n",
    "`cropped_objects_original`: torch.Size([32, 12, 3, 16, 16])  # extracted patches from the original image\n",
    "\n",
    "`obj_on_a`: torch.Size([32, 12])  # transparency beta distribution \"a\" parameter\n",
    "\n",
    "`obj_on_b`: torch.Size([32, 12])  # transparency beta distribution \"b\" parameter\n",
    "\n",
    "`obj_on`: torch.Size([32, 12])  # transparency sample per particle\n",
    "\n",
    "`dec_objects_original`: torch.Size([32, 12, 4, 16, 16])  # decoded glimpses (rgb + alpha channel)\n",
    "\n",
    "`dec_objects`: torch.Size([32, 3, 64, 64])  # decoded foreground (no bg)\n",
    "\n",
    "`mu_depth`: torch.Size([32, 12, 1])  # depth mu\n",
    "\n",
    "`logvar_depth`: torch.Size([32, 12, 1])  # depth logvar\n",
    "\n",
    "`z_depth`: torch.Size([32, 12, 1])  # depth z\n",
    "\n",
    "`mu_scale`: torch.Size([32, 12, 2])  # scale mu\n",
    "\n",
    "`logvar_scale`: torch.Size([32, 12, 2])  # scale logvar\n",
    "\n",
    "`z_scale`: torch.Size([32, 12, 2])  # scale z\n",
    "\n",
    "`alpha_masks`: torch.Size([32, 12, 1, 64, 64])  # objects masks"
   ]
  },
  {
   "cell_type": "code",
   "execution_count": 5,
   "metadata": {},
   "outputs": [
    {
     "name": "stdout",
     "output_type": "stream",
     "text": [
      "model.calc_elbo(): model losses:\n",
      "loss: 1092.222412109375\n",
      "psnr: 10.777459144592285\n",
      "kl: 648.3236694335938\n",
      "loss_rec: 1027.3900146484375\n",
      "obj_on_l1: 6.027878761291504\n",
      "loss_kl_kp: 260.6050109863281\n",
      "loss_kl_feat: 0.1483308970928192\n",
      "loss_kl_obj_on: 14.374871253967285\n",
      "loss_kl_scale: 373.34356689453125\n",
      "loss_kl_depth: 0.007742627523839474\n"
     ]
    }
   ],
   "source": [
    "# loss calculation\n",
    "all_losses = model.calc_elbo(x, model_output, beta_kl=beta_kl,\n",
    "                             beta_rec=beta_rec, kl_balance=kl_balance,\n",
    "                             recon_loss_type=\"mse\")\n",
    "# let's see what's inside\n",
    "print(f'model.calc_elbo(): model losses:')\n",
    "for k in all_losses.keys():\n",
    "    print(f'{k}: {all_losses[k]}')"
   ]
  },
  {
   "cell_type": "markdown",
   "metadata": {},
   "source": [
    "`loss`: the complete loss (for `loss.backward()`)\n",
    "\n",
    "`psnr`: mean PSNR\n",
    "\n",
    "`kl`: complete kl-divergence (of all components)\n",
    "\n",
    "`loss_rec`: reconstruction loss\n",
    "\n",
    "`obj_on_l1`: if all particles are \"on\" then obj_on_l1=n_particles, effective # of visible particles\n",
    "\n",
    "`loss_kl_kp`: kl of the position\n",
    "\n",
    "`loss_kl_feat`: kl of the visual features\n",
    "\n",
    "`loss_kl_obj_on`: kl of the transparency\n",
    "\n",
    "`loss_kl_scale`: kl of the scale\n",
    "\n",
    "`loss_kl_depth`: kl of the depth"
   ]
  },
  {
   "cell_type": "markdown",
   "metadata": {},
   "source": [
    "###  <img src=\"https://img.icons8.com/external-icongeek26-linear-colour-icongeek26/64/000000/external-shapes-graphic-design-icongeek26-linear-colour-icongeek26.png\" style=\"height:50px;display:inline\"> Training Example - Random Shapes Dataset\n",
    "---\n",
    "* The model is optimized as a variational autoencoder (VAE) with objective of maximizing the evidence lower bound (ELBO): $$ \\log p_\\theta(x) \\geq \\mathbb{E}_{q(z|x)} \\left[\\log p_\\theta(x|z)\\right] - KL(q(z|x) \\Vert p(z)) \\doteq ELBO(x) $$\n",
    "* The ELBO is decomposed to the <i>reconstruction error</i> and a <i>KL-divergence</i> regularization term.\n",
    "* Let's take a look at data for the tutorial: images of random shapes of different sizes and colors."
   ]
  },
  {
   "cell_type": "code",
   "execution_count": 6,
   "metadata": {},
   "outputs": [
    {
     "name": "stderr",
     "output_type": "stream",
     "text": [
      "100%|██████████████████████████████████████████████████████████████████████████████████████████████████████████████| 5/5 [00:00<00:00, 832.53it/s]"
     ]
    },
    {
     "name": "stdout",
     "output_type": "stream",
     "text": [
      "sample_images: <torch.utils.data.dataset.TensorDataset object at 0x7fa3d43ef1c0>\n"
     ]
    },
    {
     "name": "stderr",
     "output_type": "stream",
     "text": [
      "\n"
     ]
    },
    {
     "data": {
      "image/png": "[encoded data removed]",
      "text/plain": [
       "<Figure size 1000x200 with 5 Axes>"
      ]
     },
     "metadata": {},
     "output_type": "display_data"
    }
   ],
   "source": [
    "%matplotlib inline\n",
    "sample_images = generate_shape_dataset_torch(img_size=64, num_images=5)  # [5, 3, 64, 64]\n",
    "print(f'sample_images: {sample_images}')\n",
    "# plot\n",
    "fig = plt.figure(figsize=(10, 2))\n",
    "for i in range(len(sample_images)):\n",
    "    ax = fig.add_subplot(1, len(sample_images), i + 1)\n",
    "    ax.imshow(sample_images[i][0].permute(1, 2, 0).data.cpu())\n",
    "    ax.set_axis_off()"
   ]
  },
  {
   "cell_type": "markdown",
   "metadata": {},
   "source": [
    "#### Hyper-parameters\n",
    "---\n",
    "DLP has some trivial hyper-parameters just like any other model (e.g., learning rate, batch size and etc...), and the rest are described below:\n",
    "\n",
    "* `ds`: dataset name (str)\n",
    "* `enc_channels`: channels for the posterior CNN (takes in the whole image)\n",
    "* `prior_channels`: channels for prior CNN (takes in patches)\n",
    "* `n_kp`: number of kp to extract from each (!) patch\n",
    "* `n_kp_prior`: number of kp to filter from the set of prior kp (of size n_kp x num_patches)\n",
    "* `n_kp_enc`: number of posterior kp to be learned (this is the actual number of kp that will be learnt)\n",
    "* `pad_mode`: padding for the CNNs, 'zeros' or  'replicate' (default)\n",
    "* `patch_size`: patch size for the prior KP proposals network (not to be confused with the glimpse size)\n",
    "* `learned_feature_dim`: the latent visual features dimensions extracted from glimpses.\n",
    "* `bg_learned_feature_dim`: the latent visual features dimensions extracted from the background.\n",
    "* `anchor_s`: defines the glimpse size as a ratio of image_size (e.g., 0.25 for image_size=128 -> glimpse_size=32)\n",
    "* `topk`: the number top-k particles with the lowest variance (highest confidence) to filter for the plots.\n",
    "* `warmup_epoch`: (used for the Object Model) number of epochs where only the object decoder is trained.\n",
    "* `recon_loss_type`: tpe of pixel reconstruction loss (\"mse\", \"vgg\").\n",
    "* `beta_rec`: coefficient for the reconstruction loss (we use 1.0).\n",
    "* `beta_kl`: coefficient for the KL divergence term in the loss.\n",
    "* `kl_balance`: coefficient for the balance between the KL of the attributes and the KL of the visual features, `kl_loss = beta_kl * (kl_balance * chamfer_kl + kl_attributes + kl_balance * kl_features)`\n",
    "* `filtering_heuristic`: method to filter particles from the prior proposals - 'distance' (DLPv1, distance from patch center), `varaince` (DLPv2, SSM varaince as described above), `random` (self-explanatory), `none` (uses MLP-Mixer to learn coordiantes).\n",
    "* `use_tracking`: track particles across frames (used in DDLP, but can also be used with DLPv2, given that the dataset returns sequence of frames).\n",
    "* `use_correlation_heatmaps`: if `use_tracking` is `True` and `use_correlation_heatmaps` is `True`, the tracking process will compute correlation heatmaps between consecutive frames to better lock on the particle location.\n",
    "* `scheduler_gamma`: we use `StepLR` scheduler for the learning rate, this hyper-parameter determines the LR decrease factor.\n",
    "* DDLP related hyper-parameters: `timestep_horizon`, `pint_layers`, `pint_heads`, `pint_dim`, `beta_dyn`, `beta_dyn_rec`, `num_static_frames`, `animation_fps`, `cond_steps`, `animation_horizon`"
   ]
  },
  {
   "cell_type": "code",
   "execution_count": 7,
   "metadata": {},
   "outputs": [
    {
     "name": "stdout",
     "output_type": "stream",
     "text": [
      "{'ds': 'shapes', 'root': None, 'device': 'cuda', 'batch_size': 32, 'lr': 0.0002, 'kp_activation': 'tanh', 'pad_mode': 'replicate', 'load_model': False, 'pretrained_path': None, 'num_epochs': 50, 'n_kp': 1, 'recon_loss_type': 'mse', 'sigma': 1.0, 'beta_kl': 0.05, 'beta_rec': 1.0, 'patch_size': 8, 'topk': 10, 'n_kp_enc': 10, 'eval_epoch_freq': 1, 'learned_feature_dim': 6, 'n_kp_prior': 64, 'weight_decay': 0.0, 'kp_range': [-1, 1], 'warmup_epoch': 1, 'dropout': 0.0, 'iou_thresh': 0.2, 'anchor_s': 0.25, 'kl_balance': 0.001, 'image_size': 64, 'ch': 3, 'enc_channels': [32, 64, 128], 'prior_channels': [16, 32, 64], 'timestep_horizon': 10, 'predict_delta': True, 'beta_dyn': 1.0, 'scale_std': 1.0, 'offset_std': 1.0, 'obj_on_alpha': 0.1, 'obj_on_beta': 0.1, 'beta_dyn_rec': 1.0, 'num_static_frames': 4, 'pint_layers': 6, 'pint_heads': 8, 'pint_dim': 256, 'run_prefix': '_dlp_tut', 'animation_horizon': 100, 'eval_im_metrics': True, 'use_resblock': False, 'scheduler_gamma': 0.95, 'adam_betas': [0.9, 0.999], 'adam_eps': 0.0001, 'train_enc_prior': True, 'start_dyn_epoch': 0, 'cond_steps': 10, 'animation_fps': 0.06, 'use_correlation_heatmaps': False, 'enable_enc_attn': False, 'filtering_heuristic': 'variance', 'use_tracking': False}\n"
     ]
    }
   ],
   "source": [
    "# lets take a look at the config file and modify it for the tutorial\n",
    "shapes_config = get_config('configs/shapes.json')\n",
    "shapes_config['beta_kl'] = 0.05\n",
    "shapes_config['n_kp_enc'] = 10\n",
    "shapes_config['n_kp_prior'] = 64\n",
    "shapes_config['run_prefix'] = '_dlp_tut'\n",
    "shapes_config['filtering_heuristic'] = 'variance'\n",
    "shapes_config['num_epochs'] = 50\n",
    "print(shapes_config)\n",
    "# save config\n",
    "conf_path = f'configs/dlp_tut.json'\n",
    "with open(conf_path, 'w') as outfile:\n",
    "    json.dump(shapes_config, outfile, indent=2)"
   ]
  },
  {
   "cell_type": "code",
   "execution_count": 8,
   "metadata": {},
   "outputs": [
    {
     "name": "stderr",
     "output_type": "stream",
     "text": [
      "100%|█████████████████████████████████████████████████████████████████████████████████████████████████████| 40000/40000 [00:17<00:00, 2303.37it/s]\n"
     ]
    },
    {
     "name": "stdout",
     "output_type": "stream",
     "text": [
      "prior (patch) kp filtering: 64 -> prior kp: 64\n",
      "prior (patch) kp filtering method: variance\n",
      "prior patch size: 8\n",
      "# posterior particles: 10\n",
      "particle visual feature dim: 6\n",
      "bg visual feature dim: 6\n",
      "posterior object patch size: 16\n",
      "cnn pre-pool out sizes: prior-torch.Size([64, 2, 2]), obj enc-torch.Size([64, 4, 4]), bg enc-torch.Size([128, 16, 16])\n",
      "object decoder # upsampling layers: 1\n",
      "tracking: False, correlation maps for tracking: False\n",
      "trainable parameters: 4578460 (4.5785M)\n",
      "estimated size on disk: 17.465MB\n",
      "\n",
      "Adjusting learning rate of group 0 to 2.0000e-04.\n"
     ]
    },
    {
     "name": "stderr",
     "output_type": "stream",
     "text": [
      "epoch #0 (warmup): 100%|███████████████████████████████████████████| 1250/1250 [01:10<00:00, 17.70it/s, kl=0.396, loss=12.5, on_l1=6.24, rec=12.5]\n"
     ]
    },
    {
     "name": "stdout",
     "output_type": "stream",
     "text": [
      "Adjusting learning rate of group 0 to 1.9000e-04.\n",
      "epoch 0 summary\n",
      "loss: 49.456, rec: 46.114, kl: 66.832\n",
      "kl_balance: 0.001, kl_kp: 19.102, kl_feat: 308.179\n",
      "kl_scale: 47.040, kl_depth: 0.001, kl_obj_on: 0.382\n",
      "mu max: 0.9598026871681213, mu min: -0.9579195976257324\n",
      "mu offset max: 0.00034493952989578247, mu offset min: -0.00023021548986434937\n",
      "val loss (freq: 1): 100000000.000, best: 100000000.000 @ epoch: 0\n",
      "obj_on max: 0.9999998807907104, obj_on min: 6.335063533874517e-19\n",
      "scale max: 0.1876363903284073, scale min: 0.18738868832588196\n",
      "depth max: 0.00047338567674160004, depth min: -0.00027572549879550934\n",
      "val lpips (freq: 1): 100000000.000, best: 100000000.000 @ epoch: 0\n",
      "\n",
      "bb scores: max: 9.21, min: 0.00, mean: 5.74\n",
      "\n",
      "validation step...\n"
     ]
    },
    {
     "name": "stderr",
     "output_type": "stream",
     "text": [
      "100%|███████████████████████████████████████████████████████████████████████████████████████████████████████| 2000/2000 [00:00<00:00, 2356.64it/s]\n"
     ]
    },
    {
     "name": "stdout",
     "output_type": "stream",
     "text": [
      "validation loss: 2595.674\n",
      "\n",
      "validation loss updated: 100000000.000 -> 2595.674\n",
      "\n"
     ]
    },
    {
     "name": "stderr",
     "output_type": "stream",
     "text": [
      "epoch #1 (noisy): 100%|███████████████████████████████████████████████| 1250/1250 [01:15<00:00, 16.55it/s, kl=55.2, loss=131, on_l1=5.29, rec=129]\n"
     ]
    },
    {
     "name": "stdout",
     "output_type": "stream",
     "text": [
      "Adjusting learning rate of group 0 to 1.8050e-04.\n",
      "epoch 1 summary\n",
      "loss: 310.466, rec: 307.837, kl: 52.580\n",
      "kl_balance: 0.001, kl_kp: 21.847, kl_feat: 512.894\n",
      "kl_scale: 7.025, kl_depth: 51.122, kl_obj_on: 23.144\n",
      "mu max: 0.9047810435295105, mu min: -0.8628158569335938\n",
      "mu offset max: 0.1742224395275116, mu offset min: -0.12809531390666962\n",
      "val loss (freq: 1): 2595.674, best: 2595.674 @ epoch: 0\n",
      "obj_on max: 0.9266635775566101, obj_on min: 0.1958225518465042\n",
      "scale max: 0.21753080189228058, scale min: 0.19027623534202576\n",
      "depth max: -0.25085583329200745, depth min: -1.4959204196929932\n",
      "val lpips (freq: 1): 100000000.000, best: 100000000.000 @ epoch: 0\n",
      "\n",
      "bb scores: max: 14.13, min: 2.56, mean: 7.36\n",
      "\n",
      "validation step...\n"
     ]
    },
    {
     "name": "stderr",
     "output_type": "stream",
     "text": [
      "100%|███████████████████████████████████████████████████████████████████████████████████████████████████████| 2000/2000 [00:00<00:00, 2330.90it/s]\n"
     ]
    },
    {
     "name": "stdout",
     "output_type": "stream",
     "text": [
      "validation loss: 91.431\n",
      "\n",
      "validation loss updated: 2595.674 -> 91.431\n",
      "\n"
     ]
    },
    {
     "name": "stderr",
     "output_type": "stream",
     "text": [
      "100%|███████████████████████████████████████████████████████████████████████████████████████████████████████| 2000/2000 [00:00<00:00, 2315.40it/s]\n",
      "100%|█████████████████████████████████████████████████████████████████████████████████████████████████████████████| 63/63 [00:02<00:00, 25.76it/s]\n"
     ]
    },
    {
     "name": "stdout",
     "output_type": "stream",
     "text": [
      "validation: lpips: 0.189, psnr: 22.334, ssim: 0.622\n",
      "\n",
      "validation lpips updated: 100000000.000 -> 0.189\n",
      "\n"
     ]
    },
    {
     "name": "stderr",
     "output_type": "stream",
     "text": [
      "epoch #2: 100%|██████████████████████████████████████████████████████| 1250/1250 [01:15<00:00, 16.54it/s, kl=147, loss=31.8, on_l1=8.54, rec=24.4]\n"
     ]
    },
    {
     "name": "stdout",
     "output_type": "stream",
     "text": [
      "Adjusting learning rate of group 0 to 1.7147e-04.\n",
      "epoch 2 summary\n",
      "loss: 46.952, rec: 39.670, kl: 145.653\n",
      "kl_balance: 0.001, kl_kp: 68.463, kl_feat: 605.170\n",
      "kl_scale: 44.124, kl_depth: 24.531, kl_obj_on: 32.435\n",
      "mu max: 0.8263490200042725, mu min: -0.9703092575073242\n",
      "mu offset max: 0.14034375548362732, mu offset min: -0.1455783247947693\n",
      "val loss (freq: 1): 91.431, best: 91.431 @ epoch: 1\n",
      "obj_on max: 0.9999956488609314, obj_on min: 0.16856524348258972\n",
      "scale max: 0.2960526943206787, scale min: 0.1744144856929779\n",
      "depth max: -0.9534350633621216, depth min: -1.7350070476531982\n",
      "val lpips (freq: 1): 0.189, best: 0.189 @ epoch: 1\n",
      "\n",
      "bb scores: max: 19.00, min: 1.97, mean: 14.17\n",
      "\n",
      "validation step...\n"
     ]
    },
    {
     "name": "stderr",
     "output_type": "stream",
     "text": [
      "100%|███████████████████████████████████████████████████████████████████████████████████████████████████████| 2000/2000 [00:00<00:00, 2297.41it/s]\n"
     ]
    },
    {
     "name": "stdout",
     "output_type": "stream",
     "text": [
      "validation loss: 31.156\n",
      "\n",
      "validation loss updated: 91.431 -> 31.156\n",
      "\n"
     ]
    },
    {
     "name": "stderr",
     "output_type": "stream",
     "text": [
      "100%|███████████████████████████████████████████████████████████████████████████████████████████████████████| 2000/2000 [00:00<00:00, 2305.70it/s]\n",
      "100%|█████████████████████████████████████████████████████████████████████████████████████████████████████████████| 63/63 [00:02<00:00, 26.53it/s]\n"
     ]
    },
    {
     "name": "stdout",
     "output_type": "stream",
     "text": [
      "validation: lpips: 0.039, psnr: 28.062, ssim: 0.771\n",
      "\n",
      "validation lpips updated: 0.189 -> 0.039\n",
      "\n"
     ]
    },
    {
     "name": "stderr",
     "output_type": "stream",
     "text": [
      "epoch #3: 100%|██████████████████████████████████████████████████████| 1250/1250 [01:13<00:00, 17.09it/s, kl=150, loss=28.4, on_l1=8.27, rec=20.9]\n"
     ]
    },
    {
     "name": "stdout",
     "output_type": "stream",
     "text": [
      "Adjusting learning rate of group 0 to 1.6290e-04.\n",
      "epoch 3 summary\n",
      "loss: 28.728, rec: 21.485, kl: 144.871\n",
      "kl_balance: 0.001, kl_kp: 72.590, kl_feat: 656.592\n",
      "kl_scale: 45.552, kl_depth: 16.573, kl_obj_on: 26.056\n",
      "mu max: 0.8081141710281372, mu min: -0.9387999773025513\n",
      "mu offset max: 0.21826054155826569, mu offset min: -0.2416737675666809\n",
      "val loss (freq: 1): 31.156, best: 31.156 @ epoch: 2\n",
      "obj_on max: 0.9999998807907104, obj_on min: 0.24762721359729767\n",
      "scale max: 0.27518436312675476, scale min: 0.16766764223575592\n",
      "depth max: 1.270086646080017, depth min: -2.323307752609253\n",
      "val lpips (freq: 1): 0.039, best: 0.039 @ epoch: 2\n",
      "\n",
      "bb scores: max: 20.38, min: 3.11, mean: 14.74\n",
      "\n",
      "validation step...\n"
     ]
    },
    {
     "name": "stderr",
     "output_type": "stream",
     "text": [
      "100%|███████████████████████████████████████████████████████████████████████████████████████████████████████| 2000/2000 [00:00<00:00, 2304.09it/s]\n"
     ]
    },
    {
     "name": "stdout",
     "output_type": "stream",
     "text": [
      "validation loss: 26.088\n",
      "\n",
      "validation loss updated: 31.156 -> 26.088\n",
      "\n"
     ]
    },
    {
     "name": "stderr",
     "output_type": "stream",
     "text": [
      "100%|███████████████████████████████████████████████████████████████████████████████████████████████████████| 2000/2000 [00:00<00:00, 2340.95it/s]\n",
      "100%|█████████████████████████████████████████████████████████████████████████████████████████████████████████████| 63/63 [00:02<00:00, 26.31it/s]\n"
     ]
    },
    {
     "name": "stdout",
     "output_type": "stream",
     "text": [
      "validation: lpips: 0.033, psnr: 29.624, ssim: 0.838\n",
      "\n",
      "validation lpips updated: 0.039 -> 0.033\n",
      "\n"
     ]
    },
    {
     "name": "stderr",
     "output_type": "stream",
     "text": [
      "epoch #4: 100%|██████████████████████████████████████████████████████| 1250/1250 [01:15<00:00, 16.55it/s, kl=147, loss=27.8, on_l1=8.64, rec=20.4]\n"
     ]
    },
    {
     "name": "stdout",
     "output_type": "stream",
     "text": [
      "Adjusting learning rate of group 0 to 1.5476e-04.\n",
      "epoch 4 summary\n",
      "loss: 24.863, rec: 17.645, kl: 144.365\n",
      "kl_balance: 0.001, kl_kp: 74.910, kl_feat: 640.035\n",
      "kl_scale: 45.093, kl_depth: 23.696, kl_obj_on: 23.699\n",
      "mu max: 0.792693018913269, mu min: -1.0020548105239868\n",
      "mu offset max: 0.18424411118030548, mu offset min: -0.1669313609600067\n",
      "val loss (freq: 1): 26.088, best: 26.088 @ epoch: 3\n",
      "obj_on max: 0.9999998807907104, obj_on min: 0.24760721623897552\n",
      "scale max: 0.2845818102359772, scale min: 0.1819409430027008\n",
      "depth max: 1.9113836288452148, depth min: -2.6728687286376953\n",
      "val lpips (freq: 1): 0.033, best: 0.033 @ epoch: 3\n",
      "\n",
      "bb scores: max: 19.75, min: 3.02, mean: 15.00\n",
      "\n",
      "validation step...\n"
     ]
    },
    {
     "name": "stderr",
     "output_type": "stream",
     "text": [
      "100%|███████████████████████████████████████████████████████████████████████████████████████████████████████| 2000/2000 [00:00<00:00, 2286.22it/s]\n"
     ]
    },
    {
     "name": "stdout",
     "output_type": "stream",
     "text": [
      "validation loss: 25.270\n",
      "\n",
      "validation loss updated: 26.088 -> 25.270\n",
      "\n"
     ]
    },
    {
     "name": "stderr",
     "output_type": "stream",
     "text": [
      "100%|███████████████████████████████████████████████████████████████████████████████████████████████████████| 2000/2000 [00:00<00:00, 2341.70it/s]\n",
      "100%|█████████████████████████████████████████████████████████████████████████████████████████████████████████████| 63/63 [00:02<00:00, 26.32it/s]\n"
     ]
    },
    {
     "name": "stdout",
     "output_type": "stream",
     "text": [
      "validation: lpips: 0.034, psnr: 30.107, ssim: 0.889\n",
      "\n"
     ]
    },
    {
     "name": "stderr",
     "output_type": "stream",
     "text": [
      "epoch #5: 100%|██████████████████████████████████████████████████████| 1250/1250 [01:13<00:00, 16.97it/s, kl=145, loss=22.2, on_l1=8.05, rec=14.9]\n"
     ]
    },
    {
     "name": "stdout",
     "output_type": "stream",
     "text": [
      "Adjusting learning rate of group 0 to 1.4702e-04.\n",
      "epoch 5 summary\n",
      "loss: 22.986, rec: 15.781, kl: 144.094\n",
      "kl_balance: 0.001, kl_kp: 76.192, kl_feat: 639.448\n",
      "kl_scale: 44.780, kl_depth: 27.005, kl_obj_on: 22.455\n",
      "mu max: 0.7885143160820007, mu min: -1.029693841934204\n",
      "mu offset max: 0.14667917788028717, mu offset min: -0.1599346399307251\n",
      "val loss (freq: 1): 25.270, best: 25.270 @ epoch: 4\n",
      "obj_on max: 0.9999998807907104, obj_on min: 0.19885270297527313\n",
      "scale max: 0.2710168659687042, scale min: 0.17547164857387543\n",
      "depth max: 3.0800552368164062, depth min: -1.886427640914917\n",
      "val lpips (freq: 1): 0.034, best: 0.033 @ epoch: 3\n",
      "\n",
      "bb scores: max: 21.05, min: 2.28, mean: 14.61\n",
      "\n",
      "validation step...\n"
     ]
    },
    {
     "name": "stderr",
     "output_type": "stream",
     "text": [
      "100%|███████████████████████████████████████████████████████████████████████████████████████████████████████| 2000/2000 [00:00<00:00, 2264.54it/s]\n"
     ]
    },
    {
     "name": "stdout",
     "output_type": "stream",
     "text": [
      "validation loss: 22.524\n",
      "\n",
      "validation loss updated: 25.270 -> 22.524\n",
      "\n"
     ]
    },
    {
     "name": "stderr",
     "output_type": "stream",
     "text": [
      "100%|███████████████████████████████████████████████████████████████████████████████████████████████████████| 2000/2000 [00:00<00:00, 2329.01it/s]\n",
      "100%|█████████████████████████████████████████████████████████████████████████████████████████████████████████████| 63/63 [00:02<00:00, 26.13it/s]\n"
     ]
    },
    {
     "name": "stdout",
     "output_type": "stream",
     "text": [
      "validation: lpips: 0.027, psnr: 31.629, ssim: 0.932\n",
      "\n",
      "validation lpips updated: 0.033 -> 0.027\n",
      "\n"
     ]
    },
    {
     "name": "stderr",
     "output_type": "stream",
     "text": [
      "epoch #6: 100%|██████████████████████████████████████████████████████| 1250/1250 [01:14<00:00, 16.83it/s, kl=145, loss=25.5, on_l1=8.53, rec=18.3]\n"
     ]
    },
    {
     "name": "stdout",
     "output_type": "stream",
     "text": [
      "Adjusting learning rate of group 0 to 1.3967e-04.\n",
      "epoch 6 summary\n",
      "loss: 20.406, rec: 13.165, kl: 144.809\n",
      "kl_balance: 0.001, kl_kp: 77.516, kl_feat: 649.120\n",
      "kl_scale: 44.024, kl_depth: 31.302, kl_obj_on: 22.589\n",
      "mu max: 0.8325003385543823, mu min: -1.1027201414108276\n",
      "mu offset max: 0.20528995990753174, mu offset min: -0.21022562682628632\n",
      "val loss (freq: 1): 22.524, best: 22.524 @ epoch: 5\n",
      "obj_on max: 0.9999998807907104, obj_on min: 0.2389151155948639\n",
      "scale max: 0.27571287751197815, scale min: 0.16994500160217285\n",
      "depth max: 3.64043927192688, depth min: -2.195039749145508\n",
      "val lpips (freq: 1): 0.027, best: 0.027 @ epoch: 5\n",
      "\n",
      "bb scores: max: 20.31, min: 3.04, mean: 15.16\n",
      "\n",
      "validation step...\n"
     ]
    },
    {
     "name": "stderr",
     "output_type": "stream",
     "text": [
      "100%|███████████████████████████████████████████████████████████████████████████████████████████████████████| 2000/2000 [00:00<00:00, 2383.80it/s]\n"
     ]
    },
    {
     "name": "stdout",
     "output_type": "stream",
     "text": [
      "validation loss: 20.288\n",
      "\n",
      "validation loss updated: 22.524 -> 20.288\n",
      "\n"
     ]
    },
    {
     "name": "stderr",
     "output_type": "stream",
     "text": [
      "100%|███████████████████████████████████████████████████████████████████████████████████████████████████████| 2000/2000 [00:00<00:00, 2325.12it/s]\n",
      "100%|█████████████████████████████████████████████████████████████████████████████████████████████████████████████| 63/63 [00:02<00:00, 26.38it/s]\n"
     ]
    },
    {
     "name": "stdout",
     "output_type": "stream",
     "text": [
      "validation: lpips: 0.028, psnr: 31.998, ssim: 0.954\n",
      "\n"
     ]
    },
    {
     "name": "stderr",
     "output_type": "stream",
     "text": [
      "epoch #7: 100%|████████████████████████████████████████████████████████| 1250/1250 [01:13<00:00, 17.06it/s, kl=146, loss=22, on_l1=8.33, rec=14.7]\n"
     ]
    },
    {
     "name": "stdout",
     "output_type": "stream",
     "text": [
      "Adjusting learning rate of group 0 to 1.3268e-04.\n",
      "epoch 7 summary\n",
      "loss: 20.765, rec: 13.504, kl: 145.205\n",
      "kl_balance: 0.001, kl_kp: 77.481, kl_feat: 653.545\n",
      "kl_scale: 44.414, kl_depth: 32.719, kl_obj_on: 22.624\n",
      "mu max: 0.8114792108535767, mu min: -1.2539122104644775\n",
      "mu offset max: 0.22453045845031738, mu offset min: -0.33389168977737427\n",
      "val loss (freq: 1): 20.288, best: 20.288 @ epoch: 6\n",
      "obj_on max: 0.9999998807907104, obj_on min: 0.2964421212673187\n",
      "scale max: 0.27268779277801514, scale min: 0.17481830716133118\n",
      "depth max: 4.593421936035156, depth min: -1.143267273902893\n",
      "val lpips (freq: 1): 0.028, best: 0.027 @ epoch: 5\n",
      "\n",
      "bb scores: max: 20.31, min: 3.04, mean: 15.05\n",
      "\n",
      "validation step...\n"
     ]
    },
    {
     "name": "stderr",
     "output_type": "stream",
     "text": [
      "100%|███████████████████████████████████████████████████████████████████████████████████████████████████████| 2000/2000 [00:00<00:00, 2341.16it/s]\n"
     ]
    },
    {
     "name": "stdout",
     "output_type": "stream",
     "text": [
      "validation loss: 18.502\n",
      "\n",
      "validation loss updated: 20.288 -> 18.502\n",
      "\n"
     ]
    },
    {
     "name": "stderr",
     "output_type": "stream",
     "text": [
      "100%|███████████████████████████████████████████████████████████████████████████████████████████████████████| 2000/2000 [00:00<00:00, 2268.91it/s]\n",
      "100%|█████████████████████████████████████████████████████████████████████████████████████████████████████████████| 63/63 [00:02<00:00, 25.96it/s]\n"
     ]
    },
    {
     "name": "stdout",
     "output_type": "stream",
     "text": [
      "validation: lpips: 0.024, psnr: 32.560, ssim: 0.969\n",
      "\n",
      "validation lpips updated: 0.027 -> 0.024\n",
      "\n"
     ]
    },
    {
     "name": "stderr",
     "output_type": "stream",
     "text": [
      "epoch #8: 100%|██████████████████████████████████████████████████████| 1250/1250 [01:13<00:00, 17.00it/s, kl=145, loss=22.5, on_l1=8.46, rec=15.3]\n"
     ]
    },
    {
     "name": "stdout",
     "output_type": "stream",
     "text": [
      "Adjusting learning rate of group 0 to 1.2605e-04.\n",
      "epoch 8 summary\n",
      "loss: 18.525, rec: 11.308, kl: 144.333\n",
      "kl_balance: 0.001, kl_kp: 77.859, kl_feat: 655.997\n",
      "kl_scale: 43.544, kl_depth: 31.589, kl_obj_on: 22.243\n",
      "mu max: 0.8311349749565125, mu min: -1.0270615816116333\n",
      "mu offset max: 0.16976182162761688, mu offset min: -0.10474425554275513\n",
      "val loss (freq: 1): 18.502, best: 18.502 @ epoch: 7\n",
      "obj_on max: 0.9999998807907104, obj_on min: 0.18068240582942963\n",
      "scale max: 0.27261507511138916, scale min: 0.17266184091567993\n",
      "depth max: 4.278763771057129, depth min: -1.312171220779419\n",
      "val lpips (freq: 1): 0.024, best: 0.024 @ epoch: 7\n",
      "\n",
      "bb scores: max: 19.92, min: 1.62, mean: 15.06\n",
      "\n",
      "validation step...\n"
     ]
    },
    {
     "name": "stderr",
     "output_type": "stream",
     "text": [
      "100%|███████████████████████████████████████████████████████████████████████████████████████████████████████| 2000/2000 [00:00<00:00, 2355.03it/s]\n"
     ]
    },
    {
     "name": "stdout",
     "output_type": "stream",
     "text": [
      "validation loss: 18.491\n",
      "\n",
      "validation loss updated: 18.502 -> 18.491\n",
      "\n"
     ]
    },
    {
     "name": "stderr",
     "output_type": "stream",
     "text": [
      "100%|███████████████████████████████████████████████████████████████████████████████████████████████████████| 2000/2000 [00:00<00:00, 2372.11it/s]\n",
      "100%|█████████████████████████████████████████████████████████████████████████████████████████████████████████████| 63/63 [00:02<00:00, 26.23it/s]\n"
     ]
    },
    {
     "name": "stdout",
     "output_type": "stream",
     "text": [
      "validation: lpips: 0.023, psnr: 33.127, ssim: 0.977\n",
      "\n",
      "validation lpips updated: 0.024 -> 0.023\n",
      "\n"
     ]
    },
    {
     "name": "stderr",
     "output_type": "stream",
     "text": [
      "epoch #9: 100%|██████████████████████████████████████████████████████| 1250/1250 [01:14<00:00, 16.86it/s, kl=135, loss=21.1, on_l1=8.51, rec=14.3]\n"
     ]
    },
    {
     "name": "stdout",
     "output_type": "stream",
     "text": [
      "Adjusting learning rate of group 0 to 1.1975e-04.\n",
      "epoch 9 summary\n",
      "loss: 18.645, rec: 11.578, kl: 141.348\n",
      "kl_balance: 0.001, kl_kp: 75.764, kl_feat: 649.975\n",
      "kl_scale: 42.696, kl_depth: 36.927, kl_obj_on: 22.201\n",
      "mu max: 0.7892230153083801, mu min: -1.2821534872055054\n",
      "mu offset max: 0.1944105178117752, mu offset min: -0.31334635615348816\n",
      "val loss (freq: 1): 18.491, best: 18.491 @ epoch: 8\n",
      "obj_on max: 0.9999998807907104, obj_on min: 0.14020438492298126\n",
      "scale max: 0.2749626338481903, scale min: 0.16312287747859955\n",
      "depth max: 6.119560718536377, depth min: -1.4161261320114136\n",
      "val lpips (freq: 1): 0.023, best: 0.023 @ epoch: 8\n",
      "\n",
      "bb scores: max: 19.88, min: 0.61, mean: 14.55\n",
      "\n",
      "validation step...\n"
     ]
    },
    {
     "name": "stderr",
     "output_type": "stream",
     "text": [
      "100%|███████████████████████████████████████████████████████████████████████████████████████████████████████| 2000/2000 [00:00<00:00, 2360.91it/s]\n"
     ]
    },
    {
     "name": "stdout",
     "output_type": "stream",
     "text": [
      "validation loss: 19.190\n",
      "\n"
     ]
    },
    {
     "name": "stderr",
     "output_type": "stream",
     "text": [
      "100%|███████████████████████████████████████████████████████████████████████████████████████████████████████| 2000/2000 [00:00<00:00, 2316.20it/s]\n",
      "100%|█████████████████████████████████████████████████████████████████████████████████████████████████████████████| 63/63 [00:02<00:00, 25.30it/s]\n"
     ]
    },
    {
     "name": "stdout",
     "output_type": "stream",
     "text": [
      "validation: lpips: 0.025, psnr: 32.531, ssim: 0.977\n",
      "\n"
     ]
    },
    {
     "name": "stderr",
     "output_type": "stream",
     "text": [
      "epoch #10: 100%|█████████████████████████████████████████████████████| 1250/1250 [01:18<00:00, 15.88it/s, kl=134, loss=13.9, on_l1=8.17, rec=7.18]\n"
     ]
    },
    {
     "name": "stdout",
     "output_type": "stream",
     "text": [
      "Adjusting learning rate of group 0 to 1.1376e-04.\n",
      "epoch 10 summary\n",
      "loss: 17.205, rec: 10.187, kl: 140.346\n",
      "kl_balance: 0.001, kl_kp: 75.827, kl_feat: 628.519\n",
      "kl_scale: 42.310, kl_depth: 39.600, kl_obj_on: 21.541\n",
      "mu max: 0.8171945810317993, mu min: -1.244336724281311\n",
      "mu offset max: 0.19732517004013062, mu offset min: -0.26277434825897217\n",
      "val loss (freq: 1): 19.190, best: 18.491 @ epoch: 8\n",
      "obj_on max: 0.9999998807907104, obj_on min: 0.06641516089439392\n",
      "scale max: 0.27363255620002747, scale min: 0.17377829551696777\n",
      "depth max: 7.57044792175293, depth min: -1.4679309129714966\n",
      "val lpips (freq: 1): 0.025, best: 0.023 @ epoch: 8\n",
      "\n",
      "bb scores: max: 19.94, min: 0.16, mean: 14.02\n",
      "\n",
      "validation step...\n"
     ]
    },
    {
     "name": "stderr",
     "output_type": "stream",
     "text": [
      "100%|███████████████████████████████████████████████████████████████████████████████████████████████████████| 2000/2000 [00:00<00:00, 2363.81it/s]\n"
     ]
    },
    {
     "name": "stdout",
     "output_type": "stream",
     "text": [
      "validation loss: 16.111\n",
      "\n",
      "validation loss updated: 18.491 -> 16.111\n",
      "\n"
     ]
    },
    {
     "name": "stderr",
     "output_type": "stream",
     "text": [
      "100%|███████████████████████████████████████████████████████████████████████████████████████████████████████| 2000/2000 [00:00<00:00, 2328.88it/s]\n",
      "100%|█████████████████████████████████████████████████████████████████████████████████████████████████████████████| 63/63 [00:02<00:00, 26.40it/s]\n"
     ]
    },
    {
     "name": "stdout",
     "output_type": "stream",
     "text": [
      "validation: lpips: 0.019, psnr: 33.956, ssim: 0.984\n",
      "\n",
      "validation lpips updated: 0.023 -> 0.019\n",
      "\n"
     ]
    },
    {
     "name": "stderr",
     "output_type": "stream",
     "text": [
      "epoch #11: 100%|█████████████████████████████████████████████████████| 1250/1250 [01:13<00:00, 17.03it/s, kl=140, loss=19.6, on_l1=8.74, rec=12.6]\n"
     ]
    },
    {
     "name": "stdout",
     "output_type": "stream",
     "text": [
      "Adjusting learning rate of group 0 to 1.0807e-04.\n",
      "epoch 11 summary\n",
      "loss: 18.121, rec: 11.114, kl: 140.140\n",
      "kl_balance: 0.001, kl_kp: 76.265, kl_feat: 630.011\n",
      "kl_scale: 41.859, kl_depth: 40.095, kl_obj_on: 21.346\n",
      "mu max: 0.8559330701828003, mu min: -1.2532217502593994\n",
      "mu offset max: 0.20826783776283264, mu offset min: -0.2589484453201294\n",
      "val loss (freq: 1): 16.111, best: 16.111 @ epoch: 10\n",
      "obj_on max: 0.9999998807907104, obj_on min: 0.044220779091119766\n",
      "scale max: 0.2663809359073639, scale min: 0.1622849702835083\n",
      "depth max: 7.060702323913574, depth min: -1.4862600564956665\n",
      "val lpips (freq: 1): 0.019, best: 0.019 @ epoch: 10\n",
      "\n",
      "bb scores: max: 20.53, min: 0.11, mean: 15.48\n",
      "\n",
      "validation step...\n"
     ]
    },
    {
     "name": "stderr",
     "output_type": "stream",
     "text": [
      "100%|███████████████████████████████████████████████████████████████████████████████████████████████████████| 2000/2000 [00:00<00:00, 2379.68it/s]\n"
     ]
    },
    {
     "name": "stdout",
     "output_type": "stream",
     "text": [
      "validation loss: 18.105\n",
      "\n"
     ]
    },
    {
     "name": "stderr",
     "output_type": "stream",
     "text": [
      "100%|███████████████████████████████████████████████████████████████████████████████████████████████████████| 2000/2000 [00:00<00:00, 2339.39it/s]\n",
      "100%|█████████████████████████████████████████████████████████████████████████████████████████████████████████████| 63/63 [00:02<00:00, 26.37it/s]\n"
     ]
    },
    {
     "name": "stdout",
     "output_type": "stream",
     "text": [
      "validation: lpips: 0.023, psnr: 33.335, ssim: 0.981\n",
      "\n"
     ]
    },
    {
     "name": "stderr",
     "output_type": "stream",
     "text": [
      "epoch #12: 100%|█████████████████████████████████████████████████████| 1250/1250 [01:14<00:00, 16.80it/s, kl=136, loss=22.1, on_l1=8.73, rec=15.3]\n"
     ]
    },
    {
     "name": "stdout",
     "output_type": "stream",
     "text": [
      "Adjusting learning rate of group 0 to 1.0267e-04.\n",
      "epoch 12 summary\n",
      "loss: 19.145, rec: 12.206, kl: 138.790\n",
      "kl_balance: 0.001, kl_kp: 75.520, kl_feat: 629.602\n",
      "kl_scale: 41.740, kl_depth: 40.024, kl_obj_on: 20.861\n",
      "mu max: 1.1221617460250854, mu min: -1.1760358810424805\n",
      "mu offset max: 0.1796240210533142, mu offset min: -0.2241363376379013\n",
      "val loss (freq: 1): 18.105, best: 16.111 @ epoch: 10\n",
      "obj_on max: 0.9999998807907104, obj_on min: 0.2554512917995453\n",
      "scale max: 0.2903130054473877, scale min: 0.17448052763938904\n",
      "depth max: 6.380129814147949, depth min: -1.6098902225494385\n",
      "val lpips (freq: 1): 0.023, best: 0.019 @ epoch: 10\n",
      "\n",
      "bb scores: max: 18.83, min: 0.92, mean: 14.99\n",
      "\n",
      "validation step...\n"
     ]
    },
    {
     "name": "stderr",
     "output_type": "stream",
     "text": [
      "100%|███████████████████████████████████████████████████████████████████████████████████████████████████████| 2000/2000 [00:00<00:00, 2352.75it/s]\n"
     ]
    },
    {
     "name": "stdout",
     "output_type": "stream",
     "text": [
      "validation loss: 17.010\n",
      "\n"
     ]
    },
    {
     "name": "stderr",
     "output_type": "stream",
     "text": [
      "100%|███████████████████████████████████████████████████████████████████████████████████████████████████████| 2000/2000 [00:00<00:00, 2334.09it/s]\n",
      "100%|█████████████████████████████████████████████████████████████████████████████████████████████████████████████| 63/63 [00:02<00:00, 26.31it/s]\n"
     ]
    },
    {
     "name": "stdout",
     "output_type": "stream",
     "text": [
      "validation: lpips: 0.022, psnr: 33.575, ssim: 0.983\n",
      "\n"
     ]
    },
    {
     "name": "stderr",
     "output_type": "stream",
     "text": [
      "epoch #13: 100%|█████████████████████████████████████████████████████| 1250/1250 [01:14<00:00, 16.80it/s, kl=141, loss=17.9, on_l1=8.61, rec=10.9]\n"
     ]
    },
    {
     "name": "stdout",
     "output_type": "stream",
     "text": [
      "Adjusting learning rate of group 0 to 9.7535e-05.\n",
      "epoch 13 summary\n",
      "loss: 17.159, rec: 10.200, kl: 139.188\n",
      "kl_balance: 0.001, kl_kp: 75.874, kl_feat: 620.288\n",
      "kl_scale: 42.032, kl_depth: 37.359, kl_obj_on: 20.624\n",
      "mu max: 0.8330245018005371, mu min: -1.2530163526535034\n",
      "mu offset max: 0.17560544610023499, mu offset min: -0.25258851051330566\n",
      "val loss (freq: 1): 17.010, best: 16.111 @ epoch: 10\n",
      "obj_on max: 0.9999998807907104, obj_on min: 0.2812822759151459\n",
      "scale max: 0.2649053633213043, scale min: 0.16107168793678284\n",
      "depth max: 6.660585403442383, depth min: -1.5353069305419922\n",
      "val lpips (freq: 1): 0.022, best: 0.019 @ epoch: 10\n",
      "\n",
      "bb scores: max: 19.83, min: 0.71, mean: 15.30\n",
      "\n",
      "validation step...\n"
     ]
    },
    {
     "name": "stderr",
     "output_type": "stream",
     "text": [
      "100%|███████████████████████████████████████████████████████████████████████████████████████████████████████| 2000/2000 [00:00<00:00, 2354.77it/s]\n"
     ]
    },
    {
     "name": "stdout",
     "output_type": "stream",
     "text": [
      "validation loss: 16.317\n",
      "\n"
     ]
    },
    {
     "name": "stderr",
     "output_type": "stream",
     "text": [
      "100%|███████████████████████████████████████████████████████████████████████████████████████████████████████| 2000/2000 [00:00<00:00, 2345.85it/s]\n",
      "100%|█████████████████████████████████████████████████████████████████████████████████████████████████████████████| 63/63 [00:02<00:00, 26.23it/s]\n"
     ]
    },
    {
     "name": "stdout",
     "output_type": "stream",
     "text": [
      "validation: lpips: 0.020, psnr: 34.028, ssim: 0.985\n",
      "\n"
     ]
    },
    {
     "name": "stderr",
     "output_type": "stream",
     "text": [
      "epoch #14: 100%|█████████████████████████████████████████████████████| 1250/1250 [01:14<00:00, 16.86it/s, kl=138, loss=18.3, on_l1=8.61, rec=11.4]\n"
     ]
    },
    {
     "name": "stdout",
     "output_type": "stream",
     "text": [
      "Adjusting learning rate of group 0 to 9.2658e-05.\n",
      "epoch 14 summary\n",
      "loss: 16.669, rec: 9.742, kl: 138.539\n",
      "kl_balance: 0.001, kl_kp: 75.756, kl_feat: 621.396\n",
      "kl_scale: 41.698, kl_depth: 38.169, kl_obj_on: 20.426\n",
      "mu max: 0.799501895904541, mu min: -1.0509451627731323\n",
      "mu offset max: 0.1626559942960739, mu offset min: -0.1804252564907074\n",
      "val loss (freq: 1): 16.317, best: 16.111 @ epoch: 10\n",
      "obj_on max: 0.9999998807907104, obj_on min: 0.17189565300941467\n",
      "scale max: 0.28898733854293823, scale min: 0.1631823033094406\n",
      "depth max: 6.192898273468018, depth min: -1.2560405731201172\n",
      "val lpips (freq: 1): 0.020, best: 0.019 @ epoch: 10\n",
      "\n",
      "bb scores: max: 19.99, min: 0.52, mean: 15.09\n",
      "\n",
      "validation step...\n"
     ]
    },
    {
     "name": "stderr",
     "output_type": "stream",
     "text": [
      "100%|███████████████████████████████████████████████████████████████████████████████████████████████████████| 2000/2000 [00:00<00:00, 2306.49it/s]\n"
     ]
    },
    {
     "name": "stdout",
     "output_type": "stream",
     "text": [
      "validation loss: 16.929\n",
      "\n"
     ]
    },
    {
     "name": "stderr",
     "output_type": "stream",
     "text": [
      "100%|███████████████████████████████████████████████████████████████████████████████████████████████████████| 2000/2000 [00:00<00:00, 2347.05it/s]\n",
      "100%|█████████████████████████████████████████████████████████████████████████████████████████████████████████████| 63/63 [00:02<00:00, 26.35it/s]\n"
     ]
    },
    {
     "name": "stdout",
     "output_type": "stream",
     "text": [
      "validation: lpips: 0.019, psnr: 34.268, ssim: 0.985\n",
      "\n",
      "validation lpips updated: 0.019 -> 0.019\n",
      "\n"
     ]
    },
    {
     "name": "stderr",
     "output_type": "stream",
     "text": [
      "epoch #15: 100%|█████████████████████████████████████████████████████| 1250/1250 [01:14<00:00, 16.89it/s, kl=142, loss=15.8, on_l1=9.04, rec=8.76]\n"
     ]
    },
    {
     "name": "stdout",
     "output_type": "stream",
     "text": [
      "Adjusting learning rate of group 0 to 8.8025e-05.\n",
      "epoch 15 summary\n",
      "loss: 16.945, rec: 10.014, kl: 138.609\n",
      "kl_balance: 0.001, kl_kp: 75.946, kl_feat: 604.031\n",
      "kl_scale: 41.763, kl_depth: 38.021, kl_obj_on: 20.258\n",
      "mu max: 0.8192703127861023, mu min: -0.9982001781463623\n",
      "mu offset max: 0.21031439304351807, mu offset min: -0.2762754559516907\n",
      "val loss (freq: 1): 16.929, best: 16.111 @ epoch: 10\n",
      "obj_on max: 0.9999998807907104, obj_on min: 0.22146020829677582\n",
      "scale max: 0.26410049200057983, scale min: 0.16319264471530914\n",
      "depth max: 5.562811851501465, depth min: -1.3895143270492554\n",
      "val lpips (freq: 1): 0.019, best: 0.019 @ epoch: 14\n",
      "\n",
      "bb scores: max: 19.87, min: 1.06, mean: 16.45\n",
      "\n",
      "validation step...\n"
     ]
    },
    {
     "name": "stderr",
     "output_type": "stream",
     "text": [
      "100%|███████████████████████████████████████████████████████████████████████████████████████████████████████| 2000/2000 [00:00<00:00, 2294.18it/s]\n"
     ]
    },
    {
     "name": "stdout",
     "output_type": "stream",
     "text": [
      "validation loss: 16.687\n",
      "\n"
     ]
    },
    {
     "name": "stderr",
     "output_type": "stream",
     "text": [
      "100%|███████████████████████████████████████████████████████████████████████████████████████████████████████| 2000/2000 [00:00<00:00, 2275.48it/s]\n",
      "100%|█████████████████████████████████████████████████████████████████████████████████████████████████████████████| 63/63 [00:02<00:00, 25.54it/s]\n"
     ]
    },
    {
     "name": "stdout",
     "output_type": "stream",
     "text": [
      "validation: lpips: 0.020, psnr: 33.910, ssim: 0.983\n",
      "\n"
     ]
    },
    {
     "name": "stderr",
     "output_type": "stream",
     "text": [
      "epoch #16: 100%|█████████████████████████████████████████████████████| 1250/1250 [01:15<00:00, 16.59it/s, kl=139, loss=18.3, on_l1=8.87, rec=11.3]\n"
     ]
    },
    {
     "name": "stdout",
     "output_type": "stream",
     "text": [
      "Adjusting learning rate of group 0 to 8.3624e-05.\n",
      "epoch 16 summary\n",
      "loss: 16.762, rec: 9.850, kl: 138.253\n",
      "kl_balance: 0.001, kl_kp: 75.990, kl_feat: 612.724\n",
      "kl_scale: 41.773, kl_depth: 37.007, kl_obj_on: 19.840\n",
      "mu max: 0.8243769407272339, mu min: -1.3964709043502808\n",
      "mu offset max: 0.22064493596553802, mu offset min: -0.23172804713249207\n",
      "val loss (freq: 1): 16.687, best: 16.111 @ epoch: 10\n",
      "obj_on max: 0.9999998807907104, obj_on min: 2.7102304775428188e-12\n",
      "scale max: 0.2559531033039093, scale min: 0.12720243632793427\n",
      "depth max: 8.61612606048584, depth min: -1.291782021522522\n",
      "val lpips (freq: 1): 0.020, best: 0.019 @ epoch: 14\n",
      "\n",
      "bb scores: max: 19.51, min: 0.00, mean: 15.72\n",
      "\n",
      "validation step...\n"
     ]
    },
    {
     "name": "stderr",
     "output_type": "stream",
     "text": [
      "100%|███████████████████████████████████████████████████████████████████████████████████████████████████████| 2000/2000 [00:00<00:00, 2191.78it/s]\n"
     ]
    },
    {
     "name": "stdout",
     "output_type": "stream",
     "text": [
      "validation loss: 16.975\n",
      "\n"
     ]
    },
    {
     "name": "stderr",
     "output_type": "stream",
     "text": [
      "100%|███████████████████████████████████████████████████████████████████████████████████████████████████████| 2000/2000 [00:00<00:00, 2343.82it/s]\n",
      "100%|█████████████████████████████████████████████████████████████████████████████████████████████████████████████| 63/63 [00:02<00:00, 25.25it/s]\n"
     ]
    },
    {
     "name": "stdout",
     "output_type": "stream",
     "text": [
      "validation: lpips: 0.020, psnr: 34.073, ssim: 0.984\n",
      "\n"
     ]
    },
    {
     "name": "stderr",
     "output_type": "stream",
     "text": [
      "epoch #17: 100%|█████████████████████████████████████████████████████| 1250/1250 [01:13<00:00, 16.95it/s, kl=144, loss=19.8, on_l1=8.99, rec=12.6]\n"
     ]
    },
    {
     "name": "stdout",
     "output_type": "stream",
     "text": [
      "Adjusting learning rate of group 0 to 7.9443e-05.\n",
      "epoch 17 summary\n",
      "loss: 17.063, rec: 10.174, kl: 137.790\n",
      "kl_balance: 0.001, kl_kp: 75.368, kl_feat: 606.106\n",
      "kl_scale: 41.728, kl_depth: 44.609, kl_obj_on: 20.044\n",
      "mu max: 0.7754426002502441, mu min: -1.04767906665802\n",
      "mu offset max: 0.24443930387496948, mu offset min: -0.2143147587776184\n",
      "val loss (freq: 1): 16.975, best: 16.111 @ epoch: 10\n",
      "obj_on max: 0.9999998807907104, obj_on min: 0.3180388808250427\n",
      "scale max: 0.27065232396125793, scale min: 0.16793020069599152\n",
      "depth max: 4.209135055541992, depth min: -1.3447680473327637\n",
      "val lpips (freq: 1): 0.020, best: 0.019 @ epoch: 14\n",
      "\n",
      "bb scores: max: 19.73, min: 3.74, mean: 16.35\n",
      "\n",
      "validation step...\n"
     ]
    },
    {
     "name": "stderr",
     "output_type": "stream",
     "text": [
      "100%|███████████████████████████████████████████████████████████████████████████████████████████████████████| 2000/2000 [00:00<00:00, 2366.11it/s]\n"
     ]
    },
    {
     "name": "stdout",
     "output_type": "stream",
     "text": [
      "validation loss: 15.772\n",
      "\n",
      "validation loss updated: 16.111 -> 15.772\n",
      "\n"
     ]
    },
    {
     "name": "stderr",
     "output_type": "stream",
     "text": [
      "100%|███████████████████████████████████████████████████████████████████████████████████████████████████████| 2000/2000 [00:00<00:00, 2324.20it/s]\n",
      "100%|█████████████████████████████████████████████████████████████████████████████████████████████████████████████| 63/63 [00:02<00:00, 26.13it/s]\n"
     ]
    },
    {
     "name": "stdout",
     "output_type": "stream",
     "text": [
      "validation: lpips: 0.018, psnr: 34.095, ssim: 0.985\n",
      "\n",
      "validation lpips updated: 0.019 -> 0.018\n",
      "\n"
     ]
    },
    {
     "name": "stderr",
     "output_type": "stream",
     "text": [
      "epoch #18: 100%|█████████████████████████████████████████████████████| 1250/1250 [01:13<00:00, 16.97it/s, kl=141, loss=14.9, on_l1=8.56, rec=7.86]\n"
     ]
    },
    {
     "name": "stdout",
     "output_type": "stream",
     "text": [
      "Adjusting learning rate of group 0 to 7.5471e-05.\n",
      "epoch 18 summary\n",
      "loss: 15.847, rec: 8.990, kl: 137.142\n",
      "kl_balance: 0.001, kl_kp: 75.125, kl_feat: 603.604\n",
      "kl_scale: 41.333, kl_depth: 43.265, kl_obj_on: 20.037\n",
      "mu max: 0.8497840166091919, mu min: -1.5731414556503296\n",
      "mu offset max: 0.2586718201637268, mu offset min: -0.3256338834762573\n",
      "val loss (freq: 1): 15.772, best: 15.772 @ epoch: 17\n",
      "obj_on max: 0.9999998807907104, obj_on min: 5.426395364338532e-05\n",
      "scale max: 0.2655927836894989, scale min: 0.1178554818034172\n",
      "depth max: 9.021705627441406, depth min: -1.0690815448760986\n",
      "val lpips (freq: 1): 0.018, best: 0.018 @ epoch: 17\n",
      "\n",
      "bb scores: max: 20.14, min: 0.00, mean: 15.04\n",
      "\n",
      "validation step...\n"
     ]
    },
    {
     "name": "stderr",
     "output_type": "stream",
     "text": [
      "100%|███████████████████████████████████████████████████████████████████████████████████████████████████████| 2000/2000 [00:00<00:00, 2277.09it/s]\n"
     ]
    },
    {
     "name": "stdout",
     "output_type": "stream",
     "text": [
      "validation loss: 15.185\n",
      "\n",
      "validation loss updated: 15.772 -> 15.185\n",
      "\n"
     ]
    },
    {
     "name": "stderr",
     "output_type": "stream",
     "text": [
      "100%|███████████████████████████████████████████████████████████████████████████████████████████████████████| 2000/2000 [00:00<00:00, 2322.85it/s]\n",
      "100%|█████████████████████████████████████████████████████████████████████████████████████████████████████████████| 63/63 [00:02<00:00, 25.22it/s]\n"
     ]
    },
    {
     "name": "stdout",
     "output_type": "stream",
     "text": [
      "validation: lpips: 0.016, psnr: 34.583, ssim: 0.986\n",
      "\n",
      "validation lpips updated: 0.018 -> 0.016\n",
      "\n"
     ]
    },
    {
     "name": "stderr",
     "output_type": "stream",
     "text": [
      "epoch #19: 100%|████████████████████████████████████████████████████████| 1250/1250 [01:16<00:00, 16.29it/s, kl=128, loss=14, on_l1=8.4, rec=7.62]\n"
     ]
    },
    {
     "name": "stdout",
     "output_type": "stream",
     "text": [
      "Adjusting learning rate of group 0 to 7.1697e-05.\n",
      "epoch 19 summary\n",
      "loss: 14.690, rec: 7.834, kl: 137.121\n",
      "kl_balance: 0.001, kl_kp: 75.280, kl_feat: 597.912\n",
      "kl_scale: 41.276, kl_depth: 45.089, kl_obj_on: 19.922\n",
      "mu max: 0.8068694472312927, mu min: -1.464909315109253\n",
      "mu offset max: 0.23955398797988892, mu offset min: -0.2671675980091095\n",
      "val loss (freq: 1): 15.185, best: 15.185 @ epoch: 18\n",
      "obj_on max: 0.9999998807907104, obj_on min: 1.2682133121444394e-09\n",
      "scale max: 0.2838113307952881, scale min: 0.10663893073797226\n",
      "depth max: 9.954154968261719, depth min: -1.0641244649887085\n",
      "val lpips (freq: 1): 0.016, best: 0.016 @ epoch: 18\n",
      "\n",
      "bb scores: max: 19.51, min: -0.02, mean: 14.13\n",
      "\n",
      "validation step...\n"
     ]
    },
    {
     "name": "stderr",
     "output_type": "stream",
     "text": [
      "100%|███████████████████████████████████████████████████████████████████████████████████████████████████████| 2000/2000 [00:00<00:00, 2279.11it/s]\n"
     ]
    },
    {
     "name": "stdout",
     "output_type": "stream",
     "text": [
      "validation loss: 15.517\n",
      "\n"
     ]
    },
    {
     "name": "stderr",
     "output_type": "stream",
     "text": [
      "100%|███████████████████████████████████████████████████████████████████████████████████████████████████████| 2000/2000 [00:00<00:00, 2351.90it/s]\n",
      "100%|█████████████████████████████████████████████████████████████████████████████████████████████████████████████| 63/63 [00:02<00:00, 26.31it/s]\n"
     ]
    },
    {
     "name": "stdout",
     "output_type": "stream",
     "text": [
      "validation: lpips: 0.018, psnr: 34.247, ssim: 0.985\n",
      "\n"
     ]
    },
    {
     "name": "stderr",
     "output_type": "stream",
     "text": [
      "epoch #20: 100%|███████████████████████████████████████████████████████| 1250/1250 [01:13<00:00, 17.04it/s, kl=139, loss=15.3, on_l1=8.6, rec=8.4]\n"
     ]
    },
    {
     "name": "stdout",
     "output_type": "stream",
     "text": [
      "Adjusting learning rate of group 0 to 6.8112e-05.\n",
      "epoch 20 summary\n",
      "loss: 15.005, rec: 8.085, kl: 138.398\n",
      "kl_balance: 0.001, kl_kp: 76.072, kl_feat: 597.664\n",
      "kl_scale: 41.708, kl_depth: 40.950, kl_obj_on: 19.979\n",
      "mu max: 0.8568885326385498, mu min: -1.3125497102737427\n",
      "mu offset max: 0.33685463666915894, mu offset min: -0.24229708313941956\n",
      "val loss (freq: 1): 15.517, best: 15.185 @ epoch: 18\n",
      "obj_on max: 0.9999998807907104, obj_on min: 0.3130572438240051\n",
      "scale max: 0.28949877619743347, scale min: 0.1602589339017868\n",
      "depth max: 6.467903137207031, depth min: -0.9016920328140259\n",
      "val lpips (freq: 1): 0.018, best: 0.016 @ epoch: 18\n",
      "\n",
      "bb scores: max: 20.03, min: 4.11, mean: 15.00\n",
      "\n",
      "validation step...\n"
     ]
    },
    {
     "name": "stderr",
     "output_type": "stream",
     "text": [
      "100%|███████████████████████████████████████████████████████████████████████████████████████████████████████| 2000/2000 [00:00<00:00, 2354.81it/s]\n"
     ]
    },
    {
     "name": "stdout",
     "output_type": "stream",
     "text": [
      "validation loss: 15.293\n",
      "\n"
     ]
    },
    {
     "name": "stderr",
     "output_type": "stream",
     "text": [
      "100%|███████████████████████████████████████████████████████████████████████████████████████████████████████| 2000/2000 [00:00<00:00, 2379.57it/s]\n",
      "100%|█████████████████████████████████████████████████████████████████████████████████████████████████████████████| 63/63 [00:02<00:00, 26.32it/s]\n"
     ]
    },
    {
     "name": "stdout",
     "output_type": "stream",
     "text": [
      "validation: lpips: 0.016, psnr: 34.825, ssim: 0.987\n",
      "\n",
      "validation lpips updated: 0.016 -> 0.016\n",
      "\n"
     ]
    },
    {
     "name": "stderr",
     "output_type": "stream",
     "text": [
      "epoch #21: 100%|█████████████████████████████████████████████████████| 1250/1250 [01:13<00:00, 17.04it/s, kl=136, loss=14.1, on_l1=8.63, rec=7.32]\n"
     ]
    },
    {
     "name": "stdout",
     "output_type": "stream",
     "text": [
      "Adjusting learning rate of group 0 to 6.4707e-05.\n",
      "epoch 21 summary\n",
      "loss: 14.940, rec: 8.048, kl: 137.836\n",
      "kl_balance: 0.001, kl_kp: 75.925, kl_feat: 600.915\n",
      "kl_scale: 41.470, kl_depth: 38.390, kl_obj_on: 19.802\n",
      "mu max: 0.8420692086219788, mu min: -1.5104525089263916\n",
      "mu offset max: 0.2590218782424927, mu offset min: -0.25953105092048645\n",
      "val loss (freq: 1): 15.293, best: 15.185 @ epoch: 18\n",
      "obj_on max: 0.9999998807907104, obj_on min: 0.005699495319277048\n",
      "scale max: 0.27313709259033203, scale min: 0.1642589569091797\n",
      "depth max: 6.465950012207031, depth min: -0.7934094667434692\n",
      "val lpips (freq: 1): 0.016, best: 0.016 @ epoch: 20\n",
      "\n",
      "bb scores: max: 19.59, min: 0.02, mean: 15.05\n",
      "\n",
      "validation step...\n"
     ]
    },
    {
     "name": "stderr",
     "output_type": "stream",
     "text": [
      "100%|███████████████████████████████████████████████████████████████████████████████████████████████████████| 2000/2000 [00:00<00:00, 2337.44it/s]\n"
     ]
    },
    {
     "name": "stdout",
     "output_type": "stream",
     "text": [
      "validation loss: 14.565\n",
      "\n",
      "validation loss updated: 15.185 -> 14.565\n",
      "\n"
     ]
    },
    {
     "name": "stderr",
     "output_type": "stream",
     "text": [
      "100%|███████████████████████████████████████████████████████████████████████████████████████████████████████| 2000/2000 [00:00<00:00, 2280.92it/s]\n",
      "100%|█████████████████████████████████████████████████████████████████████████████████████████████████████████████| 63/63 [00:02<00:00, 26.26it/s]\n"
     ]
    },
    {
     "name": "stdout",
     "output_type": "stream",
     "text": [
      "validation: lpips: 0.016, psnr: 35.011, ssim: 0.987\n",
      "\n",
      "validation lpips updated: 0.016 -> 0.016\n",
      "\n"
     ]
    },
    {
     "name": "stderr",
     "output_type": "stream",
     "text": [
      "epoch #22: 100%|█████████████████████████████████████████████████████| 1250/1250 [01:13<00:00, 17.00it/s, kl=137, loss=15.5, on_l1=8.89, rec=8.61]\n"
     ]
    },
    {
     "name": "stdout",
     "output_type": "stream",
     "text": [
      "Adjusting learning rate of group 0 to 6.1471e-05.\n",
      "epoch 22 summary\n",
      "loss: 15.034, rec: 8.215, kl: 136.378\n",
      "kl_balance: 0.001, kl_kp: 75.153, kl_feat: 602.459\n",
      "kl_scale: 41.053, kl_depth: 39.734, kl_obj_on: 19.530\n",
      "mu max: 0.8256615400314331, mu min: -1.3684078454971313\n",
      "mu offset max: 0.3094937205314636, mu offset min: -0.2551530599594116\n",
      "val loss (freq: 1): 14.565, best: 14.565 @ epoch: 21\n",
      "obj_on max: 0.9999998807907104, obj_on min: 3.059542420785771e-28\n",
      "scale max: 0.27225959300994873, scale min: 0.12710031867027283\n",
      "depth max: 8.5623779296875, depth min: -0.8980909585952759\n",
      "val lpips (freq: 1): 0.016, best: 0.016 @ epoch: 21\n",
      "\n",
      "bb scores: max: 19.83, min: -0.15, mean: 15.68\n",
      "\n",
      "validation step...\n"
     ]
    },
    {
     "name": "stderr",
     "output_type": "stream",
     "text": [
      "100%|███████████████████████████████████████████████████████████████████████████████████████████████████████| 2000/2000 [00:00<00:00, 2322.54it/s]\n"
     ]
    },
    {
     "name": "stdout",
     "output_type": "stream",
     "text": [
      "validation loss: 16.357\n",
      "\n"
     ]
    },
    {
     "name": "stderr",
     "output_type": "stream",
     "text": [
      "100%|███████████████████████████████████████████████████████████████████████████████████████████████████████| 2000/2000 [00:00<00:00, 2344.62it/s]\n",
      "100%|█████████████████████████████████████████████████████████████████████████████████████████████████████████████| 63/63 [00:02<00:00, 26.33it/s]\n"
     ]
    },
    {
     "name": "stdout",
     "output_type": "stream",
     "text": [
      "validation: lpips: 0.017, psnr: 34.784, ssim: 0.986\n",
      "\n"
     ]
    },
    {
     "name": "stderr",
     "output_type": "stream",
     "text": [
      "epoch #23: 100%|█████████████████████████████████████████████████████| 1250/1250 [01:13<00:00, 17.00it/s, kl=128, loss=17.3, on_l1=8.63, rec=10.9]\n"
     ]
    },
    {
     "name": "stdout",
     "output_type": "stream",
     "text": [
      "Adjusting learning rate of group 0 to 5.8398e-05.\n",
      "epoch 23 summary\n",
      "loss: 16.904, rec: 10.138, kl: 135.319\n",
      "kl_balance: 0.001, kl_kp: 74.463, kl_feat: 598.293\n",
      "kl_scale: 40.901, kl_depth: 45.477, kl_obj_on: 19.311\n",
      "mu max: 0.8349528908729553, mu min: -1.660548448562622\n",
      "mu offset max: 0.33952683210372925, mu offset min: -0.3353402018547058\n",
      "val loss (freq: 1): 16.357, best: 14.565 @ epoch: 21\n",
      "obj_on max: 0.9999998807907104, obj_on min: 3.932569381248641e-09\n",
      "scale max: 0.2729586064815521, scale min: 0.15169957280158997\n",
      "depth max: 8.167783737182617, depth min: -0.7303234934806824\n",
      "val lpips (freq: 1): 0.017, best: 0.016 @ epoch: 21\n",
      "\n",
      "bb scores: max: 19.75, min: 0.00, mean: 14.39\n",
      "\n",
      "validation step...\n"
     ]
    },
    {
     "name": "stderr",
     "output_type": "stream",
     "text": [
      "100%|███████████████████████████████████████████████████████████████████████████████████████████████████████| 2000/2000 [00:00<00:00, 2354.76it/s]\n"
     ]
    },
    {
     "name": "stdout",
     "output_type": "stream",
     "text": [
      "validation loss: 16.490\n",
      "\n"
     ]
    },
    {
     "name": "stderr",
     "output_type": "stream",
     "text": [
      "100%|███████████████████████████████████████████████████████████████████████████████████████████████████████| 2000/2000 [00:00<00:00, 2273.44it/s]\n",
      "100%|█████████████████████████████████████████████████████████████████████████████████████████████████████████████| 63/63 [00:02<00:00, 26.44it/s]\n"
     ]
    },
    {
     "name": "stdout",
     "output_type": "stream",
     "text": [
      "validation: lpips: 0.020, psnr: 33.944, ssim: 0.983\n",
      "\n"
     ]
    },
    {
     "name": "stderr",
     "output_type": "stream",
     "text": [
      "epoch #24: 100%|█████████████████████████████████████████████████████| 1250/1250 [01:13<00:00, 17.03it/s, kl=138, loss=14.5, on_l1=8.64, rec=7.61]\n"
     ]
    },
    {
     "name": "stdout",
     "output_type": "stream",
     "text": [
      "Adjusting learning rate of group 0 to 5.5478e-05.\n",
      "epoch 24 summary\n",
      "loss: 15.857, rec: 9.151, kl: 134.122\n",
      "kl_balance: 0.001, kl_kp: 73.605, kl_feat: 586.160\n",
      "kl_scale: 40.446, kl_depth: 47.844, kl_obj_on: 19.437\n",
      "mu max: 0.797596275806427, mu min: -1.6004072427749634\n",
      "mu offset max: 0.2753836214542389, mu offset min: -0.32765522599220276\n",
      "val loss (freq: 1): 16.490, best: 14.565 @ epoch: 21\n",
      "obj_on max: 0.9999998807907104, obj_on min: 1.8970225390546602e-10\n",
      "scale max: 0.26362675428390503, scale min: 0.15391844511032104\n",
      "depth max: 7.979233264923096, depth min: -0.7016857266426086\n",
      "val lpips (freq: 1): 0.020, best: 0.016 @ epoch: 21\n",
      "\n",
      "bb scores: max: 20.34, min: -0.30, mean: 15.25\n",
      "\n",
      "validation step...\n"
     ]
    },
    {
     "name": "stderr",
     "output_type": "stream",
     "text": [
      "100%|███████████████████████████████████████████████████████████████████████████████████████████████████████| 2000/2000 [00:00<00:00, 2376.54it/s]\n"
     ]
    },
    {
     "name": "stdout",
     "output_type": "stream",
     "text": [
      "validation loss: 14.849\n",
      "\n"
     ]
    },
    {
     "name": "stderr",
     "output_type": "stream",
     "text": [
      "100%|███████████████████████████████████████████████████████████████████████████████████████████████████████| 2000/2000 [00:00<00:00, 2372.62it/s]\n",
      "100%|█████████████████████████████████████████████████████████████████████████████████████████████████████████████| 63/63 [00:02<00:00, 26.43it/s]\n"
     ]
    },
    {
     "name": "stdout",
     "output_type": "stream",
     "text": [
      "validation: lpips: 0.016, psnr: 34.631, ssim: 0.987\n",
      "\n"
     ]
    },
    {
     "name": "stderr",
     "output_type": "stream",
     "text": [
      "epoch #25: 100%|█████████████████████████████████████████████████████| 1250/1250 [01:13<00:00, 16.97it/s, kl=132, loss=17.1, on_l1=8.61, rec=10.5]\n"
     ]
    },
    {
     "name": "stdout",
     "output_type": "stream",
     "text": [
      "Adjusting learning rate of group 0 to 5.2704e-05.\n",
      "epoch 25 summary\n",
      "loss: 16.710, rec: 10.026, kl: 133.673\n",
      "kl_balance: 0.001, kl_kp: 73.415, kl_feat: 571.400\n",
      "kl_scale: 40.396, kl_depth: 47.743, kl_obj_on: 19.243\n",
      "mu max: 0.8582003116607666, mu min: -1.7584248781204224\n",
      "mu offset max: 0.3429374396800995, mu offset min: -0.4712359607219696\n",
      "val loss (freq: 1): 14.849, best: 14.565 @ epoch: 21\n",
      "obj_on max: 0.9999998807907104, obj_on min: 1.2733261007616685e-15\n",
      "scale max: 0.3327607810497284, scale min: 0.10663709789514542\n",
      "depth max: 10.120927810668945, depth min: -0.4919503331184387\n",
      "val lpips (freq: 1): 0.016, best: 0.016 @ epoch: 21\n",
      "\n",
      "bb scores: max: 20.56, min: -0.69, mean: 14.53\n",
      "\n",
      "validation step...\n"
     ]
    },
    {
     "name": "stderr",
     "output_type": "stream",
     "text": [
      "100%|███████████████████████████████████████████████████████████████████████████████████████████████████████| 2000/2000 [00:00<00:00, 2388.83it/s]\n"
     ]
    },
    {
     "name": "stdout",
     "output_type": "stream",
     "text": [
      "validation loss: 17.080\n",
      "\n"
     ]
    },
    {
     "name": "stderr",
     "output_type": "stream",
     "text": [
      "100%|███████████████████████████████████████████████████████████████████████████████████████████████████████| 2000/2000 [00:00<00:00, 2277.20it/s]\n",
      "100%|█████████████████████████████████████████████████████████████████████████████████████████████████████████████| 63/63 [00:02<00:00, 26.34it/s]\n"
     ]
    },
    {
     "name": "stdout",
     "output_type": "stream",
     "text": [
      "validation: lpips: 0.022, psnr: 33.724, ssim: 0.982\n",
      "\n"
     ]
    },
    {
     "name": "stderr",
     "output_type": "stream",
     "text": [
      "epoch #26: 100%|█████████████████████████████████████████████████████| 1250/1250 [01:13<00:00, 16.93it/s, kl=127, loss=15.2, on_l1=7.79, rec=8.86]\n"
     ]
    },
    {
     "name": "stdout",
     "output_type": "stream",
     "text": [
      "Adjusting learning rate of group 0 to 5.0069e-05.\n",
      "epoch 26 summary\n",
      "loss: 16.776, rec: 10.087, kl: 133.793\n",
      "kl_balance: 0.001, kl_kp: 73.745, kl_feat: 588.100\n",
      "kl_scale: 40.464, kl_depth: 48.015, kl_obj_on: 18.949\n",
      "mu max: 0.8263946175575256, mu min: -1.6863856315612793\n",
      "mu offset max: 0.3133460283279419, mu offset min: -0.48468467593193054\n",
      "val loss (freq: 1): 17.080, best: 14.565 @ epoch: 21\n",
      "obj_on max: 0.9999998807907104, obj_on min: 2.389679553225948e-22\n",
      "scale max: 0.2781362533569336, scale min: 0.09396950900554657\n",
      "depth max: 10.467731475830078, depth min: -0.7840273380279541\n",
      "val lpips (freq: 1): 0.022, best: 0.016 @ epoch: 21\n",
      "\n",
      "bb scores: max: 19.81, min: -0.38, mean: 12.87\n",
      "\n",
      "validation step...\n"
     ]
    },
    {
     "name": "stderr",
     "output_type": "stream",
     "text": [
      "100%|███████████████████████████████████████████████████████████████████████████████████████████████████████| 2000/2000 [00:00<00:00, 2348.40it/s]\n"
     ]
    },
    {
     "name": "stdout",
     "output_type": "stream",
     "text": [
      "validation loss: 16.758\n",
      "\n"
     ]
    },
    {
     "name": "stderr",
     "output_type": "stream",
     "text": [
      "100%|███████████████████████████████████████████████████████████████████████████████████████████████████████| 2000/2000 [00:00<00:00, 2369.84it/s]\n",
      "100%|█████████████████████████████████████████████████████████████████████████████████████████████████████████████| 63/63 [00:02<00:00, 26.36it/s]\n"
     ]
    },
    {
     "name": "stdout",
     "output_type": "stream",
     "text": [
      "validation: lpips: 0.020, psnr: 34.018, ssim: 0.984\n",
      "\n"
     ]
    },
    {
     "name": "stderr",
     "output_type": "stream",
     "text": [
      "epoch #27: 100%|█████████████████████████████████████████████████████| 1250/1250 [01:13<00:00, 16.99it/s, kl=131, loss=12.9, on_l1=8.62, rec=6.36]\n"
     ]
    },
    {
     "name": "stdout",
     "output_type": "stream",
     "text": [
      "Adjusting learning rate of group 0 to 4.7565e-05.\n",
      "epoch 27 summary\n",
      "loss: 15.390, rec: 8.675, kl: 134.293\n",
      "kl_balance: 0.001, kl_kp: 74.125, kl_feat: 574.551\n",
      "kl_scale: 40.343, kl_depth: 46.846, kl_obj_on: 19.204\n",
      "mu max: 1.0305424928665161, mu min: -1.6649231910705566\n",
      "mu offset max: 0.2880614995956421, mu offset min: -0.45988765358924866\n",
      "val loss (freq: 1): 16.758, best: 14.565 @ epoch: 21\n",
      "obj_on max: 0.9999998807907104, obj_on min: 5.2643041925648504e-08\n",
      "scale max: 0.27860787510871887, scale min: 0.1099691390991211\n",
      "depth max: 9.821821212768555, depth min: -0.8126420378684998\n",
      "val lpips (freq: 1): 0.020, best: 0.016 @ epoch: 21\n",
      "\n",
      "bb scores: max: 20.24, min: -0.15, mean: 14.62\n",
      "\n",
      "validation step...\n"
     ]
    },
    {
     "name": "stderr",
     "output_type": "stream",
     "text": [
      "100%|███████████████████████████████████████████████████████████████████████████████████████████████████████| 2000/2000 [00:00<00:00, 2347.32it/s]\n"
     ]
    },
    {
     "name": "stdout",
     "output_type": "stream",
     "text": [
      "validation loss: 14.737\n",
      "\n"
     ]
    },
    {
     "name": "stderr",
     "output_type": "stream",
     "text": [
      "100%|███████████████████████████████████████████████████████████████████████████████████████████████████████| 2000/2000 [00:00<00:00, 2354.27it/s]\n",
      "100%|█████████████████████████████████████████████████████████████████████████████████████████████████████████████| 63/63 [00:02<00:00, 26.30it/s]\n"
     ]
    },
    {
     "name": "stdout",
     "output_type": "stream",
     "text": [
      "validation: lpips: 0.016, psnr: 34.525, ssim: 0.986\n",
      "\n"
     ]
    },
    {
     "name": "stderr",
     "output_type": "stream",
     "text": [
      "epoch #28: 100%|█████████████████████████████████████████████████████| 1250/1250 [01:13<00:00, 16.94it/s, kl=133, loss=13.8, on_l1=8.22, rec=7.09]\n"
     ]
    },
    {
     "name": "stdout",
     "output_type": "stream",
     "text": [
      "Adjusting learning rate of group 0 to 4.5187e-05.\n",
      "epoch 28 summary\n",
      "loss: 14.478, rec: 7.698, kl: 135.592\n",
      "kl_balance: 0.001, kl_kp: 74.741, kl_feat: 569.037\n",
      "kl_scale: 40.624, kl_depth: 43.908, kl_obj_on: 19.614\n",
      "mu max: 0.8392702341079712, mu min: -1.633519172668457\n",
      "mu offset max: 0.2875363826751709, mu offset min: -0.36299535632133484\n",
      "val loss (freq: 1): 14.737, best: 14.565 @ epoch: 21\n",
      "obj_on max: 0.9999998807907104, obj_on min: 4.435994553999602e-15\n",
      "scale max: 0.2652970850467682, scale min: 0.12671789526939392\n",
      "depth max: 9.276052474975586, depth min: -0.8225291967391968\n",
      "val lpips (freq: 1): 0.016, best: 0.016 @ epoch: 21\n",
      "\n",
      "bb scores: max: 20.67, min: 0.00, mean: 14.04\n",
      "\n",
      "validation step...\n"
     ]
    },
    {
     "name": "stderr",
     "output_type": "stream",
     "text": [
      "100%|███████████████████████████████████████████████████████████████████████████████████████████████████████| 2000/2000 [00:00<00:00, 2355.87it/s]\n"
     ]
    },
    {
     "name": "stdout",
     "output_type": "stream",
     "text": [
      "validation loss: 15.124\n",
      "\n"
     ]
    },
    {
     "name": "stderr",
     "output_type": "stream",
     "text": [
      "100%|███████████████████████████████████████████████████████████████████████████████████████████████████████| 2000/2000 [00:00<00:00, 2359.45it/s]\n",
      "100%|█████████████████████████████████████████████████████████████████████████████████████████████████████████████| 63/63 [00:02<00:00, 26.38it/s]\n"
     ]
    },
    {
     "name": "stdout",
     "output_type": "stream",
     "text": [
      "validation: lpips: 0.016, psnr: 34.733, ssim: 0.986\n",
      "\n"
     ]
    },
    {
     "name": "stderr",
     "output_type": "stream",
     "text": [
      "epoch #29: 100%|███████████████████████████████████████████████████████| 1250/1250 [01:14<00:00, 16.67it/s, kl=137, loss=17.9, on_l1=8.98, rec=11]\n"
     ]
    },
    {
     "name": "stdout",
     "output_type": "stream",
     "text": [
      "Adjusting learning rate of group 0 to 4.2928e-05.\n",
      "epoch 29 summary\n",
      "loss: 14.980, rec: 8.267, kl: 134.248\n",
      "kl_balance: 0.001, kl_kp: 74.105, kl_feat: 573.864\n",
      "kl_scale: 40.509, kl_depth: 46.765, kl_obj_on: 19.013\n",
      "mu max: 0.8642562627792358, mu min: -1.7032986879348755\n",
      "mu offset max: 0.322235643863678, mu offset min: -0.40392571687698364\n",
      "val loss (freq: 1): 15.124, best: 14.565 @ epoch: 21\n",
      "obj_on max: 0.9999998807907104, obj_on min: 0.010395778343081474\n",
      "scale max: 0.26506999135017395, scale min: 0.1402622014284134\n",
      "depth max: 7.882735252380371, depth min: -1.0568490028381348\n",
      "val lpips (freq: 1): 0.016, best: 0.016 @ epoch: 21\n",
      "\n",
      "bb scores: max: 20.25, min: 0.01, mean: 15.60\n",
      "\n",
      "validation step...\n"
     ]
    },
    {
     "name": "stderr",
     "output_type": "stream",
     "text": [
      "100%|███████████████████████████████████████████████████████████████████████████████████████████████████████| 2000/2000 [00:00<00:00, 2333.73it/s]\n"
     ]
    },
    {
     "name": "stdout",
     "output_type": "stream",
     "text": [
      "validation loss: 15.148\n",
      "\n"
     ]
    },
    {
     "name": "stderr",
     "output_type": "stream",
     "text": [
      "100%|███████████████████████████████████████████████████████████████████████████████████████████████████████| 2000/2000 [00:00<00:00, 2374.05it/s]\n",
      "100%|█████████████████████████████████████████████████████████████████████████████████████████████████████████████| 63/63 [00:02<00:00, 25.79it/s]\n"
     ]
    },
    {
     "name": "stdout",
     "output_type": "stream",
     "text": [
      "validation: lpips: 0.016, psnr: 35.023, ssim: 0.987\n",
      "\n"
     ]
    },
    {
     "name": "stderr",
     "output_type": "stream",
     "text": [
      "epoch #30: 100%|██████████████████████████████████████████████████████| 1250/1250 [01:16<00:00, 16.38it/s, kl=134, loss=16.1, on_l1=8.5, rec=9.41]\n"
     ]
    },
    {
     "name": "stdout",
     "output_type": "stream",
     "text": [
      "Adjusting learning rate of group 0 to 4.0781e-05.\n",
      "epoch 30 summary\n",
      "loss: 14.884, rec: 8.211, kl: 133.475\n",
      "kl_balance: 0.001, kl_kp: 73.413, kl_feat: 566.011\n",
      "kl_scale: 40.309, kl_depth: 45.503, kl_obj_on: 19.141\n",
      "mu max: 0.7810744643211365, mu min: -1.7246618270874023\n",
      "mu offset max: 0.28430065512657166, mu offset min: -0.4462897777557373\n",
      "val loss (freq: 1): 15.148, best: 14.565 @ epoch: 21\n",
      "obj_on max: 0.9999998807907104, obj_on min: 8.559632494985203e-14\n",
      "scale max: 0.27377623319625854, scale min: 0.13276486098766327\n",
      "depth max: 8.52051067352295, depth min: -0.9455274939537048\n",
      "val lpips (freq: 1): 0.016, best: 0.016 @ epoch: 21\n",
      "\n",
      "bb scores: max: 20.21, min: 0.00, mean: 14.89\n",
      "\n",
      "validation step...\n"
     ]
    },
    {
     "name": "stderr",
     "output_type": "stream",
     "text": [
      "100%|███████████████████████████████████████████████████████████████████████████████████████████████████████| 2000/2000 [00:00<00:00, 2295.46it/s]\n"
     ]
    },
    {
     "name": "stdout",
     "output_type": "stream",
     "text": [
      "validation loss: 15.511\n",
      "\n"
     ]
    },
    {
     "name": "stderr",
     "output_type": "stream",
     "text": [
      "100%|███████████████████████████████████████████████████████████████████████████████████████████████████████| 2000/2000 [00:00<00:00, 2270.00it/s]\n",
      "100%|█████████████████████████████████████████████████████████████████████████████████████████████████████████████| 63/63 [00:02<00:00, 25.15it/s]\n"
     ]
    },
    {
     "name": "stdout",
     "output_type": "stream",
     "text": [
      "validation: lpips: 0.017, psnr: 34.502, ssim: 0.985\n",
      "\n"
     ]
    },
    {
     "name": "stderr",
     "output_type": "stream",
     "text": [
      "epoch #31: 100%|█████████████████████████████████████████████████████| 1250/1250 [01:15<00:00, 16.65it/s, kl=128, loss=13.8, on_l1=8.31, rec=7.37]\n"
     ]
    },
    {
     "name": "stdout",
     "output_type": "stream",
     "text": [
      "Adjusting learning rate of group 0 to 3.8742e-05.\n",
      "epoch 31 summary\n",
      "loss: 14.959, rec: 8.289, kl: 133.385\n",
      "kl_balance: 0.001, kl_kp: 73.581, kl_feat: 567.213\n",
      "kl_scale: 40.276, kl_depth: 46.182, kl_obj_on: 18.914\n",
      "mu max: 0.8256051540374756, mu min: -1.5360286235809326\n",
      "mu offset max: 0.38723140954971313, mu offset min: -0.343741238117218\n",
      "val loss (freq: 1): 15.511, best: 14.565 @ epoch: 21\n",
      "obj_on max: 0.9999998807907104, obj_on min: 4.8035484078346076e-15\n",
      "scale max: 0.2777634263038635, scale min: 0.1452295482158661\n",
      "depth max: 8.982682228088379, depth min: -0.8535709977149963\n",
      "val lpips (freq: 1): 0.017, best: 0.016 @ epoch: 21\n",
      "\n",
      "bb scores: max: 20.94, min: -0.93, mean: 13.81\n",
      "\n",
      "validation step...\n"
     ]
    },
    {
     "name": "stderr",
     "output_type": "stream",
     "text": [
      "100%|███████████████████████████████████████████████████████████████████████████████████████████████████████| 2000/2000 [00:00<00:00, 2219.78it/s]\n"
     ]
    },
    {
     "name": "stdout",
     "output_type": "stream",
     "text": [
      "validation loss: 14.803\n",
      "\n"
     ]
    },
    {
     "name": "stderr",
     "output_type": "stream",
     "text": [
      "100%|███████████████████████████████████████████████████████████████████████████████████████████████████████| 2000/2000 [00:00<00:00, 2334.01it/s]\n",
      "100%|█████████████████████████████████████████████████████████████████████████████████████████████████████████████| 63/63 [00:02<00:00, 24.40it/s]\n"
     ]
    },
    {
     "name": "stdout",
     "output_type": "stream",
     "text": [
      "validation: lpips: 0.016, psnr: 35.069, ssim: 0.987\n",
      "\n"
     ]
    },
    {
     "name": "stderr",
     "output_type": "stream",
     "text": [
      "epoch #32: 100%|█████████████████████████████████████████████████████| 1250/1250 [01:15<00:00, 16.50it/s, kl=135, loss=15.4, on_l1=8.79, rec=8.64]\n"
     ]
    },
    {
     "name": "stdout",
     "output_type": "stream",
     "text": [
      "Adjusting learning rate of group 0 to 3.6805e-05.\n",
      "epoch 32 summary\n",
      "loss: 14.151, rec: 7.400, kl: 135.001\n",
      "kl_balance: 0.001, kl_kp: 74.540, kl_feat: 569.760\n",
      "kl_scale: 40.548, kl_depth: 44.331, kl_obj_on: 19.299\n",
      "mu max: 0.8257833123207092, mu min: -1.51308274269104\n",
      "mu offset max: 0.265487402677536, mu offset min: -0.380412220954895\n",
      "val loss (freq: 1): 14.803, best: 14.565 @ epoch: 21\n",
      "obj_on max: 0.9999998807907104, obj_on min: 1.4543444226688962e-09\n",
      "scale max: 0.2862953245639801, scale min: 0.14553210139274597\n",
      "depth max: 8.413795471191406, depth min: -0.8877224326133728\n",
      "val lpips (freq: 1): 0.016, best: 0.016 @ epoch: 21\n",
      "\n",
      "bb scores: max: 20.08, min: -0.27, mean: 15.37\n",
      "\n",
      "validation step...\n"
     ]
    },
    {
     "name": "stderr",
     "output_type": "stream",
     "text": [
      "100%|███████████████████████████████████████████████████████████████████████████████████████████████████████| 2000/2000 [00:00<00:00, 2328.43it/s]\n"
     ]
    },
    {
     "name": "stdout",
     "output_type": "stream",
     "text": [
      "validation loss: 14.245\n",
      "\n",
      "validation loss updated: 14.565 -> 14.245\n",
      "\n"
     ]
    },
    {
     "name": "stderr",
     "output_type": "stream",
     "text": [
      "100%|███████████████████████████████████████████████████████████████████████████████████████████████████████| 2000/2000 [00:00<00:00, 2340.75it/s]\n",
      "100%|█████████████████████████████████████████████████████████████████████████████████████████████████████████████| 63/63 [00:02<00:00, 25.54it/s]\n"
     ]
    },
    {
     "name": "stdout",
     "output_type": "stream",
     "text": [
      "validation: lpips: 0.014, psnr: 35.325, ssim: 0.988\n",
      "\n",
      "validation lpips updated: 0.016 -> 0.014\n",
      "\n"
     ]
    },
    {
     "name": "stderr",
     "output_type": "stream",
     "text": [
      "epoch #33: 100%|██████████████████████████████████████████████████████| 1250/1250 [01:15<00:00, 16.49it/s, kl=132, loss=12.3, on_l1=8.4, rec=5.71]\n"
     ]
    },
    {
     "name": "stdout",
     "output_type": "stream",
     "text": [
      "Adjusting learning rate of group 0 to 3.4965e-05.\n",
      "epoch 33 summary\n",
      "loss: 14.539, rec: 7.795, kl: 134.873\n",
      "kl_balance: 0.001, kl_kp: 74.519, kl_feat: 565.355\n",
      "kl_scale: 40.929, kl_depth: 43.016, kl_obj_on: 18.816\n",
      "mu max: 0.8295685648918152, mu min: -1.4687639474868774\n",
      "mu offset max: 0.22592446208000183, mu offset min: -0.29410526156425476\n",
      "val loss (freq: 1): 14.245, best: 14.245 @ epoch: 32\n",
      "obj_on max: 0.9999998807907104, obj_on min: 5.723550973446567e-12\n",
      "scale max: 0.2612212300300598, scale min: 0.14352558553218842\n",
      "depth max: 9.284379959106445, depth min: -1.099086880683899\n",
      "val lpips (freq: 1): 0.014, best: 0.014 @ epoch: 32\n",
      "\n",
      "bb scores: max: 20.17, min: -0.24, mean: 14.32\n",
      "\n",
      "validation step...\n"
     ]
    },
    {
     "name": "stderr",
     "output_type": "stream",
     "text": [
      "100%|███████████████████████████████████████████████████████████████████████████████████████████████████████| 2000/2000 [00:00<00:00, 2366.70it/s]\n"
     ]
    },
    {
     "name": "stdout",
     "output_type": "stream",
     "text": [
      "validation loss: 14.137\n",
      "\n",
      "validation loss updated: 14.245 -> 14.137\n",
      "\n"
     ]
    },
    {
     "name": "stderr",
     "output_type": "stream",
     "text": [
      "100%|███████████████████████████████████████████████████████████████████████████████████████████████████████| 2000/2000 [00:00<00:00, 2351.06it/s]\n",
      "100%|█████████████████████████████████████████████████████████████████████████████████████████████████████████████| 63/63 [00:02<00:00, 25.52it/s]\n"
     ]
    },
    {
     "name": "stdout",
     "output_type": "stream",
     "text": [
      "validation: lpips: 0.014, psnr: 35.155, ssim: 0.988\n",
      "\n"
     ]
    },
    {
     "name": "stderr",
     "output_type": "stream",
     "text": [
      "epoch #34: 100%|█████████████████████████████████████████████████████| 1250/1250 [01:15<00:00, 16.56it/s, kl=137, loss=15.9, on_l1=8.58, rec=9.05]\n"
     ]
    },
    {
     "name": "stdout",
     "output_type": "stream",
     "text": [
      "Adjusting learning rate of group 0 to 3.3217e-05.\n",
      "epoch 34 summary\n",
      "loss: 14.685, rec: 7.937, kl: 134.974\n",
      "kl_balance: 0.001, kl_kp: 74.581, kl_feat: 573.497\n",
      "kl_scale: 40.675, kl_depth: 42.105, kl_obj_on: 19.103\n",
      "mu max: 0.8472448587417603, mu min: -1.3286840915679932\n",
      "mu offset max: 0.33608317375183105, mu offset min: -0.297183632850647\n",
      "val loss (freq: 1): 14.137, best: 14.137 @ epoch: 33\n",
      "obj_on max: 0.9999998807907104, obj_on min: 4.0650094888405874e-05\n",
      "scale max: 0.2731282413005829, scale min: 0.14085084199905396\n",
      "depth max: 8.503560066223145, depth min: -1.0540602207183838\n",
      "val lpips (freq: 1): 0.014, best: 0.014 @ epoch: 32\n",
      "\n",
      "bb scores: max: 20.90, min: -0.31, mean: 14.84\n",
      "\n",
      "validation step...\n"
     ]
    },
    {
     "name": "stderr",
     "output_type": "stream",
     "text": [
      "100%|███████████████████████████████████████████████████████████████████████████████████████████████████████| 2000/2000 [00:00<00:00, 2366.35it/s]\n"
     ]
    },
    {
     "name": "stdout",
     "output_type": "stream",
     "text": [
      "validation loss: 14.860\n",
      "\n"
     ]
    },
    {
     "name": "stderr",
     "output_type": "stream",
     "text": [
      "100%|███████████████████████████████████████████████████████████████████████████████████████████████████████| 2000/2000 [00:00<00:00, 2363.36it/s]\n",
      "100%|█████████████████████████████████████████████████████████████████████████████████████████████████████████████| 63/63 [00:02<00:00, 25.64it/s]\n"
     ]
    },
    {
     "name": "stdout",
     "output_type": "stream",
     "text": [
      "validation: lpips: 0.016, psnr: 35.020, ssim: 0.987\n",
      "\n"
     ]
    },
    {
     "name": "stderr",
     "output_type": "stream",
     "text": [
      "epoch #35: 100%|██████████████████████████████████████████████████████| 1250/1250 [01:15<00:00, 16.65it/s, kl=123, loss=12.7, on_l1=8.2, rec=6.56]\n"
     ]
    },
    {
     "name": "stdout",
     "output_type": "stream",
     "text": [
      "Adjusting learning rate of group 0 to 3.1556e-05.\n",
      "epoch 35 summary\n",
      "loss: 14.645, rec: 7.941, kl: 134.096\n",
      "kl_balance: 0.001, kl_kp: 74.045, kl_feat: 567.548\n",
      "kl_scale: 40.487, kl_depth: 43.222, kl_obj_on: 18.954\n",
      "mu max: 0.7899997234344482, mu min: -1.4526712894439697\n",
      "mu offset max: 0.3287230134010315, mu offset min: -0.32866159081459045\n",
      "val loss (freq: 1): 14.860, best: 14.137 @ epoch: 33\n",
      "obj_on max: 0.9999998807907104, obj_on min: 1.0144101516426575e-15\n",
      "scale max: 0.26410216093063354, scale min: 0.14237593114376068\n",
      "depth max: 8.989995956420898, depth min: -1.060951590538025\n",
      "val lpips (freq: 1): 0.016, best: 0.014 @ epoch: 32\n",
      "\n",
      "bb scores: max: 20.52, min: -0.34, mean: 13.05\n",
      "\n",
      "validation step...\n"
     ]
    },
    {
     "name": "stderr",
     "output_type": "stream",
     "text": [
      "100%|███████████████████████████████████████████████████████████████████████████████████████████████████████| 2000/2000 [00:00<00:00, 2339.80it/s]\n"
     ]
    },
    {
     "name": "stdout",
     "output_type": "stream",
     "text": [
      "validation loss: 15.391\n",
      "\n"
     ]
    },
    {
     "name": "stderr",
     "output_type": "stream",
     "text": [
      "100%|███████████████████████████████████████████████████████████████████████████████████████████████████████| 2000/2000 [00:00<00:00, 2327.38it/s]\n",
      "100%|█████████████████████████████████████████████████████████████████████████████████████████████████████████████| 63/63 [00:02<00:00, 26.31it/s]\n"
     ]
    },
    {
     "name": "stdout",
     "output_type": "stream",
     "text": [
      "validation: lpips: 0.016, psnr: 34.683, ssim: 0.986\n",
      "\n"
     ]
    },
    {
     "name": "stderr",
     "output_type": "stream",
     "text": [
      "epoch #36: 100%|█████████████████████████████████████████████████████| 1250/1250 [01:16<00:00, 16.29it/s, kl=136, loss=14.9, on_l1=8.32, rec=8.06]\n"
     ]
    },
    {
     "name": "stdout",
     "output_type": "stream",
     "text": [
      "Adjusting learning rate of group 0 to 2.9978e-05.\n",
      "epoch 36 summary\n",
      "loss: 14.096, rec: 7.335, kl: 135.224\n",
      "kl_balance: 0.001, kl_kp: 74.530, kl_feat: 554.921\n",
      "kl_scale: 40.675, kl_depth: 42.681, kl_obj_on: 19.421\n",
      "mu max: 0.8414430618286133, mu min: -1.4753913879394531\n",
      "mu offset max: 0.3182418942451477, mu offset min: -0.27435413002967834\n",
      "val loss (freq: 1): 15.391, best: 14.137 @ epoch: 33\n",
      "obj_on max: 0.9999998807907104, obj_on min: 0.013226381503045559\n",
      "scale max: 0.26078787446022034, scale min: 0.14386345446109772\n",
      "depth max: 9.46398639678955, depth min: -1.0441749095916748\n",
      "val lpips (freq: 1): 0.016, best: 0.014 @ epoch: 32\n",
      "\n",
      "bb scores: max: 19.95, min: -0.64, mean: 14.15\n",
      "\n",
      "validation step...\n"
     ]
    },
    {
     "name": "stderr",
     "output_type": "stream",
     "text": [
      "100%|███████████████████████████████████████████████████████████████████████████████████████████████████████| 2000/2000 [00:00<00:00, 2306.13it/s]\n"
     ]
    },
    {
     "name": "stdout",
     "output_type": "stream",
     "text": [
      "validation loss: 14.659\n",
      "\n"
     ]
    },
    {
     "name": "stderr",
     "output_type": "stream",
     "text": [
      "100%|███████████████████████████████████████████████████████████████████████████████████████████████████████| 2000/2000 [00:00<00:00, 2299.66it/s]\n",
      "100%|█████████████████████████████████████████████████████████████████████████████████████████████████████████████| 63/63 [00:02<00:00, 25.82it/s]\n"
     ]
    },
    {
     "name": "stdout",
     "output_type": "stream",
     "text": [
      "validation: lpips: 0.016, psnr: 34.603, ssim: 0.987\n",
      "\n"
     ]
    },
    {
     "name": "stderr",
     "output_type": "stream",
     "text": [
      "epoch #37: 100%|█████████████████████████████████████████████████████| 1250/1250 [01:16<00:00, 16.36it/s, kl=134, loss=12.3, on_l1=8.45, rec=5.63]\n"
     ]
    },
    {
     "name": "stdout",
     "output_type": "stream",
     "text": [
      "Adjusting learning rate of group 0 to 2.8479e-05.\n",
      "epoch 37 summary\n",
      "loss: 13.983, rec: 7.184, kl: 135.989\n",
      "kl_balance: 0.001, kl_kp: 75.309, kl_feat: 558.004\n",
      "kl_scale: 40.761, kl_depth: 40.774, kl_obj_on: 19.320\n",
      "mu max: 0.8104691505432129, mu min: -1.2518242597579956\n",
      "mu offset max: 0.21458306908607483, mu offset min: -0.20405559241771698\n",
      "val loss (freq: 1): 14.659, best: 14.137 @ epoch: 33\n",
      "obj_on max: 0.9999998807907104, obj_on min: 6.750889430806595e-11\n",
      "scale max: 0.27376192808151245, scale min: 0.16702555119991302\n",
      "depth max: 7.922476291656494, depth min: -0.9648838639259338\n",
      "val lpips (freq: 1): 0.016, best: 0.014 @ epoch: 32\n",
      "\n",
      "bb scores: max: 20.75, min: -0.05, mean: 14.68\n",
      "\n",
      "validation step...\n"
     ]
    },
    {
     "name": "stderr",
     "output_type": "stream",
     "text": [
      "100%|███████████████████████████████████████████████████████████████████████████████████████████████████████| 2000/2000 [00:00<00:00, 2306.10it/s]\n"
     ]
    },
    {
     "name": "stdout",
     "output_type": "stream",
     "text": [
      "validation loss: 13.546\n",
      "\n",
      "validation loss updated: 14.137 -> 13.546\n",
      "\n"
     ]
    },
    {
     "name": "stderr",
     "output_type": "stream",
     "text": [
      "100%|███████████████████████████████████████████████████████████████████████████████████████████████████████| 2000/2000 [00:00<00:00, 2241.46it/s]\n",
      "100%|█████████████████████████████████████████████████████████████████████████████████████████████████████████████| 63/63 [00:02<00:00, 23.11it/s]\n"
     ]
    },
    {
     "name": "stdout",
     "output_type": "stream",
     "text": [
      "validation: lpips: 0.014, psnr: 35.437, ssim: 0.988\n",
      "\n",
      "validation lpips updated: 0.014 -> 0.014\n",
      "\n"
     ]
    },
    {
     "name": "stderr",
     "output_type": "stream",
     "text": [
      "epoch #38: 100%|█████████████████████████████████████████████████████| 1250/1250 [01:15<00:00, 16.51it/s, kl=135, loss=14.1, on_l1=8.44, rec=7.31]\n"
     ]
    },
    {
     "name": "stdout",
     "output_type": "stream",
     "text": [
      "Adjusting learning rate of group 0 to 2.7055e-05.\n",
      "epoch 38 summary\n",
      "loss: 13.987, rec: 7.219, kl: 135.364\n",
      "kl_balance: 0.001, kl_kp: 75.199, kl_feat: 553.404\n",
      "kl_scale: 40.585, kl_depth: 40.356, kl_obj_on: 18.986\n",
      "mu max: 0.805474579334259, mu min: -1.4704947471618652\n",
      "mu offset max: 0.10589631646871567, mu offset min: -0.25166624784469604\n",
      "val loss (freq: 1): 13.546, best: 13.546 @ epoch: 37\n",
      "obj_on max: 0.9999998807907104, obj_on min: 2.9754634867096286e-10\n",
      "scale max: 0.26987290382385254, scale min: 0.17147500813007355\n",
      "depth max: 8.03752326965332, depth min: -0.8098271489143372\n",
      "val lpips (freq: 1): 0.014, best: 0.014 @ epoch: 37\n",
      "\n",
      "bb scores: max: 20.47, min: 0.00, mean: 14.83\n",
      "\n",
      "validation step...\n"
     ]
    },
    {
     "name": "stderr",
     "output_type": "stream",
     "text": [
      "100%|███████████████████████████████████████████████████████████████████████████████████████████████████████| 2000/2000 [00:00<00:00, 2254.16it/s]\n"
     ]
    },
    {
     "name": "stdout",
     "output_type": "stream",
     "text": [
      "validation loss: 13.926\n",
      "\n"
     ]
    },
    {
     "name": "stderr",
     "output_type": "stream",
     "text": [
      "100%|███████████████████████████████████████████████████████████████████████████████████████████████████████| 2000/2000 [00:00<00:00, 2319.97it/s]\n",
      "100%|█████████████████████████████████████████████████████████████████████████████████████████████████████████████| 63/63 [00:02<00:00, 26.40it/s]\n"
     ]
    },
    {
     "name": "stdout",
     "output_type": "stream",
     "text": [
      "validation: lpips: 0.014, psnr: 35.354, ssim: 0.988\n",
      "\n",
      "validation lpips updated: 0.014 -> 0.014\n",
      "\n"
     ]
    },
    {
     "name": "stderr",
     "output_type": "stream",
     "text": [
      "epoch #39: 100%|██████████████████████████████████████████████████████| 1250/1250 [01:15<00:00, 16.61it/s, kl=137, loss=14.8, on_l1=8.6, rec=7.94]\n"
     ]
    },
    {
     "name": "stdout",
     "output_type": "stream",
     "text": [
      "Adjusting learning rate of group 0 to 2.5702e-05.\n",
      "epoch 39 summary\n",
      "loss: 13.790, rec: 7.032, kl: 135.151\n",
      "kl_balance: 0.001, kl_kp: 75.120, kl_feat: 549.382\n",
      "kl_scale: 40.453, kl_depth: 41.325, kl_obj_on: 18.988\n",
      "mu max: 0.8514428734779358, mu min: -1.3454816341400146\n",
      "mu offset max: 0.2568301856517792, mu offset min: -0.24700981378555298\n",
      "val loss (freq: 1): 13.926, best: 13.546 @ epoch: 37\n",
      "obj_on max: 0.9999998807907104, obj_on min: 1.1300833602234661e-09\n",
      "scale max: 0.2640690207481384, scale min: 0.16406209766864777\n",
      "depth max: 8.542500495910645, depth min: -0.9333779811859131\n",
      "val lpips (freq: 1): 0.014, best: 0.014 @ epoch: 38\n",
      "\n",
      "bb scores: max: 20.13, min: 0.00, mean: 14.95\n",
      "\n",
      "validation step...\n"
     ]
    },
    {
     "name": "stderr",
     "output_type": "stream",
     "text": [
      "100%|███████████████████████████████████████████████████████████████████████████████████████████████████████| 2000/2000 [00:00<00:00, 2313.24it/s]\n"
     ]
    },
    {
     "name": "stdout",
     "output_type": "stream",
     "text": [
      "validation loss: 13.348\n",
      "\n",
      "validation loss updated: 13.546 -> 13.348\n",
      "\n"
     ]
    },
    {
     "name": "stderr",
     "output_type": "stream",
     "text": [
      "100%|███████████████████████████████████████████████████████████████████████████████████████████████████████| 2000/2000 [00:00<00:00, 2253.69it/s]\n",
      "100%|█████████████████████████████████████████████████████████████████████████████████████████████████████████████| 63/63 [00:02<00:00, 24.56it/s]\n"
     ]
    },
    {
     "name": "stdout",
     "output_type": "stream",
     "text": [
      "validation: lpips: 0.013, psnr: 35.609, ssim: 0.988\n",
      "\n",
      "validation lpips updated: 0.014 -> 0.013\n",
      "\n"
     ]
    },
    {
     "name": "stderr",
     "output_type": "stream",
     "text": [
      "epoch #40: 100%|█████████████████████████████████████████████████████| 1250/1250 [01:13<00:00, 16.93it/s, kl=136, loss=12.9, on_l1=8.77, rec=6.12]\n"
     ]
    },
    {
     "name": "stdout",
     "output_type": "stream",
     "text": [
      "Adjusting learning rate of group 0 to 2.4417e-05.\n",
      "epoch 40 summary\n",
      "loss: 13.892, rec: 7.147, kl: 134.903\n",
      "kl_balance: 0.001, kl_kp: 74.590, kl_feat: 545.599\n",
      "kl_scale: 40.368, kl_depth: 40.746, kl_obj_on: 19.359\n",
      "mu max: 0.8157896995544434, mu min: -1.557843804359436\n",
      "mu offset max: 0.234688401222229, mu offset min: -0.3349999487400055\n",
      "val loss (freq: 1): 13.348, best: 13.348 @ epoch: 39\n",
      "obj_on max: 0.9999998807907104, obj_on min: 5.919385646682944e-21\n",
      "scale max: 0.2588055729866028, scale min: 0.15700660645961761\n",
      "depth max: 9.062435150146484, depth min: -1.1549632549285889\n",
      "val lpips (freq: 1): 0.013, best: 0.013 @ epoch: 39\n",
      "\n",
      "bb scores: max: 20.94, min: -0.15, mean: 15.27\n",
      "\n",
      "validation step...\n"
     ]
    },
    {
     "name": "stderr",
     "output_type": "stream",
     "text": [
      "100%|███████████████████████████████████████████████████████████████████████████████████████████████████████| 2000/2000 [00:00<00:00, 2406.09it/s]\n"
     ]
    },
    {
     "name": "stdout",
     "output_type": "stream",
     "text": [
      "validation loss: 13.916\n",
      "\n"
     ]
    },
    {
     "name": "stderr",
     "output_type": "stream",
     "text": [
      "100%|███████████████████████████████████████████████████████████████████████████████████████████████████████| 2000/2000 [00:00<00:00, 2307.07it/s]\n",
      "100%|█████████████████████████████████████████████████████████████████████████████████████████████████████████████| 63/63 [00:02<00:00, 26.19it/s]\n"
     ]
    },
    {
     "name": "stdout",
     "output_type": "stream",
     "text": [
      "validation: lpips: 0.013, psnr: 35.354, ssim: 0.988\n",
      "\n"
     ]
    },
    {
     "name": "stderr",
     "output_type": "stream",
     "text": [
      "epoch #41: 100%|█████████████████████████████████████████████████████| 1250/1250 [01:13<00:00, 16.97it/s, kl=134, loss=12.9, on_l1=8.23, rec=6.17]\n"
     ]
    },
    {
     "name": "stdout",
     "output_type": "stream",
     "text": [
      "Adjusting learning rate of group 0 to 2.3196e-05.\n",
      "epoch 41 summary\n",
      "loss: 13.567, rec: 6.792, kl: 135.500\n",
      "kl_balance: 0.001, kl_kp: 74.963, kl_feat: 548.604\n",
      "kl_scale: 40.770, kl_depth: 40.483, kl_obj_on: 19.178\n",
      "mu max: 0.8275608420372009, mu min: -1.576448917388916\n",
      "mu offset max: 0.2465038001537323, mu offset min: -0.32271644473075867\n",
      "val loss (freq: 1): 13.916, best: 13.348 @ epoch: 39\n",
      "obj_on max: 0.9999998807907104, obj_on min: 3.936758474765156e-09\n",
      "scale max: 0.25822389125823975, scale min: 0.16278183460235596\n",
      "depth max: 8.817032814025879, depth min: -1.26173996925354\n",
      "val lpips (freq: 1): 0.013, best: 0.013 @ epoch: 39\n",
      "\n",
      "bb scores: max: 21.02, min: 0.00, mean: 14.09\n",
      "\n",
      "validation step...\n"
     ]
    },
    {
     "name": "stderr",
     "output_type": "stream",
     "text": [
      "100%|███████████████████████████████████████████████████████████████████████████████████████████████████████| 2000/2000 [00:00<00:00, 2315.38it/s]\n"
     ]
    },
    {
     "name": "stdout",
     "output_type": "stream",
     "text": [
      "validation loss: 13.889\n",
      "\n"
     ]
    },
    {
     "name": "stderr",
     "output_type": "stream",
     "text": [
      "100%|███████████████████████████████████████████████████████████████████████████████████████████████████████| 2000/2000 [00:00<00:00, 2328.78it/s]\n",
      "100%|█████████████████████████████████████████████████████████████████████████████████████████████████████████████| 63/63 [00:02<00:00, 26.24it/s]\n"
     ]
    },
    {
     "name": "stdout",
     "output_type": "stream",
     "text": [
      "validation: lpips: 0.014, psnr: 35.348, ssim: 0.988\n",
      "\n"
     ]
    },
    {
     "name": "stderr",
     "output_type": "stream",
     "text": [
      "epoch #42: 100%|███████████████████████████████████████████████████████| 1250/1250 [01:15<00:00, 16.49it/s, kl=132, loss=14, on_l1=8.61, rec=7.35]\n"
     ]
    },
    {
     "name": "stdout",
     "output_type": "stream",
     "text": [
      "Adjusting learning rate of group 0 to 2.2037e-05.\n",
      "epoch 42 summary\n",
      "loss: 13.816, rec: 7.049, kl: 135.343\n",
      "kl_balance: 0.001, kl_kp: 74.944, kl_feat: 550.512\n",
      "kl_scale: 40.776, kl_depth: 41.333, kl_obj_on: 19.031\n",
      "mu max: 0.7937739491462708, mu min: -1.5674164295196533\n",
      "mu offset max: 0.236941859126091, mu offset min: -0.31371086835861206\n",
      "val loss (freq: 1): 13.889, best: 13.348 @ epoch: 39\n",
      "obj_on max: 0.9999998807907104, obj_on min: 8.455723218503408e-06\n",
      "scale max: 0.26547133922576904, scale min: 0.16215412318706512\n",
      "depth max: 9.111305236816406, depth min: -1.1005704402923584\n",
      "val lpips (freq: 1): 0.014, best: 0.013 @ epoch: 39\n",
      "\n",
      "bb scores: max: 20.65, min: 0.00, mean: 14.68\n",
      "\n",
      "validation step...\n"
     ]
    },
    {
     "name": "stderr",
     "output_type": "stream",
     "text": [
      "100%|███████████████████████████████████████████████████████████████████████████████████████████████████████| 2000/2000 [00:00<00:00, 2301.66it/s]\n"
     ]
    },
    {
     "name": "stdout",
     "output_type": "stream",
     "text": [
      "validation loss: 14.335\n",
      "\n"
     ]
    },
    {
     "name": "stderr",
     "output_type": "stream",
     "text": [
      "100%|███████████████████████████████████████████████████████████████████████████████████████████████████████| 2000/2000 [00:00<00:00, 2181.28it/s]\n",
      "100%|█████████████████████████████████████████████████████████████████████████████████████████████████████████████| 63/63 [00:02<00:00, 26.38it/s]\n"
     ]
    },
    {
     "name": "stdout",
     "output_type": "stream",
     "text": [
      "validation: lpips: 0.013, psnr: 35.493, ssim: 0.989\n",
      "\n"
     ]
    },
    {
     "name": "stderr",
     "output_type": "stream",
     "text": [
      "epoch #43: 100%|█████████████████████████████████████████████████████| 1250/1250 [01:15<00:00, 16.48it/s, kl=136, loss=20.5, on_l1=8.96, rec=13.7]\n"
     ]
    },
    {
     "name": "stdout",
     "output_type": "stream",
     "text": [
      "Adjusting learning rate of group 0 to 2.0935e-05.\n",
      "epoch 43 summary\n",
      "loss: 13.593, rec: 6.828, kl: 135.297\n",
      "kl_balance: 0.001, kl_kp: 75.080, kl_feat: 544.535\n",
      "kl_scale: 40.645, kl_depth: 39.666, kl_obj_on: 18.988\n",
      "mu max: 0.8200398087501526, mu min: -1.3609380722045898\n",
      "mu offset max: 0.2685164511203766, mu offset min: -0.2850646674633026\n",
      "val loss (freq: 1): 14.335, best: 13.348 @ epoch: 39\n",
      "obj_on max: 0.9999998807907104, obj_on min: 5.814016731164884e-06\n",
      "scale max: 0.27366048097610474, scale min: 0.14711876213550568\n",
      "depth max: 9.627701759338379, depth min: -0.9661686420440674\n",
      "val lpips (freq: 1): 0.013, best: 0.013 @ epoch: 39\n",
      "\n",
      "bb scores: max: 20.39, min: -0.01, mean: 15.71\n",
      "\n",
      "validation step...\n"
     ]
    },
    {
     "name": "stderr",
     "output_type": "stream",
     "text": [
      "100%|███████████████████████████████████████████████████████████████████████████████████████████████████████| 2000/2000 [00:00<00:00, 2329.72it/s]\n"
     ]
    },
    {
     "name": "stdout",
     "output_type": "stream",
     "text": [
      "validation loss: 13.743\n",
      "\n"
     ]
    },
    {
     "name": "stderr",
     "output_type": "stream",
     "text": [
      "100%|███████████████████████████████████████████████████████████████████████████████████████████████████████| 2000/2000 [00:00<00:00, 2372.69it/s]\n",
      "100%|█████████████████████████████████████████████████████████████████████████████████████████████████████████████| 63/63 [00:02<00:00, 26.34it/s]\n"
     ]
    },
    {
     "name": "stdout",
     "output_type": "stream",
     "text": [
      "validation: lpips: 0.012, psnr: 35.625, ssim: 0.989\n",
      "\n",
      "validation lpips updated: 0.013 -> 0.012\n",
      "\n"
     ]
    },
    {
     "name": "stderr",
     "output_type": "stream",
     "text": [
      "epoch #44: 100%|█████████████████████████████████████████████████████| 1250/1250 [01:13<00:00, 16.97it/s, kl=131, loss=12.4, on_l1=8.65, rec=5.83]\n"
     ]
    },
    {
     "name": "stdout",
     "output_type": "stream",
     "text": [
      "Adjusting learning rate of group 0 to 1.9888e-05.\n",
      "epoch 44 summary\n",
      "loss: 13.572, rec: 6.797, kl: 135.493\n",
      "kl_balance: 0.001, kl_kp: 75.015, kl_feat: 538.432\n",
      "kl_scale: 40.705, kl_depth: 42.009, kl_obj_on: 19.194\n",
      "mu max: 0.8324342370033264, mu min: -1.2665960788726807\n",
      "mu offset max: 0.2003890573978424, mu offset min: -0.21138852834701538\n",
      "val loss (freq: 1): 13.743, best: 13.348 @ epoch: 39\n",
      "obj_on max: 0.9999998807907104, obj_on min: 1.9183933955280175e-11\n",
      "scale max: 0.2740565836429596, scale min: 0.16619622707366943\n",
      "depth max: 7.851869583129883, depth min: -1.077027678489685\n",
      "val lpips (freq: 1): 0.012, best: 0.012 @ epoch: 43\n",
      "\n",
      "bb scores: max: 20.86, min: 0.00, mean: 14.80\n",
      "\n",
      "validation step...\n"
     ]
    },
    {
     "name": "stderr",
     "output_type": "stream",
     "text": [
      "100%|███████████████████████████████████████████████████████████████████████████████████████████████████████| 2000/2000 [00:00<00:00, 2289.28it/s]\n"
     ]
    },
    {
     "name": "stdout",
     "output_type": "stream",
     "text": [
      "validation loss: 13.915\n",
      "\n"
     ]
    },
    {
     "name": "stderr",
     "output_type": "stream",
     "text": [
      "100%|███████████████████████████████████████████████████████████████████████████████████████████████████████| 2000/2000 [00:00<00:00, 2320.66it/s]\n",
      "100%|█████████████████████████████████████████████████████████████████████████████████████████████████████████████| 63/63 [00:02<00:00, 26.12it/s]\n"
     ]
    },
    {
     "name": "stdout",
     "output_type": "stream",
     "text": [
      "validation: lpips: 0.013, psnr: 35.477, ssim: 0.988\n",
      "\n"
     ]
    },
    {
     "name": "stderr",
     "output_type": "stream",
     "text": [
      "epoch #45: 100%|██████████████████████████████████████████████████████| 1250/1250 [01:13<00:00, 16.91it/s, kl=136, loss=13.2, on_l1=8.6, rec=6.36]\n"
     ]
    },
    {
     "name": "stdout",
     "output_type": "stream",
     "text": [
      "Adjusting learning rate of group 0 to 1.8894e-05.\n",
      "epoch 45 summary\n",
      "loss: 14.036, rec: 7.278, kl: 135.158\n",
      "kl_balance: 0.001, kl_kp: 74.972, kl_feat: 552.582\n",
      "kl_scale: 40.464, kl_depth: 40.394, kl_obj_on: 19.129\n",
      "mu max: 0.8015533685684204, mu min: -1.3990705013275146\n",
      "mu offset max: 0.26214268803596497, mu offset min: -0.3006659746170044\n",
      "val loss (freq: 1): 13.915, best: 13.348 @ epoch: 39\n",
      "obj_on max: 0.9999998807907104, obj_on min: 1.5631003268276405e-19\n",
      "scale max: 0.2635999321937561, scale min: 0.13984553515911102\n",
      "depth max: 8.11617660522461, depth min: -1.1648266315460205\n",
      "val lpips (freq: 1): 0.013, best: 0.012 @ epoch: 43\n",
      "\n",
      "bb scores: max: 20.94, min: -0.35, mean: 15.02\n",
      "\n",
      "validation step...\n"
     ]
    },
    {
     "name": "stderr",
     "output_type": "stream",
     "text": [
      "100%|███████████████████████████████████████████████████████████████████████████████████████████████████████| 2000/2000 [00:00<00:00, 2356.96it/s]\n"
     ]
    },
    {
     "name": "stdout",
     "output_type": "stream",
     "text": [
      "validation loss: 14.524\n",
      "\n"
     ]
    },
    {
     "name": "stderr",
     "output_type": "stream",
     "text": [
      "100%|███████████████████████████████████████████████████████████████████████████████████████████████████████| 2000/2000 [00:00<00:00, 2250.61it/s]\n",
      "100%|█████████████████████████████████████████████████████████████████████████████████████████████████████████████| 63/63 [00:02<00:00, 26.23it/s]\n"
     ]
    },
    {
     "name": "stdout",
     "output_type": "stream",
     "text": [
      "validation: lpips: 0.013, psnr: 35.635, ssim: 0.989\n",
      "\n"
     ]
    },
    {
     "name": "stderr",
     "output_type": "stream",
     "text": [
      "epoch #46: 100%|█████████████████████████████████████████████████████| 1250/1250 [01:15<00:00, 16.48it/s, kl=138, loss=11.6, on_l1=8.67, rec=4.73]\n"
     ]
    },
    {
     "name": "stdout",
     "output_type": "stream",
     "text": [
      "Adjusting learning rate of group 0 to 1.7949e-05.\n",
      "epoch 46 summary\n",
      "loss: 14.011, rec: 7.228, kl: 135.660\n",
      "kl_balance: 0.001, kl_kp: 75.239, kl_feat: 547.879\n",
      "kl_scale: 40.682, kl_depth: 40.815, kl_obj_on: 19.150\n",
      "mu max: 0.8341858983039856, mu min: -1.1812514066696167\n",
      "mu offset max: 0.22821186482906342, mu offset min: -0.20375578105449677\n",
      "val loss (freq: 1): 14.524, best: 13.348 @ epoch: 39\n",
      "obj_on max: 0.9999998807907104, obj_on min: 0.013353648595511913\n",
      "scale max: 0.2677331864833832, scale min: 0.1569303572177887\n",
      "depth max: 8.005602836608887, depth min: -0.9861589670181274\n",
      "val lpips (freq: 1): 0.013, best: 0.012 @ epoch: 43\n",
      "\n",
      "bb scores: max: 20.51, min: 0.01, mean: 15.16\n",
      "\n",
      "validation step...\n"
     ]
    },
    {
     "name": "stderr",
     "output_type": "stream",
     "text": [
      "100%|███████████████████████████████████████████████████████████████████████████████████████████████████████| 2000/2000 [00:00<00:00, 2349.47it/s]\n"
     ]
    },
    {
     "name": "stdout",
     "output_type": "stream",
     "text": [
      "validation loss: 13.900\n",
      "\n"
     ]
    },
    {
     "name": "stderr",
     "output_type": "stream",
     "text": [
      "100%|███████████████████████████████████████████████████████████████████████████████████████████████████████| 2000/2000 [00:00<00:00, 2339.39it/s]\n",
      "100%|█████████████████████████████████████████████████████████████████████████████████████████████████████████████| 63/63 [00:02<00:00, 26.14it/s]\n"
     ]
    },
    {
     "name": "stdout",
     "output_type": "stream",
     "text": [
      "validation: lpips: 0.013, psnr: 35.746, ssim: 0.988\n",
      "\n"
     ]
    },
    {
     "name": "stderr",
     "output_type": "stream",
     "text": [
      "epoch #47: 100%|█████████████████████████████████████████████████████| 1250/1250 [01:13<00:00, 16.97it/s, kl=139, loss=12.5, on_l1=8.97, rec=5.53]\n"
     ]
    },
    {
     "name": "stdout",
     "output_type": "stream",
     "text": [
      "Adjusting learning rate of group 0 to 1.7052e-05.\n",
      "epoch 47 summary\n",
      "loss: 13.677, rec: 6.901, kl: 135.524\n",
      "kl_balance: 0.001, kl_kp: 75.123, kl_feat: 550.472\n",
      "kl_scale: 40.660, kl_depth: 38.877, kl_obj_on: 19.152\n",
      "mu max: 0.7808035016059875, mu min: -1.0612436532974243\n",
      "mu offset max: 0.17508183419704437, mu offset min: -0.19256094098091125\n",
      "val loss (freq: 1): 13.900, best: 13.348 @ epoch: 39\n",
      "obj_on max: 0.9999998807907104, obj_on min: 0.029949156567454338\n",
      "scale max: 0.2610727548599243, scale min: 0.166444793343544\n",
      "depth max: 5.332210063934326, depth min: -0.8430318236351013\n",
      "val lpips (freq: 1): 0.013, best: 0.012 @ epoch: 43\n",
      "\n",
      "bb scores: max: 20.80, min: 0.07, mean: 15.94\n",
      "\n",
      "validation step...\n"
     ]
    },
    {
     "name": "stderr",
     "output_type": "stream",
     "text": [
      "100%|███████████████████████████████████████████████████████████████████████████████████████████████████████| 2000/2000 [00:00<00:00, 2335.61it/s]\n"
     ]
    },
    {
     "name": "stdout",
     "output_type": "stream",
     "text": [
      "validation loss: 13.885\n",
      "\n"
     ]
    },
    {
     "name": "stderr",
     "output_type": "stream",
     "text": [
      "100%|███████████████████████████████████████████████████████████████████████████████████████████████████████| 2000/2000 [00:00<00:00, 2342.80it/s]\n",
      "100%|█████████████████████████████████████████████████████████████████████████████████████████████████████████████| 63/63 [00:02<00:00, 26.32it/s]\n"
     ]
    },
    {
     "name": "stdout",
     "output_type": "stream",
     "text": [
      "validation: lpips: 0.013, psnr: 35.598, ssim: 0.989\n",
      "\n"
     ]
    },
    {
     "name": "stderr",
     "output_type": "stream",
     "text": [
      "epoch #48: 100%|█████████████████████████████████████████████████████| 1250/1250 [01:13<00:00, 16.99it/s, kl=135, loss=12.6, on_l1=8.52, rec=5.82]\n"
     ]
    },
    {
     "name": "stdout",
     "output_type": "stream",
     "text": [
      "Adjusting learning rate of group 0 to 1.6199e-05.\n",
      "epoch 48 summary\n",
      "loss: 13.568, rec: 6.814, kl: 135.085\n",
      "kl_balance: 0.001, kl_kp: 74.792, kl_feat: 538.878\n",
      "kl_scale: 40.685, kl_depth: 42.016, kl_obj_on: 19.027\n",
      "mu max: 0.8148866891860962, mu min: -1.2195552587509155\n",
      "mu offset max: 0.23750214278697968, mu offset min: -0.22405759990215302\n",
      "val loss (freq: 1): 13.885, best: 13.348 @ epoch: 39\n",
      "obj_on max: 0.9999998807907104, obj_on min: 1.9620073794801574e-12\n",
      "scale max: 0.26369452476501465, scale min: 0.1486448049545288\n",
      "depth max: 9.497188568115234, depth min: -1.1348750591278076\n",
      "val lpips (freq: 1): 0.013, best: 0.012 @ epoch: 43\n",
      "\n",
      "bb scores: max: 21.34, min: -0.05, mean: 14.64\n",
      "\n",
      "validation step...\n"
     ]
    },
    {
     "name": "stderr",
     "output_type": "stream",
     "text": [
      "100%|███████████████████████████████████████████████████████████████████████████████████████████████████████| 2000/2000 [00:00<00:00, 2351.91it/s]\n"
     ]
    },
    {
     "name": "stdout",
     "output_type": "stream",
     "text": [
      "validation loss: 14.551\n",
      "\n"
     ]
    },
    {
     "name": "stderr",
     "output_type": "stream",
     "text": [
      "100%|███████████████████████████████████████████████████████████████████████████████████████████████████████| 2000/2000 [00:00<00:00, 2374.71it/s]\n",
      "100%|█████████████████████████████████████████████████████████████████████████████████████████████████████████████| 63/63 [00:02<00:00, 26.35it/s]\n"
     ]
    },
    {
     "name": "stdout",
     "output_type": "stream",
     "text": [
      "validation: lpips: 0.013, psnr: 35.865, ssim: 0.989\n",
      "\n"
     ]
    },
    {
     "name": "stderr",
     "output_type": "stream",
     "text": [
      "epoch #49: 100%|███████████████████████████████████████████████████████| 1250/1250 [01:13<00:00, 16.96it/s, kl=139, loss=14, on_l1=8.73, rec=7.02]\n"
     ]
    },
    {
     "name": "stdout",
     "output_type": "stream",
     "text": [
      "Adjusting learning rate of group 0 to 1.5389e-05.\n",
      "epoch 49 summary\n",
      "loss: 13.742, rec: 6.986, kl: 135.131\n",
      "kl_balance: 0.001, kl_kp: 74.882, kl_feat: 539.161\n",
      "kl_scale: 40.621, kl_depth: 40.916, kl_obj_on: 19.049\n",
      "mu max: 0.8335652351379395, mu min: -1.073560357093811\n",
      "mu offset max: 0.22268438339233398, mu offset min: -0.23903432488441467\n",
      "val loss (freq: 1): 14.551, best: 13.348 @ epoch: 39\n",
      "obj_on max: 0.9999998807907104, obj_on min: 0.11558952927589417\n",
      "scale max: 0.2672719955444336, scale min: 0.1672614961862564\n",
      "depth max: 7.184272766113281, depth min: -0.9780866503715515\n",
      "val lpips (freq: 1): 0.013, best: 0.012 @ epoch: 43\n",
      "\n",
      "bb scores: max: 20.36, min: 0.16, mean: 15.49\n",
      "\n",
      "validation step...\n"
     ]
    },
    {
     "name": "stderr",
     "output_type": "stream",
     "text": [
      "100%|███████████████████████████████████████████████████████████████████████████████████████████████████████| 2000/2000 [00:00<00:00, 2376.52it/s]\n"
     ]
    },
    {
     "name": "stdout",
     "output_type": "stream",
     "text": [
      "validation loss: 13.795\n",
      "\n"
     ]
    },
    {
     "name": "stderr",
     "output_type": "stream",
     "text": [
      "100%|███████████████████████████████████████████████████████████████████████████████████████████████████████| 2000/2000 [00:00<00:00, 2332.94it/s]\n",
      "100%|█████████████████████████████████████████████████████████████████████████████████████████████████████████████| 63/63 [00:02<00:00, 26.31it/s]\n"
     ]
    },
    {
     "name": "stdout",
     "output_type": "stream",
     "text": [
      "validation: lpips: 0.013, psnr: 35.577, ssim: 0.988\n",
      "\n"
     ]
    }
   ],
   "source": [
    "# train\n",
    "%matplotlib agg\n",
    "model = train_dlp(conf_path)"
   ]
  },
  {
   "cell_type": "markdown",
   "metadata": {},
   "source": [
    "#### Visualization and Manipulation\n",
    "---\n",
    "* Let's visualize some of the model's output and manipulate learned particles."
   ]
  },
  {
   "cell_type": "code",
   "execution_count": 13,
   "metadata": {},
   "outputs": [],
   "source": [
    "from utils.util_func import plot_keypoints_on_image_batch, plot_bb_on_image_batch_from_z_scale_nms, plot_bb_on_image_batch_from_masks_nms"
   ]
  },
  {
   "cell_type": "code",
   "execution_count": 9,
   "metadata": {},
   "outputs": [
    {
     "name": "stdout",
     "output_type": "stream",
     "text": [
      "img_batch: torch.Size([5, 3, 64, 64])\n"
     ]
    }
   ],
   "source": [
    "img_batch = torch.stack([im[0] for im in sample_images], dim=0).to(torch.device(shapes_config['device']))\n",
    "print(f'img_batch: {img_batch.shape}')"
   ]
  },
  {
   "cell_type": "code",
   "execution_count": 43,
   "metadata": {},
   "outputs": [],
   "source": [
    "# forward\n",
    "with torch.no_grad():\n",
    "    model_dict = model(img_batch, deterministic=True)\n",
    "# unpack\n",
    "kp_p = model_dict['kp_p']\n",
    "rec = model_dict['rec']\n",
    "mu = model_dict['mu']\n",
    "logvar = model_dict['logvar_offset']\n",
    "z = model_dict['z']\n",
    "z_depth = model_dict['z_depth']\n",
    "z_scale = model_dict['z_scale']\n",
    "obj_on = model_dict['obj_on']\n",
    "z_features = model_dict['z_features']\n",
    "z_bg = model_dict['z_bg']\n",
    "bg = model_dict['bg']\n",
    "cropped_objects_original = model_dict['cropped_objects_original']\n",
    "dec_objects_original = model_dict['dec_objects_original']\n",
    "dec_objects = model_dict['dec_objects']\n",
    "alpha_masks = model_dict['alpha_masks']"
   ]
  },
  {
   "cell_type": "code",
   "execution_count": 44,
   "metadata": {},
   "outputs": [],
   "source": [
    "# let's plot stuff\n",
    "%matplotlib inline\n",
    "x = img_batch\n",
    "x_prior = x\n",
    "kp_range = shapes_config['kp_range']\n",
    "mu_plot = z.clamp(min=kp_range[0], max=kp_range[1])\n",
    "max_imgs = num_images = 4\n",
    "topk = 5\n",
    "iou_thresh = 0.2\n",
    "img_with_kp = plot_keypoints_on_image_batch(mu_plot, x, radius=3,\n",
    "                                            thickness=1, max_imgs=max_imgs, kp_range=kp_range)\n",
    "img_with_kp_p = plot_keypoints_on_image_batch(kp_p, x_prior, radius=3, thickness=1, max_imgs=max_imgs,\n",
    "                                              kp_range=kp_range)\n",
    "# top-k\n",
    "with torch.no_grad():\n",
    "    logvar_sum = logvar.sum(-1) * obj_on  # [bs, n_kp]\n",
    "    logvar_topk = torch.topk(logvar_sum, k=topk, dim=-1, largest=False)\n",
    "    indices = logvar_topk[1]  # [batch_size, topk]\n",
    "    batch_indices = torch.arange(z.shape[0]).view(-1, 1).to(z.device)\n",
    "    topk_kp = z[batch_indices, indices]\n",
    "    # bounding boxes\n",
    "    bb_scores = -1 * logvar_sum\n",
    "    hard_threshold = None\n",
    "\n",
    "kp_batch = mu_plot\n",
    "scale_batch = z_scale\n",
    "img_with_masks_nms, nms_ind = plot_bb_on_image_batch_from_z_scale_nms(kp_batch, scale_batch, x,\n",
    "                                                                      scores=bb_scores,\n",
    "                                                                      iou_thresh=iou_thresh,\n",
    "                                                                      thickness=1, max_imgs=max_imgs,\n",
    "                                                                      hard_thresh=hard_threshold)\n",
    "alpha_masks = torch.where(alpha_masks < 0.05, 0.0, 1.0)\n",
    "img_with_masks_alpha_nms, _ = plot_bb_on_image_batch_from_masks_nms(alpha_masks, x, scores=bb_scores,\n",
    "                                                                    iou_thresh=iou_thresh, thickness=1,\n",
    "                                                                    max_imgs=max_imgs,\n",
    "                                                                    hard_thresh=hard_threshold)\n",
    "\n",
    "img_with_kp_topk = plot_keypoints_on_image_batch(topk_kp.clamp(min=kp_range[0], max=kp_range[1]), x,\n",
    "                                                 radius=3, thickness=1, max_imgs=max_imgs,\n",
    "                                                 kp_range=kp_range)"
   ]
  },
  {
   "cell_type": "code",
   "execution_count": 45,
   "metadata": {},
   "outputs": [
    {
     "data": {
      "image/png": "[encoded data removed]",
      "text/plain": [
       "<Figure size 1000x1000 with 4 Axes>"
      ]
     },
     "metadata": {},
     "output_type": "display_data"
    }
   ],
   "source": [
    "gt_image = img_batch.permute(0, 2, 3, 1).cpu().numpy()\n",
    "fig = plt.figure(figsize=(10, 10))\n",
    "for i in range(num_images):\n",
    "    ax = fig.add_subplot(1, num_images, i + 1)\n",
    "    ax.imshow(gt_image[i])\n",
    "    ax.set_axis_off()\n",
    "    if i == 0:\n",
    "        ax.set_title('ground truth image')"
   ]
  },
  {
   "cell_type": "code",
   "execution_count": 46,
   "metadata": {},
   "outputs": [
    {
     "data": {
      "image/png": "[encoded data removed]",
      "text/plain": [
       "<Figure size 1000x1000 with 4 Axes>"
      ]
     },
     "metadata": {},
     "output_type": "display_data"
    }
   ],
   "source": [
    "img_with_posterior_kp = img_with_kp.permute(0, 2, 3, 1).cpu().numpy()\n",
    "fig = plt.figure(figsize=(10, 10))\n",
    "for i in range(num_images):\n",
    "    ax = fig.add_subplot(1, num_images, i + 1)\n",
    "    ax.imshow(img_with_posterior_kp[i])\n",
    "    ax.set_axis_off()\n",
    "    if i == 0:\n",
    "        ax.set_title('learned particles')"
   ]
  },
  {
   "cell_type": "code",
   "execution_count": 47,
   "metadata": {},
   "outputs": [
    {
     "data": {
      "image/png": "[encoded data removed]",
      "text/plain": [
       "<Figure size 1000x1000 with 4 Axes>"
      ]
     },
     "metadata": {},
     "output_type": "display_data"
    }
   ],
   "source": [
    "img_with_kp_proposals = img_with_kp_p.permute(0, 2, 3, 1).cpu().numpy()\n",
    "fig = plt.figure(figsize=(10, 10))\n",
    "for i in range(num_images):\n",
    "    ax = fig.add_subplot(1, num_images, i + 1)\n",
    "    ax.imshow(img_with_kp_proposals[i])\n",
    "    ax.set_axis_off()\n",
    "    if i == 0:\n",
    "        ax.set_title('keypoint proposals (prior)')"
   ]
  },
  {
   "cell_type": "code",
   "execution_count": 48,
   "metadata": {},
   "outputs": [
    {
     "data": {
      "image/png": "[encoded data removed]",
      "text/plain": [
       "<Figure size 1000x1000 with 4 Axes>"
      ]
     },
     "metadata": {},
     "output_type": "display_data"
    }
   ],
   "source": [
    "img_with_topk_kp = img_with_kp_topk.permute(0, 2, 3, 1).cpu().numpy()\n",
    "fig = plt.figure(figsize=(10, 10))\n",
    "for i in range(num_images):\n",
    "    ax = fig.add_subplot(1, num_images, i + 1)\n",
    "    ax.imshow(img_with_topk_kp[i])\n",
    "    ax.set_axis_off()\n",
    "    if i == 0:\n",
    "        ax.set_title(f'top-{topk} particles')"
   ]
  },
  {
   "cell_type": "code",
   "execution_count": 49,
   "metadata": {},
   "outputs": [
    {
     "data": {
      "image/png": "[encoded data removed]",
      "text/plain": [
       "<Figure size 1000x1000 with 4 Axes>"
      ]
     },
     "metadata": {},
     "output_type": "display_data"
    }
   ],
   "source": [
    "img_with_bb = img_with_masks_alpha_nms.permute(0, 2, 3, 1).cpu().numpy()\n",
    "fig = plt.figure(figsize=(10, 10))\n",
    "for i in range(num_images):\n",
    "    ax = fig.add_subplot(1, num_images, i + 1)\n",
    "    ax.imshow(img_with_bb[i])\n",
    "    ax.set_axis_off()\n",
    "    if i == 0:\n",
    "        ax.set_title(f'bounding boxes')"
   ]
  },
  {
   "cell_type": "code",
   "execution_count": 50,
   "metadata": {},
   "outputs": [
    {
     "data": {
      "image/png": "[encoded data removed]",
      "text/plain": [
       "<Figure size 1000x1000 with 4 Axes>"
      ]
     },
     "metadata": {},
     "output_type": "display_data"
    }
   ],
   "source": [
    "reconsturction = rec.permute(0, 2, 3, 1).cpu().numpy()\n",
    "fig = plt.figure(figsize=(10, 10))\n",
    "for i in range(num_images):\n",
    "    ax = fig.add_subplot(1, num_images, i + 1)\n",
    "    ax.imshow(reconsturction[i])\n",
    "    ax.set_axis_off()\n",
    "    if i == 0:\n",
    "        ax.set_title(f'reconstructions')"
   ]
  },
  {
   "cell_type": "code",
   "execution_count": 51,
   "metadata": {},
   "outputs": [
    {
     "data": {
      "image/png": "[encoded data removed]",
      "text/plain": [
       "<Figure size 1000x1000 with 4 Axes>"
      ]
     },
     "metadata": {},
     "output_type": "display_data"
    }
   ],
   "source": [
    "all_objects_with_masks = dec_objects.permute(0, 2, 3, 1).detach().cpu().numpy()\n",
    "fig = plt.figure(figsize=(10, 10))\n",
    "for i in range(num_images):\n",
    "    ax = fig.add_subplot(1, num_images, i + 1)\n",
    "    ax.imshow(all_objects_with_masks[i])\n",
    "    ax.set_axis_off()\n",
    "    if i == 0:\n",
    "        ax.set_title(f'objects and masks')"
   ]
  },
  {
   "cell_type": "code",
   "execution_count": 52,
   "metadata": {},
   "outputs": [
    {
     "data": {
      "image/png": "[encoded data removed]",
      "text/plain": [
       "<Figure size 1000x1000 with 4 Axes>"
      ]
     },
     "metadata": {},
     "output_type": "display_data"
    }
   ],
   "source": [
    "# background\n",
    "bg_rec = bg.permute(0, 2, 3, 1).detach().cpu().numpy()\n",
    "fig = plt.figure(figsize=(10, 10))\n",
    "for i in range(num_images):\n",
    "    ax = fig.add_subplot(1, num_images, i + 1)\n",
    "    ax.imshow(bg_rec[i])\n",
    "    ax.set_axis_off()\n",
    "    if i == 0:\n",
    "        ax.set_title(f'background')"
   ]
  },
  {
   "cell_type": "code",
   "execution_count": 54,
   "metadata": {},
   "outputs": [],
   "source": [
    "# manipulation - let's move the particles a bit and see what happens\n",
    "z_manip = z + 0.3\n",
    "with torch.no_grad():\n",
    "    decoder_dict = model.decode_all(z_manip, z_features, z_bg, obj_on, z_depth=z_depth, z_scale=z_scale)\n",
    "rec_new = decoder_dict['rec']"
   ]
  },
  {
   "cell_type": "code",
   "execution_count": 55,
   "metadata": {},
   "outputs": [
    {
     "data": {
      "image/png": "[encoded data removed]",
      "text/plain": [
       "<Figure size 1000x1000 with 4 Axes>"
      ]
     },
     "metadata": {},
     "output_type": "display_data"
    }
   ],
   "source": [
    "manip_reconstruction = rec_new.permute(0, 2, 3, 1).cpu().numpy()\n",
    "fig = plt.figure(figsize=(10, 10))\n",
    "for i in range(num_images):\n",
    "    ax = fig.add_subplot(1, num_images, i + 1)\n",
    "    ax.imshow(manip_reconstruction[i])\n",
    "    ax.set_axis_off()\n",
    "    if i == 0:\n",
    "        ax.set_title(f'manipulation')"
   ]
  },
  {
   "cell_type": "markdown",
   "metadata": {},
   "source": [
    "### <img src=\"https://img.icons8.com/external-flaticons-flat-flat-icons/64/000000/external-neural-network-the-future-flaticons-flat-flat-icons.png\" style=\"height:50px;display:inline\"> DDLP - Model\n",
    "---\n",
    "* DDLP extends DLPv2 to videos by introducing a particle tracking posterior learning process and a transformer-based dynamics module, to model the particle dynamics over time.\n",
    "* In what follows, we will introduce the new components, while the rest of the model (FG + BG) remains the same as DLPv2."
   ]
  },
  {
   "cell_type": "markdown",
   "metadata": {},
   "source": [
    "#### Particle Tracking Posterior\n",
    "---\n",
    "* The posterior (encoder) in DLP uses a CNN applied to the image to propose keypoints. \n",
    "* However, simply treating each frame individually would not work, as **the order of the particles is not aligned between frames** and there is no guarantee that objects in consecutive frames will be assigned the same particle.\n",
    "\n",
    "<img src=\"https://github.com/taldatech/ddlp-web/blob/main/assets/images/align_fig.png?raw=true\" style=\"height:250px\">"
   ]
  },
  {
   "cell_type": "markdown",
   "metadata": {},
   "source": [
    "* We propose a tracking approach to achieve particle-alignment between frames, by predicting the keypoints of frame $x_t$ as *offsets* from the keypoints of frame $x_{t-1}$.\n",
    "* For each particle, our tracking posterior takes as input the position in the previous frame $x_{t-1}$, and searches for the keypoint in frame $x_t$ in a patch centered on the previous position.\n",
    "* Given a sequence of frames $\\{x^t\\}_{t=0}^{T-1}$ we perform an iterative encoding where in each step:<br>**(1)** The posterior keypoints from the previous step serve as anchors, from which an offset will be learned to the current step.<br>**(2)** To indicate the region in which the consecutive keypoint may be, the RGB patch input to the encoder is concatenated with an additional single-channel score-map generated by cross-correlating consecutive patches in time, implemented efficiently with group-convolution. \n",
    "* The single-channel generated score-map can help direct the search for the object in the consecutive frame. The score-map is concatenated channel-wise to the input of the encoder component that outputs the particle attributes from each glimpse.\n",
    "\n",
    "<img src=\"https://github.com/taldatech/ddlp-web/blob/main/assets/images/cross_corr.png?raw=true\" style=\"height:250px\">"
   ]
  },
  {
   "cell_type": "code",
   "execution_count": null,
   "metadata": {},
   "outputs": [],
   "source": [
    "# THIS CELL IS NOT MEANT TO BE RUN\n",
    "\n",
    "# sequential encoding sketch\n",
    "# for the first time step, standard encoding\n",
    "# ...\n",
    "fg_dict = self.fg_module.encode_all(x[:, 0], deterministic=deterministic, warmup=warmup, noisy=noisy,\n",
    "                                    kp_init=kp_init, refinement_iter=True)\n",
    "# unpack dictionary...\n",
    "# initialize lists to collect all outputs\n",
    "mus, logvars, zs, z_bases = [mu], [logvar], [z], [z_base]\n",
    "mu_offsets, logvar_offsets = [mu_offset], [logvar_offset]\n",
    "mu_featuress, logvar_featuress, z_featuress = [mu_features], [logvar_features], [z_features]\n",
    "cropped_objectss = [cropped_objects]\n",
    "obj_on_as, obj_on_bs, z_obj_ons = [obj_on_a], [obj_on_b], [z_obj_on]\n",
    "mu_depths, logvar_depths, z_depths = [mu_depth], [logvar_depth], [z_depth]\n",
    "mu_scales, logvar_scales, z_scales = [mu_scale], [logvar_scale], [z_scale]\n",
    "# track\n",
    "for i in range(1, timestep_horizon):\n",
    "    # tracking, search for mu_tot in the area of the previous mu\n",
    "    mu_prev = zs[-1].detach()\n",
    "    cropped_objects_prev = cropped_objectss[-1].detach()\n",
    "    cropped_objects_prev = cropped_objects_prev.view(-1, *cropped_objects_prev.shape[2:])\n",
    "    mu_scale_prev = z_scales[-1].detach()\n",
    "    fg_dict = self.fg_module.encode_all(x[:, i], deterministic=deterministic, warmup=warmup,\n",
    "                                        noisy=noisy, kp_init=mu_prev,\n",
    "                                        cropped_objects_prev=cropped_objects_prev, scale_prev=mu_scale_prev)"
   ]
  },
  {
   "cell_type": "code",
   "execution_count": null,
   "metadata": {},
   "outputs": [],
   "source": [
    "# THIS CELL IS NOT MEANT TO BE RUN\n",
    "\n",
    "# normalized cross-correlation with group-convolution\n",
    "def correlate(x, kernel):\n",
    "    groups = kernel.shape[0]\n",
    "    output = F.conv2d(x, kernel, padding=0, groups=groups, stride=1, bias=None)\n",
    "    norm = torch.sqrt(torch.sum(kernel ** 2) * F.conv2d(x ** 2, torch.ones_like(kernel), groups=groups,\n",
    "                                                        bias=None, stride=1, padding=0) + 1e-10)\n",
    "    output = output / (norm + 1e-5)\n",
    "    return output\n",
    "\n",
    "in0 = cropped_objects.reshape(1, -1, *cropped_objects.shape[2:])\n",
    "# [1, bs * n_kp * ch, patch_size, patch_size]\n",
    "in0 = pad_func(in0)\n",
    "in1 = previous_objects.reshape(-1, *previous_objects.shape[1:])\n",
    "# [bs * n_kp, ch, patch_size, patch_size]\n",
    "output = correlate(x=in0, kernel=in1)"
   ]
  },
  {
   "cell_type": "markdown",
   "metadata": {},
   "source": [
    "#### Generative Predictive Dynamics with Particle Interaction Transformer (PINT)\n",
    "---"
   ]
  },
  {
   "cell_type": "markdown",
   "metadata": {},
   "source": [
    "* The dynamics module models the prior distribution $p_{\\psi}(z^{t+1}|z^t)$ of the particles' temporal evolution.\n",
    "* We propose a stochastic Transformer-based prior dynamics module that is trained in conjunction with the posterior, and utilizes the attention mechanism to capture the interaction between particles over time in parallel.\n",
    "* Our proposed dynamics module, termed *Particle Interaction Transformer (PINT)*, is a causal Transformer decoder based on the design of Generative Pre-trained Transformer (GPT).\n",
    "* Given the set of reparameterized particles $Z = \\{(z_0, ..., z_{K-1}, z_{\\text{bg}})^t\\}_{t=0}^{T-2}$, where $T$ is the prediction horizon and $z_{\\text{bg}}$ is a special particle representing the background, PINT outputs the one-step future prediction $\\hat{Z}=\\{(\\hat{z}_0, ..., \\hat{z}_{K-1}, \\hat{z}_{\\text{bg}})^t\\}_{t=1}^{T-1}$.\n",
    "* We do not add positional embeddings before the attention layers, but add a learned per-head **relative positional bias** which is directly added to the attention matrix before the softmax operation.\n",
    "* We decompose the added relative positional bias to a *temporal* relative positional bias and a *spatial* relative bias. \n",
    "* The temporal embedding matrix $B_{\\text{time}} \\in \\mathbb{R}^{T \\times T}$ assures that all particles in the same time-step get the same relative temporal encoding, while the spatial embedding matrix $B_{\\text{pos}} \\in \\mathbb{R}^{(K+1) \\times (K+1)}$ assures that each particle is assigned a unique relative embedding through time.\n",
    "* $B_{\\text{time}}$ and $B_{\\text{pos}}$ are repeated $(K+1)$ and $T$ times respectively, and summed to create the relative positional bias matrix $B = B_{\\text{time}} + B_{\\text{pos}} \\in \\mathbb{R}^{\\left((K+1) T\\right) \\times \\left((K+1)T\\right)}, B(i, j) = b_i^j = b_i +b^j $, where $i$ denotes the relative time and $j$ the relative particle. <img src=\"https://github.com/taldatech/ddlp-web/blob/main/assets/images/rel_bias_left.png?raw=true\" style=\"height:250px\"> <img src=\"https://github.com/taldatech/ddlp-web/blob/main/assets/images/rel_pos_fig.png?raw=true\" style=\"height:250px\">\n",
    "* To model particle interactions, the attention operation is modified such that particles attend to each other in the same time-step and across time, i.e., the attention matrix $A \\in \\mathbb{R}^{\\left((K+1) T\\right) \\times \\left((K+1) T\\right)}$, and similarly to GPT we use a causal mask to ensure the attention only considers past inputs. <img src=\"https://github.com/taldatech/ddlp-web/blob/main/assets/images/causal_att.png?raw=true\" style=\"height:250px\">"
   ]
  },
  {
   "cell_type": "code",
   "execution_count": null,
   "metadata": {},
   "outputs": [],
   "source": [
    "# THIS CELL IS NOT MEANT TO BE RUN\n",
    "\n",
    "# causal particle attention + relative positional bias\n",
    "class CausalParticleSelfAttention(nn.Module):\n",
    "    \"\"\"\n",
    "    A particle-based multi-head masked self-attention layer with a projection at the end.\n",
    "    \"\"\"\n",
    "\n",
    "    def __init__(self, n_embed, n_head, block_size, attn_pdrop=0.1, resid_pdrop=0.1,\n",
    "                 positional_bias=False, max_particles=None, linear_bias=False):\n",
    "        super().__init__()\n",
    "        assert n_embed % n_head == 0\n",
    "        # key, query, value projections for all heads\n",
    "        self.key = nn.Linear(n_embed, n_embed, bias=linear_bias)\n",
    "        self.query = nn.Linear(n_embed, n_embed, bias=linear_bias)\n",
    "        self.value = nn.Linear(n_embed, n_embed, bias=linear_bias)\n",
    "        # regularization\n",
    "        self.attn_drop = nn.Dropout(attn_pdrop)\n",
    "        self.resid_drop = nn.Dropout(resid_pdrop)\n",
    "        # output projection\n",
    "        self.proj = nn.Linear(n_embed, n_embed, bias=linear_bias)\n",
    "        # causal mask to ensure that attention is only applied to the left in the input sequence\n",
    "        self.register_buffer(\"mask\", torch.tril(torch.ones(block_size, block_size))\n",
    "                             .view(1, 1, 1, block_size, 1, block_size))\n",
    "        self.n_head = n_head\n",
    "        self.positional_bias = positional_bias\n",
    "        self.max_particles = max_particles\n",
    "        if self.positional_bias:\n",
    "            self.rel_pos_bias = SimpleRelativePositionalBias(block_size, n_head, max_particles=max_particles)\n",
    "        else:\n",
    "            self.rel_pos_bias = nn.Identity()\n",
    "\n",
    "    def forward(self, x):\n",
    "        B, N, T, C = x.size()  # batch size, n_particles, sequence length, embedding dimensionality (n_embd)\n",
    "\n",
    "        # calculate query, key, values for all heads in batch and move head forward to be the batch dim\n",
    "        k = self.key(x).view(B, N * T, self.n_head, C // self.n_head).transpose(1, 2)  # (B, nh, N * T, hs)\n",
    "        q = self.query(x).view(B, N * T, self.n_head, C // self.n_head).transpose(1, 2)  # (B, nh, N * T, hs)\n",
    "        v = self.value(x).view(B, N * T, self.n_head, C // self.n_head).transpose(1, 2)  # (B, nh, N * T, hs)\n",
    "\n",
    "        # causal self-attention; Self-attend: (B, nh, N * T, hs) x (B, nh, hs, N  *T) -> (B, nh, N * T, N *T )\n",
    "        att = (q @ k.transpose(-2, -1)) * (1.0 / math.sqrt(k.size(-1)))  # (B, nh, N * T, N * T)\n",
    "        att = att.view(B, -1, N, T, N, T)  # (B, nh, N, T, N, T)\n",
    "        if self.positional_bias:\n",
    "            if self.max_particles is not None:\n",
    "                bias_t, bias_p = self.rel_pos_bias(T, num_particles=N)\n",
    "                bias_t = bias_t.view(1, bias_t.shape[1], 1, T, 1, T)\n",
    "                bias_p = bias_p.view(1, bias_p.shape[1], N, 1, N, 1)\n",
    "                att = att + bias_t + bias_p\n",
    "            else:\n",
    "                bias_t, _ = self.rel_pos_bias(T)\n",
    "                bias_t = bias_t.view(1, bias_t.shape[1], 1, T, 1, T)\n",
    "                att = att + bias_t\n",
    "        att = att.masked_fill(self.mask[:, :, :, :T, :, :T] == 0, float('-inf'))\n",
    "        att = att.view(B, -1, N * T, N * T)  # (B, nh, N * T, N * T)\n",
    "        att = F.softmax(att, dim=-1)\n",
    "        att = self.attn_drop(att)\n",
    "        y = att @ v  # (B, nh, N*T, N*T) x (B, nh, N*T, hs) -> (B, nh, N*T, hs)\n",
    "        y = y.transpose(1, 2).contiguous().view(B, N * T, C)  # re-assemble all head outputs side by side\n",
    "\n",
    "        # output projection\n",
    "        y = self.resid_drop(self.proj(y))\n",
    "        y = y.view(B, N, T, -1)\n",
    "        return y"
   ]
  },
  {
   "cell_type": "markdown",
   "metadata": {},
   "source": [
    "The following figure summarizes the DDLP model:\n",
    "\n",
    "<img src=\"https://github.com/taldatech/ddlp-web/blob/main/assets/images/arch_fig_pp.png?raw=true\" style=\"height:350px\">\n",
    "\n",
    "* Input are frames $\\{x\\}_0^{T-1}$. \n",
    "* For each $0\\leq t \\leq T-1$, a particle encoder produces the latent particle representation $z_t$ given $x_t$ and $z_{t-1}$; this encoder tracks the particles to induce consistency between frames. \n",
    "* Each individual latent $z_{t}$ is fed through the particle decoder to produce the reconstruction of frame $\\hat{x}_{t}$. \n",
    "* A Transformer-based dynamics module models the prior distribution parameters $\\{ \\hat{z}\\}_1^{T-1}$ given $\\{ z\\}_0^{T-2}$, and a KL loss term minimizes the distance between the prior $\\{ \\hat{z}\\}_1^{T-1}$ and posterior $\\{ z\\}_1^{T-1}$."
   ]
  },
  {
   "cell_type": "markdown",
   "metadata": {},
   "source": [
    "### <img src=\"https://img.icons8.com/external-bearicons-gradient-bearicons/64/external-Example-miscellany-texts-and-badges-bearicons-gradient-bearicons.png\" style=\"height:50px;display:inline\"> DDLP - Hyperparameters and Example Usage\n",
    "---\n",
    "* We will now create an instance of DDLP and look at its functions outputs.\n",
    "* More details are available in `/docs/example_usage.py`."
   ]
  },
  {
   "cell_type": "code",
   "execution_count": 16,
   "metadata": {},
   "outputs": [
    {
     "name": "stdout",
     "output_type": "stream",
     "text": [
      "--- DDLP ---\n",
      "model.info():\n",
      "prior (patch) kp filtering: 64 -> prior kp: 15\n",
      "prior (patch) kp filtering method: variance\n",
      "prior patch size: 8\n",
      "# posterior particles: 12\n",
      "particle visual feature dim: 6\n",
      "bg visual feature dim: 6\n",
      "posterior object patch size: 16\n",
      "cnn pre-pool out sizes: prior-torch.Size([64, 2, 2]), obj enc-torch.Size([64, 4, 4]), bg enc-torch.Size([128, 16, 16])\n",
      "object decoder # upsampling layers: 1\n",
      "correlation maps for tracking: True\n",
      "pint relative positional bias: True\n",
      "pint trainable parameters: 5085552 (5.0856M)\n",
      "trainable parameters: 9700348 (9.7003M)\n",
      "estimated size on disk: 37.006MB\n",
      "\n"
     ]
    }
   ],
   "source": [
    "# example hyper-parameters\n",
    "batch_size = 32\n",
    "beta_kl = 0.1\n",
    "beta_rec = 1.0\n",
    "kl_balance = 0.001  # balance between spatial attributes (x, y, scale, depth) and visual features\n",
    "n_kp_enc = 12\n",
    "n_kp_prior = 15\n",
    "patch_size = 8  # patch size for the prior to generate prior proposals\n",
    "learned_feature_dim = 6  # visual features\n",
    "anchor_s = 0.25  # effective patch size for the posterior: anchor_s * image_size\n",
    "image_size = 64\n",
    "ch = 3\n",
    "enc_channels = [32, 64, 128]\n",
    "prior_channels = (32, 32, 64)\n",
    "\n",
    "\n",
    "# device = torch.device(\"cuda:0\" if torch.cuda.is_available() else \"cpu\")\n",
    "device = torch.device(\"cpu\")\n",
    "use_correlation_heatmaps = True # for tracking, set True to use correlation heatmaps between patches\n",
    "pint_layers = 6  # transformer-based dynamics module number of layers\n",
    "pint_heads = 8  # transformer-based dynamics module attention heads\n",
    "pint_dim = 256  # transformer-based dynamics module inner dimension (+projection dim)\n",
    "beta_dyn = 0.1  # beta-kl for the dynamics loss\n",
    "num_static_frames = 4  # \"burn-in frames\", number of initial frames with kl w.r.t. constant prior (as in DLPv2)\n",
    "\n",
    "print(\"--- DDLP ---\")\n",
    "\n",
    "# create model\n",
    "model = ObjectDynamicsDLP(cdim=ch, enc_channels=enc_channels, prior_channels=prior_channels,\n",
    "                          image_size=image_size, learned_feature_dim=learned_feature_dim,\n",
    "                          patch_size=patch_size, n_kp_enc=n_kp_enc, n_kp_prior=n_kp_prior,\n",
    "                          anchor_s=anchor_s, use_correlation_heatmaps=use_correlation_heatmaps,\n",
    "                          pint_layers=pint_layers, pint_heads=pint_heads, pint_dim=pint_dim).to(device)\n",
    "print(f'model.info():')\n",
    "print(model.info())"
   ]
  },
  {
   "cell_type": "code",
   "execution_count": 17,
   "metadata": {},
   "outputs": [
    {
     "name": "stdout",
     "output_type": "stream",
     "text": [
      "model(x) output:\n",
      "kp_p: torch.Size([352, 15, 2])\n",
      "rec: torch.Size([352, 3, 64, 64])\n",
      "mu: torch.Size([352, 12, 2])\n",
      "logvar: torch.Size([352, 12, 2])\n",
      "z_base: torch.Size([352, 12, 2])\n",
      "z: torch.Size([352, 12, 2])\n",
      "z_kp_bg: torch.Size([352, 1, 2])\n",
      "mu_offset: torch.Size([352, 12, 2])\n",
      "logvar_offset: torch.Size([352, 12, 2])\n",
      "mu_features: torch.Size([352, 12, 6])\n",
      "logvar_features: torch.Size([352, 12, 6])\n",
      "z_features: torch.Size([352, 12, 6])\n",
      "bg: torch.Size([352, 3, 64, 64])\n",
      "mu_bg: torch.Size([352, 6])\n",
      "logvar_bg: torch.Size([352, 6])\n",
      "z_bg: torch.Size([352, 6])\n",
      "cropped_objects_original: torch.Size([352, 12, 3, 16, 16])\n",
      "obj_on_a: torch.Size([352, 12])\n",
      "obj_on_b: torch.Size([352, 12])\n",
      "obj_on: torch.Size([352, 12])\n",
      "dec_objects_original: torch.Size([352, 12, 4, 16, 16])\n",
      "dec_objects: torch.Size([352, 3, 64, 64])\n",
      "mu_depth: torch.Size([352, 12, 1])\n",
      "logvar_depth: torch.Size([352, 12, 1])\n",
      "z_depth: torch.Size([352, 12, 1])\n",
      "mu_scale: torch.Size([352, 12, 2])\n",
      "logvar_scale: torch.Size([352, 12, 2])\n",
      "z_scale: torch.Size([352, 12, 2])\n",
      "alpha_masks: torch.Size([352, 12, 1, 64, 64])\n",
      "mu_dyn: torch.Size([32, 10, 12, 2])\n",
      "logvar_dyn: torch.Size([32, 10, 12, 2])\n",
      "mu_features_dyn: torch.Size([32, 10, 12, 6])\n",
      "logvar_features_dyn: torch.Size([32, 10, 12, 6])\n",
      "obj_on_a_dyn: torch.Size([32, 10, 12])\n",
      "obj_on_b_dyn: torch.Size([32, 10, 12])\n",
      "mu_depth_dyn: torch.Size([32, 10, 12, 1])\n",
      "logvar_depth_dyn: torch.Size([32, 10, 12, 1])\n",
      "mu_scale_dyn: torch.Size([32, 10, 12, 2])\n",
      "logvar_scale_dyn: torch.Size([32, 10, 12, 2])\n",
      "mu_bg_dyn: torch.Size([32, 10, 6])\n",
      "logvar_bg_dyn: torch.Size([32, 10, 6])\n"
     ]
    }
   ],
   "source": [
    "timestep_horizon = 10\n",
    "x = torch.rand(batch_size, timestep_horizon + 1, ch, image_size, image_size, device=device)\n",
    "# complete forward\n",
    "model_output = model(x)\n",
    "# let's see what's inside\n",
    "print(f'model(x) output:')\n",
    "for k in model_output.keys():\n",
    "    print(f'{k}: {model_output[k].shape}')"
   ]
  },
  {
   "cell_type": "markdown",
   "metadata": {},
   "source": [
    "**posterior**: similar to DLPv2, but the first dimension is `batch_size * num_frames` for all:\n",
    "\n",
    "`kp_p`: torch.Size([352, 15, 2])\n",
    "\n",
    "`rec`: torch.Size([352, 3, 64, 64])\n",
    "\n",
    "`mu`: torch.Size([352, 12, 2])\n",
    "\n",
    "`logvar`: torch.Size([352, 12, 2])\n",
    "\n",
    "`z_base`: torch.Size([352, 12, 2])\n",
    "\n",
    "`z`: torch.Size([352, 12, 2])\n",
    "\n",
    "`z_kp_bg`: torch.Size([352, 1, 2])\n",
    "\n",
    "`mu_offset`: torch.Size([352, 12, 2])\n",
    "\n",
    "`logvar_offset`: torch.Size([352, 12, 2])\n",
    "\n",
    "`mu_features`: torch.Size([352, 12, 6])\n",
    "\n",
    "`logvar_features`: torch.Size([352, 12, 6])\n",
    "\n",
    "`z_features`: torch.Size([352, 12, 6])\n",
    "\n",
    "`bg`: torch.Size([352, 3, 64, 64])\n",
    "\n",
    "`mu_bg`: torch.Size([352, 6])\n",
    "\n",
    "`logvar_bg`: torch.Size([352, 6])\n",
    "\n",
    "`z_bg`: torch.Size([352, 6])\n",
    "\n",
    "`cropped_objects_original`: torch.Size([352, 12, 3, 16, 16])\n",
    "\n",
    "`obj_on_a`: torch.Size([352, 12])\n",
    "\n",
    "`obj_on_b`: torch.Size([352, 12])\n",
    "\n",
    "`obj_on`: torch.Size([352, 12])\n",
    "\n",
    "`dec_objects_original`: torch.Size([352, 12, 4, 16, 16])\n",
    "\n",
    "`dec_objects`: torch.Size([352, 3, 64, 64])\n",
    "\n",
    "`mu_depth`: torch.Size([352, 12, 1])\n",
    "\n",
    "`logvar_depth`: torch.Size([352, 12, 1])\n",
    "\n",
    "`z_depth`: torch.Size([352, 12, 1])\n",
    "\n",
    "`mu_scale`: torch.Size([352, 12, 2])\n",
    "\n",
    "`logvar_scale`: torch.Size([352, 12, 2])\n",
    "\n",
    "`z_scale`: torch.Size([352, 12, 2])\n",
    "\n",
    "`alpha_masks`: torch.Size([352, 12, 1, 64, 64])\n",
    "\n",
    "**prior dynamics**:\n",
    "\n",
    "`mu_dyn`: torch.Size([32, 10, 12, 2])  # dynamics-prior position for t=1->T-1 given t=0->T-2\n",
    "\n",
    "`logvar_dyn`: torch.Size([32, 10, 12, 2])  # dynamics-prior position for t=1->T-1 given t=0->T-2\n",
    "\n",
    "`mu_features_dyn`: torch.Size([32, 10, 12, 6])  # dynamics-prior visual appearance for t=1->T-1 given t=0->T-2\n",
    "\n",
    "`logvar_features_dyn`: torch.Size([32, 9, 12, 6])  # dynamics-prior visual appearance for t=1->T-1 given t=0->T-2\n",
    "\n",
    "`obj_on_a_dyn`: torch.Size([32, 10, 12])  # dynamics-prior transparency for t=1->T-1 given t=0->T-2\n",
    "\n",
    "`obj_on_b_dyn`: torch.Size([32, 10, 12])  # dynamics-prior transparency for t=1->T-1 given t=0->T-2\n",
    "\n",
    "`mu_depth_dyn`: torch.Size([32, 10, 12, 1])  # dynamics-prior depth for t=1->T-1 given t=0->T-2\n",
    "\n",
    "`logvar_depth_dyn`: torch.Size([32, 10, 12, 1])  # dynamics-prior depth for t=1->T-1 given t=0->T-2\n",
    "\n",
    "`mu_scale_dyn`: torch.Size([32, 10, 12, 2])  # dynamics-prior scale for t=1->T-1 given t=0->T-2\n",
    "\n",
    "`logvar_scale_dyn`: torch.Size([32, 10, 12, 2])  # dynamics-prior scale for t=1->T-1 given t=0->T-2\n",
    "\n",
    "`mu_bg_dyn`: torch.Size([32, 10, 6])  # dynamics-prior background appearance for t=1->T-1 given t=0->T-2\n",
    "\n",
    "`logvar_bg_dyn`: torch.Size([32, 10, 6])  # dynamics-prior background appearance for t=1->T-1 given t=0->T-2"
   ]
  },
  {
   "cell_type": "code",
   "execution_count": 18,
   "metadata": {},
   "outputs": [
    {
     "name": "stdout",
     "output_type": "stream",
     "text": [
      "model.calc_elbo(): model losses:\n",
      "loss: 465.182861328125\n",
      "psnr: 10.780303955078125\n",
      "kl: 2499.2744140625\n",
      "kl_dyn: 401.8912048339844\n",
      "loss_rec: 4826.89501953125\n",
      "obj_on_l1: 6.043821334838867\n",
      "loss_kl_kp: 979.3345947265625\n",
      "loss_kl_feat: 0.23109710216522217\n",
      "loss_kl_obj_on: 56.53932189941406\n",
      "loss_kl_scale: 1463.400146484375\n",
      "loss_kl_depth: 0.023124443367123604\n"
     ]
    }
   ],
   "source": [
    "# loss calculation\n",
    "all_losses = model.calc_elbo(x, model_output, beta_kl=beta_kl,\n",
    "                             beta_rec=beta_rec, kl_balance=kl_balance, beta_dyn=beta_dyn,\n",
    "                             num_static=num_static_frames,\n",
    "                             recon_loss_type=\"mse\")\n",
    "# let's see what's inside\n",
    "print(f'model.calc_elbo(): model losses:')\n",
    "for k in all_losses.keys():\n",
    "    print(f'{k}: {all_losses[k]}')"
   ]
  },
  {
   "cell_type": "markdown",
   "metadata": {},
   "source": [
    "`loss`: the complete loss (for `loss.backward()`)\n",
    "\n",
    "`psnr`: mean PSNR\n",
    "\n",
    "`kl`: complete kl-divergence (of all components)\n",
    "\n",
    "`kl_dyn`: # dynamics kl\n",
    "\n",
    "`loss_rec`: reconstruction loss\n",
    "\n",
    "`obj_on_l1`: if all particles are \"on\" then obj_on_l1=n_particles, effective # of visible particles\n",
    "\n",
    "`loss_kl_kp`: kl of the position\n",
    "\n",
    "`loss_kl_feat`: kl of the visual features\n",
    "\n",
    "`loss_kl_obj_on`: kl of the transparency\n",
    "\n",
    "`loss_kl_scale`: kl of the scale\n",
    "\n",
    "`loss_kl_depth`: kl of the depth"
   ]
  },
  {
   "cell_type": "code",
   "execution_count": 19,
   "metadata": {},
   "outputs": [
    {
     "name": "stdout",
     "output_type": "stream",
     "text": [
      "model.sample(): model dynamics unrolling:\n",
      "sample_out: torch.Size([1, 20, 3, 64, 64])\n",
      "sample_z_out:\n",
      "z_pos: torch.Size([1, 20, 12, 2])\n",
      "z_scale: torch.Size([1, 20, 12, 2])\n",
      "z_obj_on: torch.Size([1, 20, 12])\n",
      "z_depth: torch.Size([1, 20, 12, 1])\n",
      "z_features: torch.Size([1, 20, 12, 6])\n",
      "z_bg_features: torch.Size([1, 20, 6])\n",
      "z_ids: torch.Size([1, 20, 12])\n"
     ]
    }
   ],
   "source": [
    "# sampling\n",
    "num_steps = 15  # how many frames to generate\n",
    "cond_steps = 5  # how many frames are conditional\n",
    "x = torch.rand(1, num_steps + cond_steps, ch, image_size, image_size, device=device)\n",
    "sample_out, sample_z_out = model.sample(x, cond_steps=cond_steps, num_steps=num_steps, deterministic=True,\n",
    "                                        return_z=True)\n",
    "# let's see what's inside\n",
    "print(f'model.sample(): model dynamics unrolling:')\n",
    "print(f'sample_out: {sample_out.shape}')\n",
    "print(f'sample_z_out:')\n",
    "for k in sample_z_out.keys():\n",
    "    print(f'{k}: {sample_z_out[k].shape}')"
   ]
  },
  {
   "cell_type": "markdown",
   "metadata": {},
   "source": [
    "`sample_out`: torch.Size([1, 20, 3, 64, 64])  #  generated frames\n",
    "\n",
    "`sample_z_out`:  # latent unrolls\n",
    "\n",
    "`z_pos`: torch.Size([1, 20, 12, 2])\n",
    "\n",
    "`z_scale`: torch.Size([1, 20, 12, 2])\n",
    "\n",
    "`z_obj_on`: torch.Size([1, 20, 12])\n",
    "\n",
    "`z_depth`: torch.Size([1, 20, 12, 1])\n",
    "\n",
    "`z_features`: torch.Size([1, 20, 12, 6])\n",
    "\n",
    "`z_bg_features`: torch.Size([1, 20, 6])\n",
    "\n",
    "`z_ids`: torch.Size([1, 20, 12])  #  this is only used for the balls-interaction dataset, each particle gets an id"
   ]
  },
  {
   "cell_type": "markdown",
   "metadata": {},
   "source": [
    "## <img src=\"https://img.icons8.com/dusk/64/000000/prize.png\" style=\"height:50px;display:inline\"> Credits\n",
    "---\n",
    "* Icons from <a href=\"https://icons8.com/\">Icon8.com</a> - https://icons8.com"
   ]
  }
 ],
 "metadata": {
  "kernelspec": {
   "display_name": "Python 3",
   "language": "python",
   "name": "python3"
  },
  "language_info": {
   "codemirror_mode": {
    "name": "ipython",
    "version": 3
   },
   "file_extension": ".py",
   "mimetype": "text/x-python",
   "name": "python",
   "nbconvert_exporter": "python",
   "pygments_lexer": "ipython3",
   "version": "3.6.9"
  }
 },
 "nbformat": 4,
 "nbformat_minor": 5
}
